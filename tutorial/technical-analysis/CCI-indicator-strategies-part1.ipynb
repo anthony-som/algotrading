{
 "cells": [
  {
   "cell_type": "markdown",
   "metadata": {},
   "source": [
    "<div style=\"color:red\">\n",
    "    <h3>To-do:</h3>\n",
    "    <ul>\n",
    "        <li>Finish descriptions</li>\n",
    "    </ul>\n",
    "</div> "
   ]
  },
  {
   "cell_type": "markdown",
   "metadata": {},
   "source": [
    "## Ch. 2 - CCI Indicator Strategies (Part I)\n",
    "\n",
    "#### Introduction - What is \"CCI\"?\n",
    "\n",
    "Developed by Donald Lambert and featured in Commodities magazine in 1980, the <b>Commodity Channel Index (CCI)</b> is a versatile indicator that can be used to identify a new trend or warn of extreme conditions. Lambert originally developed CCI to identify cyclical turns in commodities, but the indicator can be successfully applied to indices, ETFs, stocks and other securities. In general, CCI measures the current price level relative to an average price level over a given period of time. CCI is relatively high when prices are far above their average, but is relatively low when prices are far below their average. In this manner, CCI can be used to identify overbought and oversold levels.\n",
    "\n",
    "In this tutorial, you will learn about:\n",
    "\n",
    "* CCI correction\n",
    "* Overbought & Oversold\n",
    "* Bullish & Bearish Divergence\n",
    "\n",
    "<hr size=\"5\"/>"
   ]
  },
  {
   "cell_type": "markdown",
   "metadata": {},
   "source": [
    "### Table of Contents\n",
    "\n",
    "* [1. Scrapping data with Beautiful Soup](#1.-Scrapping-data-with-Beautiful-Soup)\n",
    "    * [1.1 Scrapping real-time price for '0001.HK'](#1.1-Scrapping-real-time-price-for-'0001.HK')\n",
    "    * [1.2 Scrapping data for a list of stock tickers](#1.2-Scrapping-data-for-a-list-of-stock-tickers)\n",
    "* [2. TO-DO]\n",
    "* [3. TO-DO]"
   ]
  },
  {
   "cell_type": "markdown",
   "metadata": {},
   "source": [
    "### 1. CCI Correction\n",
    "\n",
    "(DESCRIPTION: TO-DO)\n",
    "\n",
    "TL;DR Buy when CCI surges above +100, sell when it plunges below -100.\n",
    "\n",
    " Requirements:\n",
    " * [Beautiful Soup](https://www.crummy.com/software/BeautifulSoup/bs4/doc/#installing-beautiful-soup)\n",
    " * pandas\n",
    " * [requests-html=0.10.0](https://pypi.org/project/requests-html/)"
   ]
  },
  {
   "cell_type": "code",
   "execution_count": 2,
   "metadata": {},
   "outputs": [],
   "source": [
    "# import libraries\n",
    "import pandas as pd\n",
    "import numpy as np\n",
    "import matplotlib.pyplot as plt"
   ]
  },
  {
   "cell_type": "code",
   "execution_count": 22,
   "metadata": {},
   "outputs": [
    {
     "data": {
      "text/html": [
       "<div>\n",
       "<style scoped>\n",
       "    .dataframe tbody tr th:only-of-type {\n",
       "        vertical-align: middle;\n",
       "    }\n",
       "\n",
       "    .dataframe tbody tr th {\n",
       "        vertical-align: top;\n",
       "    }\n",
       "\n",
       "    .dataframe thead th {\n",
       "        text-align: right;\n",
       "    }\n",
       "</style>\n",
       "<table border=\"1\" class=\"dataframe\">\n",
       "  <thead>\n",
       "    <tr style=\"text-align: right;\">\n",
       "      <th></th>\n",
       "      <th>Open</th>\n",
       "      <th>High</th>\n",
       "      <th>Low</th>\n",
       "      <th>Close</th>\n",
       "      <th>Volume</th>\n",
       "    </tr>\n",
       "    <tr>\n",
       "      <th>Date</th>\n",
       "      <th></th>\n",
       "      <th></th>\n",
       "      <th></th>\n",
       "      <th></th>\n",
       "      <th></th>\n",
       "    </tr>\n",
       "  </thead>\n",
       "  <tbody>\n",
       "    <tr>\n",
       "      <th>2019-01-02</th>\n",
       "      <td>151.824944</td>\n",
       "      <td>155.706587</td>\n",
       "      <td>151.178000</td>\n",
       "      <td>154.794983</td>\n",
       "      <td>37039700</td>\n",
       "    </tr>\n",
       "    <tr>\n",
       "      <th>2019-01-03</th>\n",
       "      <td>141.130823</td>\n",
       "      <td>142.836396</td>\n",
       "      <td>139.190009</td>\n",
       "      <td>139.376251</td>\n",
       "      <td>91312200</td>\n",
       "    </tr>\n",
       "    <tr>\n",
       "      <th>2019-01-04</th>\n",
       "      <td>141.669942</td>\n",
       "      <td>145.610396</td>\n",
       "      <td>140.954392</td>\n",
       "      <td>145.326126</td>\n",
       "      <td>58607100</td>\n",
       "    </tr>\n",
       "    <tr>\n",
       "      <th>2019-01-07</th>\n",
       "      <td>145.757453</td>\n",
       "      <td>145.884885</td>\n",
       "      <td>143.012857</td>\n",
       "      <td>145.002686</td>\n",
       "      <td>54777800</td>\n",
       "    </tr>\n",
       "    <tr>\n",
       "      <th>2019-01-08</th>\n",
       "      <td>146.600407</td>\n",
       "      <td>148.815694</td>\n",
       "      <td>145.580994</td>\n",
       "      <td>147.766861</td>\n",
       "      <td>41025300</td>\n",
       "    </tr>\n",
       "  </tbody>\n",
       "</table>\n",
       "</div>"
      ],
      "text/plain": [
       "                  Open        High         Low       Close    Volume\n",
       "Date                                                                \n",
       "2019-01-02  151.824944  155.706587  151.178000  154.794983  37039700\n",
       "2019-01-03  141.130823  142.836396  139.190009  139.376251  91312200\n",
       "2019-01-04  141.669942  145.610396  140.954392  145.326126  58607100\n",
       "2019-01-07  145.757453  145.884885  143.012857  145.002686  54777800\n",
       "2019-01-08  146.600407  148.815694  145.580994  147.766861  41025300"
      ]
     },
     "execution_count": 22,
     "metadata": {},
     "output_type": "execute_result"
    }
   ],
   "source": [
    "# load aapl csv file\n",
    "df = pd.read_csv('../../database/nasdaq_ticks_day/nasdaq_AAPL.csv', header=0, index_col='Date', parse_dates=True)\n",
    "\n",
    "# We select only the data from 2015-2019\n",
    "df = df.loc[pd.Timestamp('2019-01-01'):pd.Timestamp('2019-12-31')]\n",
    "\n",
    "df.head()"
   ]
  },
  {
   "cell_type": "code",
   "execution_count": 23,
   "metadata": {
    "tags": []
   },
   "outputs": [
    {
     "name": "stdout",
     "output_type": "stream",
     "text": [
      "            signal  Typical price         SMA  mean_deviation         CCI  \\\n",
      "Date                                                                        \n",
      "2019-01-02     0.0     153.893190  153.893190             NaN         NaN   \n",
      "2019-01-03     0.0     140.467552  147.180371        9.493360  -47.140452   \n",
      "2019-01-04     0.0     143.963638  146.108127        6.964988  -20.526368   \n",
      "2019-01-07     0.0     144.633476  145.739464        5.734489  -12.857736   \n",
      "2019-01-08     0.0     147.387850  146.069141        5.020628   17.510540   \n",
      "2019-01-09     0.0     149.472429  146.636356        4.700612   40.222745   \n",
      "2019-01-10     0.0     149.851467  147.095657        4.459802   41.194800   \n",
      "2019-01-11     0.0     149.482228  147.393979        4.214309   33.034278   \n",
      "2019-01-14     0.0     147.191811  147.371516        3.942701   -3.038610   \n",
      "2019-01-15     0.0     149.158776  147.550242        3.759935   28.520600   \n",
      "2019-01-16     0.0     151.547225  147.913604        3.765070   64.339160   \n",
      "2019-01-17     0.0     152.514351  148.296999        3.827656   73.454028   \n",
      "2019-01-18     0.0     153.788629  148.719432        3.968612   85.154804   \n",
      "2019-01-22     0.0     151.164925  148.894110        3.868531   39.133115   \n",
      "2019-01-23     0.0     150.547393  149.004329        3.752171   27.416374   \n",
      "2019-01-24     0.0     149.946180  149.063195        3.632581   16.204916   \n",
      "2019-01-25     0.0     153.635078  149.332129        3.687879   77.785423   \n",
      "2019-01-28     0.0     152.354262  149.500026        3.647990   52.160907   \n",
      "2019-01-29     0.0     152.560089  149.661082        3.614049   53.476638   \n",
      "2019-01-30     1.0     160.633774  150.209716        4.288812  162.034903   \n",
      "2019-01-31     1.0     163.368541  150.683484        5.153342  164.101361   \n",
      "2019-02-01     1.0     163.835784  151.851895        5.360164  149.048779   \n",
      "2019-02-04     1.0     166.698007  152.988614        5.974665  152.972535   \n",
      "2019-02-05     1.0     170.429357  154.278408        6.803001  158.272799   \n",
      "2019-02-06     1.0     170.772435  155.447637        7.527377  135.724987   \n",
      "2019-02-07     1.0     168.341494  156.391090        7.911727  100.697811   \n",
      "2019-02-08     0.0     167.183264  157.257680        8.104573   81.645956   \n",
      "2019-02-11     0.0     167.314503  158.149294        8.184647   74.653673   \n",
      "2019-02-12     0.0     167.872340  159.183320        8.032393   72.116491   \n",
      "2019-02-13     0.0     168.197191  160.135241        7.909031   67.955650   \n",
      "...            ...            ...         ...             ...         ...   \n",
      "2019-11-18     0.0     264.905845  252.137710        8.947319   95.135646   \n",
      "2019-11-19     0.0     265.210955  253.465299        8.810953   88.871621   \n",
      "2019-11-20     0.0     261.891189  254.530018        8.453434   58.052710   \n",
      "2019-11-21     0.0     261.072011  255.511620        7.980000   46.452723   \n",
      "2019-11-22     0.0     260.607694  256.370810        7.521969   37.551193   \n",
      "2019-11-25     0.0     263.768289  257.242046        7.305429   59.556102   \n",
      "2019-11-26     0.0     263.310597  258.245970        6.626932   50.949938   \n",
      "2019-11-27     0.0     265.691837  259.465507        5.491502   75.587463   \n",
      "2019-11-29     0.0     265.698471  260.595768        4.092511   83.122608   \n",
      "2019-12-02     0.0     263.944056  261.213088        3.560364   51.136490   \n",
      "2019-12-03     0.0     257.115486  261.326629        3.378130  -83.105979   \n",
      "2019-12-04     0.0     260.584487  261.598573        3.058121  -22.106958   \n",
      "2019-12-05     0.0     263.393537  262.036432        2.601669   34.775218   \n",
      "2019-12-06     1.0     268.305200  262.552475        2.773531  138.276806   \n",
      "2019-12-09     0.0     266.189289  262.970348        2.651777   80.925367   \n",
      "2019-12-10     0.0     266.779641  263.326205        2.662040   86.485933   \n",
      "2019-12-11     1.0     268.756274  263.735790        2.839075  117.890121   \n",
      "2019-12-12     1.0     269.077953  264.084350        3.048741  109.194861   \n",
      "2019-12-13     1.0     272.407674  264.611005        3.520235  147.654341   \n",
      "2019-12-16     1.0     277.796909  265.325370        4.576241  181.685355   \n",
      "2019-12-17     1.0     278.907954  266.025475        5.488770  156.470743   \n",
      "2019-12-18     1.0     278.834987  266.706677        6.183785  130.753907   \n",
      "2019-12-19     1.0     278.632671  267.543751        6.615656  111.744214   \n",
      "2019-12-20     1.0     278.798488  268.430075        6.884940  100.397036   \n",
      "2019-12-23     1.0     281.441717  269.471776        7.207657  110.715051   \n",
      "2019-12-24     1.0     282.589214  270.412822        7.639516  106.257961   \n",
      "2019-12-26     1.0     286.738123  271.584198        8.263787  122.251650   \n",
      "2019-12-27     1.0     289.159119  272.757563        9.015004  121.290808   \n",
      "2019-12-30     1.0     288.343279  273.889803        9.491215  101.521787   \n",
      "2019-12-31     1.0     290.804066  275.232803        9.901306  104.843155   \n",
      "\n",
      "            positions  \n",
      "Date                   \n",
      "2019-01-02        NaN  \n",
      "2019-01-03        0.0  \n",
      "2019-01-04        0.0  \n",
      "2019-01-07        0.0  \n",
      "2019-01-08        0.0  \n",
      "2019-01-09        0.0  \n",
      "2019-01-10        0.0  \n",
      "2019-01-11        0.0  \n",
      "2019-01-14        0.0  \n",
      "2019-01-15        0.0  \n",
      "2019-01-16        0.0  \n",
      "2019-01-17        0.0  \n",
      "2019-01-18        0.0  \n",
      "2019-01-22        0.0  \n",
      "2019-01-23        0.0  \n",
      "2019-01-24        0.0  \n",
      "2019-01-25        0.0  \n",
      "2019-01-28        0.0  \n",
      "2019-01-29        0.0  \n",
      "2019-01-30        1.0  \n",
      "2019-01-31        0.0  \n",
      "2019-02-01        0.0  \n",
      "2019-02-04        0.0  \n",
      "2019-02-05        0.0  \n",
      "2019-02-06        0.0  \n",
      "2019-02-07        0.0  \n",
      "2019-02-08       -1.0  \n",
      "2019-02-11        0.0  \n",
      "2019-02-12        0.0  \n",
      "2019-02-13        0.0  \n",
      "...               ...  \n",
      "2019-11-18        0.0  \n",
      "2019-11-19        0.0  \n",
      "2019-11-20        0.0  \n",
      "2019-11-21        0.0  \n",
      "2019-11-22        0.0  \n",
      "2019-11-25        0.0  \n",
      "2019-11-26        0.0  \n",
      "2019-11-27        0.0  \n",
      "2019-11-29        0.0  \n",
      "2019-12-02        0.0  \n",
      "2019-12-03        0.0  \n",
      "2019-12-04        0.0  \n",
      "2019-12-05        0.0  \n",
      "2019-12-06        1.0  \n",
      "2019-12-09       -1.0  \n",
      "2019-12-10        0.0  \n",
      "2019-12-11        1.0  \n",
      "2019-12-12        0.0  \n",
      "2019-12-13        0.0  \n",
      "2019-12-16        0.0  \n",
      "2019-12-17        0.0  \n",
      "2019-12-18        0.0  \n",
      "2019-12-19        0.0  \n",
      "2019-12-20        0.0  \n",
      "2019-12-23        0.0  \n",
      "2019-12-24        0.0  \n",
      "2019-12-26        0.0  \n",
      "2019-12-27        0.0  \n",
      "2019-12-30        0.0  \n",
      "2019-12-31        0.0  \n",
      "\n",
      "[252 rows x 6 columns]\n"
     ]
    }
   ],
   "source": [
    "signals = pd.DataFrame(index=df.index)\n",
    "signals['signal'] = 0.0\n",
    "\n",
    "signals['Typical price'] = (df['High'] + df['Low'] + df['Close']) / 3\n",
    "signals['SMA'] = signals['Typical price'].rolling(window=20, min_periods=1, center=False).mean()\n",
    "\n",
    "signals['mean_deviation'] = signals['Typical price'].rolling(window=20, min_periods=1, center=False).std()\n",
    "\n",
    "signals['CCI'] = (signals['Typical price'] - signals['SMA']) / (0.015 * signals['mean_deviation'])\n",
    "\n",
    "# Generate buy signal\n",
    "signals.loc[signals['CCI'] > 100, 'signal'] = 1.0\n",
    "\n",
    "# Generate sell signal\n",
    "signals.loc[signals['CCI'] < -100, 'signal'] = -1.0\n",
    "\n",
    "signals['positions'] = signals['signal'].diff()\n",
    "\n",
    "print(signals)"
   ]
  },
  {
   "cell_type": "markdown",
   "metadata": {},
   "source": [
    "### 2. Overbought and Oversold\n",
    "\n",
    "Tl;DR Buy when 14-day CCI falls below -100 and then rises back above, sell when it rises above +100 and then falls back below.\n",
    "\n",
    "An asset is considered overbought when the 14-day CCI rises above +100 and then falls back below. It’s at that point that a sell signal is generated. On the flip side, when the 14-day CCI falls below -100, and then rises back above, a buy signal is generated."
   ]
  },
  {
   "cell_type": "code",
   "execution_count": 1,
   "metadata": {},
   "outputs": [
    {
     "ename": "NameError",
     "evalue": "name 'plt' is not defined",
     "output_type": "error",
     "traceback": [
      "\u001b[0;31m---------------------------------------------------------------------------\u001b[0m",
      "\u001b[0;31mNameError\u001b[0m                                 Traceback (most recent call last)",
      "\u001b[0;32m<ipython-input-1-908546122144>\u001b[0m in \u001b[0;36m<module>\u001b[0;34m\u001b[0m\n\u001b[1;32m      1\u001b[0m \u001b[0;31m# Initialize the plot figure\u001b[0m\u001b[0;34m\u001b[0m\u001b[0;34m\u001b[0m\u001b[0;34m\u001b[0m\u001b[0m\n\u001b[0;32m----> 2\u001b[0;31m \u001b[0mfig\u001b[0m \u001b[0;34m=\u001b[0m \u001b[0mplt\u001b[0m\u001b[0;34m.\u001b[0m\u001b[0mfigure\u001b[0m\u001b[0;34m(\u001b[0m\u001b[0;34m)\u001b[0m\u001b[0;34m\u001b[0m\u001b[0;34m\u001b[0m\u001b[0m\n\u001b[0m\u001b[1;32m      3\u001b[0m \u001b[0;34m\u001b[0m\u001b[0m\n\u001b[1;32m      4\u001b[0m \u001b[0;31m# Add a subplot and label for y-axis\u001b[0m\u001b[0;34m\u001b[0m\u001b[0;34m\u001b[0m\u001b[0;34m\u001b[0m\u001b[0m\n\u001b[1;32m      5\u001b[0m \u001b[0max1\u001b[0m \u001b[0;34m=\u001b[0m \u001b[0mfig\u001b[0m\u001b[0;34m.\u001b[0m\u001b[0madd_subplot\u001b[0m\u001b[0;34m(\u001b[0m\u001b[0;36m111\u001b[0m\u001b[0;34m,\u001b[0m  \u001b[0mylabel\u001b[0m\u001b[0;34m=\u001b[0m\u001b[0;34m'Price in $'\u001b[0m\u001b[0;34m)\u001b[0m\u001b[0;34m\u001b[0m\u001b[0;34m\u001b[0m\u001b[0m\n",
      "\u001b[0;31mNameError\u001b[0m: name 'plt' is not defined"
     ]
    }
   ],
   "source": [
    "# Initialize the plot figure\n",
    "fig = plt.figure()\n",
    "\n",
    "# Add a subplot and label for y-axis\n",
    "ax1 = fig.add_subplot(111,  ylabel='Price in $')\n",
    "\n",
    "# Plot the closing price\n",
    "aapl['Close'].plot(ax=ax1, color='r', lw=2.)\n",
    "\n",
    "# Plot the short and long moving averages\n",
    "signals[['short_mavg', 'long_mavg']].plot(ax=ax1, lw=2.)\n",
    "\n",
    "# Plot the buy signals\n",
    "ax1.plot(signals.loc[signals.positions == 1.0].index, \n",
    "         signals.short_mavg[signals.positions == 1.0],\n",
    "         '^', markersize=10, color='m')\n",
    "         \n",
    "# Plot the sell signals\n",
    "ax1.plot(signals.loc[signals.positions == -1.0].index, \n",
    "         signals.short_mavg[signals.positions == -1.0],\n",
    "         'v', markersize=10, color='k')\n",
    "         \n",
    "# Show the plot\n",
    "plt.show()"
   ]
  },
  {
   "cell_type": "markdown",
   "metadata": {},
   "source": [
    "### 3. Backtesting"
   ]
  },
  {
   "cell_type": "code",
   "execution_count": 15,
   "metadata": {},
   "outputs": [
    {
     "data": {
      "text/html": [
       "<div>\n",
       "<style scoped>\n",
       "    .dataframe tbody tr th:only-of-type {\n",
       "        vertical-align: middle;\n",
       "    }\n",
       "\n",
       "    .dataframe tbody tr th {\n",
       "        vertical-align: top;\n",
       "    }\n",
       "\n",
       "    .dataframe thead th {\n",
       "        text-align: right;\n",
       "    }\n",
       "</style>\n",
       "<table border=\"1\" class=\"dataframe\">\n",
       "  <thead>\n",
       "    <tr style=\"text-align: right;\">\n",
       "      <th></th>\n",
       "      <th>AAPL</th>\n",
       "      <th>holdings</th>\n",
       "      <th>cash</th>\n",
       "      <th>total</th>\n",
       "      <th>returns</th>\n",
       "    </tr>\n",
       "    <tr>\n",
       "      <th>Date</th>\n",
       "      <th></th>\n",
       "      <th></th>\n",
       "      <th></th>\n",
       "      <th></th>\n",
       "      <th></th>\n",
       "    </tr>\n",
       "  </thead>\n",
       "  <tbody>\n",
       "    <tr>\n",
       "      <th>2015-01-02</th>\n",
       "      <td>0.0</td>\n",
       "      <td>0.0</td>\n",
       "      <td>100000.0</td>\n",
       "      <td>100000.0</td>\n",
       "      <td>NaN</td>\n",
       "    </tr>\n",
       "    <tr>\n",
       "      <th>2015-01-05</th>\n",
       "      <td>0.0</td>\n",
       "      <td>0.0</td>\n",
       "      <td>100000.0</td>\n",
       "      <td>100000.0</td>\n",
       "      <td>0.0</td>\n",
       "    </tr>\n",
       "    <tr>\n",
       "      <th>2015-01-06</th>\n",
       "      <td>0.0</td>\n",
       "      <td>0.0</td>\n",
       "      <td>100000.0</td>\n",
       "      <td>100000.0</td>\n",
       "      <td>0.0</td>\n",
       "    </tr>\n",
       "    <tr>\n",
       "      <th>2015-01-07</th>\n",
       "      <td>0.0</td>\n",
       "      <td>0.0</td>\n",
       "      <td>100000.0</td>\n",
       "      <td>100000.0</td>\n",
       "      <td>0.0</td>\n",
       "    </tr>\n",
       "    <tr>\n",
       "      <th>2015-01-08</th>\n",
       "      <td>0.0</td>\n",
       "      <td>0.0</td>\n",
       "      <td>100000.0</td>\n",
       "      <td>100000.0</td>\n",
       "      <td>0.0</td>\n",
       "    </tr>\n",
       "  </tbody>\n",
       "</table>\n",
       "</div>"
      ],
      "text/plain": [
       "            AAPL  holdings      cash     total  returns\n",
       "Date                                                   \n",
       "2015-01-02   0.0       0.0  100000.0  100000.0      NaN\n",
       "2015-01-05   0.0       0.0  100000.0  100000.0      0.0\n",
       "2015-01-06   0.0       0.0  100000.0  100000.0      0.0\n",
       "2015-01-07   0.0       0.0  100000.0  100000.0      0.0\n",
       "2015-01-08   0.0       0.0  100000.0  100000.0      0.0"
      ]
     },
     "execution_count": 15,
     "metadata": {},
     "output_type": "execute_result"
    }
   ],
   "source": [
    "# Set the initial capital\n",
    "initial_capital= float(100000.0)\n",
    "\n",
    "# Create a DataFrame `positions`\n",
    "positions = pd.DataFrame(index=signals.index).fillna(0.0)\n",
    "\n",
    "# Buy a 100 shares\n",
    "positions['AAPL'] = 100*signals['signal']   \n",
    "  \n",
    "# Initialize the portfolio with value owned   \n",
    "portfolio = positions.multiply(aapl['Close'], axis=0)\n",
    "\n",
    "# Store the difference in shares owned \n",
    "pos_diff = positions.diff()\n",
    "\n",
    "# Add `holdings` to portfolio\n",
    "portfolio['holdings'] = (positions.multiply(aapl['Close'], axis=0)).sum(axis=1)\n",
    "\n",
    "# Add `cash` to portfolio\n",
    "portfolio['cash'] = initial_capital - (pos_diff.multiply(aapl['Close'], axis=0)).sum(axis=1).cumsum()   \n",
    "\n",
    "# Add `total` to portfolio\n",
    "portfolio['total'] = portfolio['cash'] + portfolio['holdings']\n",
    "\n",
    "# Add `returns` to portfolio\n",
    "portfolio['returns'] = portfolio['total'].pct_change()\n",
    "\n",
    "# Print the first lines of `portfolio`\n",
    "portfolio.head()"
   ]
  },
  {
   "cell_type": "code",
   "execution_count": 16,
   "metadata": {},
   "outputs": [
    {
     "data": {
      "image/png": "[encoded data removed]",
      "text/plain": [
       "<Figure size 432x288 with 1 Axes>"
      ]
     },
     "metadata": {
      "needs_background": "light"
     },
     "output_type": "display_data"
    }
   ],
   "source": [
    "# Create a figure\n",
    "fig = plt.figure()\n",
    "\n",
    "ax1 = fig.add_subplot(111, ylabel='Portfolio value in $')\n",
    "\n",
    "# Plot the equity curve in dollars\n",
    "portfolio['total'].plot(ax=ax1, lw=2.)\n",
    "\n",
    "ax1.plot(portfolio.loc[signals.positions == 1.0].index, \n",
    "         portfolio.total[signals.positions == 1.0],\n",
    "         '^', markersize=10, color='m')\n",
    "ax1.plot(portfolio.loc[signals.positions == -1.0].index, \n",
    "         portfolio.total[signals.positions == -1.0],\n",
    "         'v', markersize=10, color='k')\n",
    "\n",
    "# Show the plot\n",
    "plt.show()"
   ]
  },
  {
   "cell_type": "markdown",
   "metadata": {},
   "source": [
    "### 4. Evaluate strategy"
   ]
  },
  {
   "cell_type": "markdown",
   "metadata": {},
   "source": [
    "#### 4.1 Sharpe ratio"
   ]
  },
  {
   "cell_type": "code",
   "execution_count": 17,
   "metadata": {},
   "outputs": [
    {
     "name": "stdout",
     "output_type": "stream",
     "text": [
      "0.8311190106415088\n"
     ]
    }
   ],
   "source": [
    "# Isolate the returns of your strategy\n",
    "returns = portfolio['returns']\n",
    "\n",
    "# annualized Sharpe ratio\n",
    "sharpe_ratio = np.sqrt(252) * (returns.mean() / returns.std())\n",
    "\n",
    "# Print the Sharpe ratio\n",
    "print(sharpe_ratio)"
   ]
  },
  {
   "cell_type": "markdown",
   "metadata": {},
   "source": [
    "#### 4.2 Maximum dropdown"
   ]
  },
  {
   "cell_type": "code",
   "execution_count": 19,
   "metadata": {},
   "outputs": [
    {
     "data": {
      "image/png": "[encoded data removed]",
      "text/plain": [
       "<Figure size 432x288 with 1 Axes>"
      ]
     },
     "metadata": {
      "needs_background": "light"
     },
     "output_type": "display_data"
    }
   ],
   "source": [
    "# Define a trailing 252 trading day window\n",
    "window = 252\n",
    "\n",
    "# Calculate the max drawdown in the past window days for each day \n",
    "rolling_max = aapl['Close'].rolling(window, min_periods=1).max()\n",
    "daily_drawdown = aapl['Close']/rolling_max - 1.0\n",
    "\n",
    "# Calculate the minimum (negative) daily drawdown\n",
    "max_daily_drawdown = daily_drawdown.rolling(window, min_periods=1).min()\n",
    "\n",
    "# Plot the results\n",
    "daily_drawdown.plot()\n",
    "max_daily_drawdown.plot()\n",
    "\n",
    "# Show the plot\n",
    "plt.show()"
   ]
  },
  {
   "cell_type": "markdown",
   "metadata": {},
   "source": [
    "#### 3. Compound Annual Growth Rate (CAGR)"
   ]
  },
  {
   "cell_type": "code",
   "execution_count": 21,
   "metadata": {},
   "outputs": [
    {
     "name": "stdout",
     "output_type": "stream",
     "text": [
      "0.24654176746201206\n"
     ]
    }
   ],
   "source": [
    "# Get the number of days in `aapl`\n",
    "days = (aapl.index[-1] - aapl.index[0]).days\n",
    "\n",
    "# Calculate the CAGR \n",
    "cagr = ((((aapl['Close'][-1]) / aapl['Close'][1])) ** (365.0/days)) - 1\n",
    "\n",
    "# Print the CAGR\n",
    "print(cagr)"
   ]
  },
  {
   "cell_type": "markdown",
   "metadata": {},
   "source": [
    "### References:\n",
    "* [StockCharts - Commodity Channel Index (CCI)](https://school.stockcharts.com/doku.php?id=technical_indicators:commodity_channel_index_cci)\n",
    "* [CCI Indicator strategy comparison](https://investsomemoney.com/cci-indicator-strategy/)"
   ]
  },
  {
   "cell_type": "code",
   "execution_count": null,
   "metadata": {},
   "outputs": [],
   "source": []
  }
 ],
 "metadata": {
  "kernelspec": {
   "display_name": "Python 3",
   "language": "python",
   "name": "python3"
  },
  "language_info": {
   "codemirror_mode": {
    "name": "ipython",
    "version": 3
   },
   "file_extension": ".py",
   "mimetype": "text/x-python",
   "name": "python",
   "nbconvert_exporter": "python",
   "pygments_lexer": "ipython3",
   "version": "3.7.4"
  }
 },
 "nbformat": 4,
 "nbformat_minor": 2
}
