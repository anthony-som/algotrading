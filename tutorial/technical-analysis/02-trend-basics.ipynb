{
 "cells": [
  {
   "cell_type": "markdown",
   "metadata": {},
   "source": [
    "<div style=\"color:red\">\n",
    "    <h3>To-do:</h3>\n",
    "    <ul>\n",
    "        <li>Finish descriptions</li>\n",
    "    </ul>\n",
    "</div> "
   ]
  },
  {
   "cell_type": "markdown",
   "metadata": {},
   "source": [
    "## Ch. 1 - Charts interpretation\n",
    "\n",
    "In this tutorial, you will learn how to:\n",
    "\n",
    "* Interpret technical analysis charts\n",
    "\n",
    "<hr size=\"5\"/>"
   ]
  },
  {
   "cell_type": "markdown",
   "metadata": {},
   "source": [
    "### Table of Contents\n",
    "\n",
    "* [1.1 Read csv file from database](#1.1-Read-csv-file-from-database)\n",
    "* [1.2 Resampling](#1.2-Resampling)\n",
    "* [1.3 Visualising time series data](#1.3-Visualising-time-series-data)"
   ]
  },
  {
   "cell_type": "code",
   "execution_count": null,
   "metadata": {},
   "outputs": [],
   "source": []
  }
 ],
 "metadata": {
  "kernelspec": {
   "display_name": "Python 3",
   "language": "python",
   "name": "python3"
  },
  "language_info": {
   "codemirror_mode": {
    "name": "ipython",
    "version": 3
   },
   "file_extension": ".py",
   "mimetype": "text/x-python",
   "name": "python",
   "nbconvert_exporter": "python",
   "pygments_lexer": "ipython3",
   "version": "3.7.4"
  }
 },
 "nbformat": 4,
 "nbformat_minor": 2
}
