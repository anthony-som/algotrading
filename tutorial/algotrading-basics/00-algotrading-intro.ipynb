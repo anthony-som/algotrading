{
 "cells": [
  {
   "cell_type": "markdown",
   "metadata": {},
   "source": [
    "<div style=\"color:red\">\n",
    "    <h3>To-do:</h3>\n",
    "    <ul>\n",
    "        <li>Finish descriptions</li>\n",
    "        <li>Add figures</li>\n",
    "    </ul>\n",
    "</div> "
   ]
  },
  {
   "cell_type": "markdown",
   "metadata": {},
   "source": [
    "## Ch. 0 - Algorithmic trading basics\n",
    "\n",
    "Welcome to the first tutorial for algorithmic trading! \n",
    "\n",
    "In this tutorial, you will learn about:\n",
    "* The basics of algorithmic trading\n",
    "* Definition of technical analysis\n",
    "* Definition of fundamental analysis\n",
    "* Difference between technical analysis and fundamental analysis\n",
    "\n",
    "<hr size=\"5\"/>"
   ]
  },
  {
   "cell_type": "markdown",
   "metadata": {},
   "source": [
    "### Table of Contents\n",
    "\n",
    "* [1. What is algorthmic trading?](#1.-What-is-algorithmic-trading?)\n",
    "* [2. What is technical analysis?](#2.-What-is-technical-analysis?)\n",
    "* [3. What is fundamental analysis?](#3.-What-is-fundamental-analysis?)\n",
    "* [4. Technical analysis vs Fundamental analysis](#4.-Technical-analysis-vs-Fundamental-analysis)\n",
    "* [5. Conclusion](#5.-Conclusion)\n",
    "* [Appendix - Technical analysis in stocks vs futures]\n",
    "* [Appendix - Dow Theory]"
   ]
  },
  {
   "cell_type": "markdown",
   "metadata": {},
   "source": [
    "### 1. What is algorithmic trading?\n",
    "\n",
    "> <i>Algorithmic trading</i> (a.k.a. algo trading) is the use of computer codes and chart analysis to enter and exit trades automatically according to set parameters such as price movements or volatility levels.\n",
    "\n",
    "In algo trading, one writes an algorithm and instruct a computer to buy or sell stocks for you when the defined conditions are met. These programs can trade at at speed and frequency that is much higher than that of a human trader, and the process can be semi-automated or completely automated. This is why sometimes we could use the term <b>\"automated trading\"</b> interchangelably, but note that they are not necesssarily referring to the same thing.\n",
    "\n",
    "An algorithmic trading system does the following things:\n",
    "* Inspect data, charts, quotes or news and generate trade signals as per your strategy\n",
    "* Fill in order details when a trade signal is found\n",
    "* Monitor and evaluate trades to see if they reached your target or went in the opposite direction\n",
    "* Close positions to either book profits or cut losses\n",
    "* Rinse and repeat\n",
    "\n",
    "\n",
    "#### 1.1 Automated Trading\n",
    "\n",
    "Automated Trading is the absolute automation of the trading process. Trading orders are automatically created, submitted to the market and executed. Automated trading facilities are usually utilized by hedge funds that exploit proprietary execution algorithms and trade via Direct-Market Access (DMA) or sponsored access.\n",
    "\n",
    "#### 1.2 High-frequency Trading (HFT)\n",
    "\n",
    "High-frequency Trading (HFT) is a subset of automated trading. Technology has enabled orders to be made within milliseconds. As execution speed is of a priority here, HFT makes use of Direct-Market Access (DMA) in order to reduce the time transactions. You can read more about HFT [here](https://www.forbes.com/sites/billconerly/2014/04/14/high-frequency-trading-explained-simply/#716eba0f3da8).\n",
    "\n",
    "##### Summary\n",
    "\n",
    "- <b>Algorithmic Trading</b>: execution process based on an algorithm\n",
    "- <b>Automated Trading</b>: as it name implies, automate the trading process\n",
    "- <b>High-frequency Trading</b>: ultra-fast automated trading\n",
    "\n",
    "There are two major schools of methods for analysing the market, which are (1) technical analysis and (2) fundamental analysis. We'll go through both of these in detail respectively in the coming tutorials."
   ]
  },
  {
   "cell_type": "markdown",
   "metadata": {},
   "source": [
    "### 2. What is technical analysis?\n",
    "\n",
    "> <i>Technical analysis</i> is the study of market action, primarily through the use of charts, for the purpose of forecasting future price trends. - John J. Murphy\n",
    "\n",
    "Here, the term <i>\"market action\"</i> (or price data, as some people call it) refers to to any combination of the open, high, low, close, volume, or open interest for a given security over a specific timeframe. The timeframe can be based on intraday (1-minute, 5-minutes, 10-minutes, 15-minutes, 30-minutes or hourly), daily, weekly or monthly price data and last a few hours or many years.\n",
    "\n",
    "<hr size=\"5\"/>\n",
    "\n",
    "#### 2.1 Rationale of technical analysis\n",
    "The techinical approach is based on three premises:\n",
    "\n",
    "##### (1) Market Action Discounts Everything\n",
    "\n",
    "This assumption states that any factor that could possibly affect the stock's price - fundamental, political, psychological, or otherwise - is fully reflected in the price of that stock. In other words, it is presumed that prices should reflect shifts in demand and supply. For example, if prices are rising, no matter the reasons behind, demand must exceed supply and thus the fundamentals must be bullish. Conversely, if prices fall, the fundamentals must be bearish.\n",
    "\n",
    "Hence as a rule, technicians do not concern themselves with the reasons why prices rise or fall. If everything that affects the market prices is ultimately reflected in market price, then it makes sense that they study of that market price is all that is necessary. That's why this assumption serves as a cornerstone for technical analysis to work.\n",
    "\n",
    "##### (2) Prices Move in Trends\n",
    "\n",
    "Unless one accepts that markets do in fact trend, there's no point in reading any further. Given the assumption that prices move in trends, we obtain the corollary that <i>a trend in motion is likely to continue than to reverse</i>. Just like Newton's first law of motion. The entire trend-following approach is predicated on riding an existing trend, until a sign of reversing is observed. \n",
    "\n",
    "##### (3) History repeats itself\n",
    "\n",
    "Under this assumption, it is believed that the key to understanding the future lies in a study of the past. Charts tend to form shapes that have occurred in the past, and thus the analysis of historical patterns helps predict future market movements.\n",
    "\n",
    "<hr size=\"5\"/>\n",
    "\n",
    "#### 2.2 History of technical analysis\n",
    "\n",
    "\n",
    "<p style=\"color:red\">(TO-DO)</p>\n",
    "\n",
    "Technical analysis - earlier as visual analysis or chart analysis\n",
    "\n",
    "With digitalisation - technical indicator\n",
    "\n",
    "\n",
    "#### 2.3 Pros and cons of technical analysis\n",
    "\n",
    "##### Pros\n",
    "* Objectiveness\n",
    "* Mathematical precision\n",
    "* Emotional indifference\n",
    "* Inexpensive\n",
    "\n",
    "##### Cons\n",
    "* Self-fulfilling prophecy\n",
    "* The future keeps running away \n",
    "* Conflicting signals from different indicators\n",
    "* Substantial movements might have taken place when a pattern is identified\n"
   ]
  },
  {
   "cell_type": "markdown",
   "metadata": {},
   "source": [
    "### 3. What is fundamental analysis?\n",
    "\n",
    "While technical analysis concentrates on the study of market action, the fundamental analysis focuses on the economic forces of supply and demand that leads to price movements.\n",
    "\n",
    "> The fundamental approach examines all of the relevant factors affecting the price of a stock in order to determine the intrinsic value of that stock. - John J. Murphy\n",
    "\n",
    "The term <i>\"intrinsic value\"</i> here refers to what the stock is actually worth based on the law of supply and demand. If the intrinsic value is below the current market price, it means that the stock is overpriced and thus it should be sold. Conversely, if the intrinsic value is above the price, then the market is undervalued and that stock should be bought.\n",
    "\n",
    "#### 3.1 Rationale of fundamental analysis\n",
    "\n",
    "<p style=\"color:red\">(TO-DO)</p>\n",
    "\n",
    "#### 3.2 History of fundamental analysis\n",
    "\n",
    "<p style=\"color:red\">(TO-DO)</p>\n",
    "\n",
    "#### 3.3 Pros and cons of fundamental analysis\n",
    "\n",
    "<p style=\"color:red\">(TO-DO)</p>\n",
    "\n",
    "##### Pros\n",
    "* \n",
    "\n",
    "##### Cons"
   ]
  },
  {
   "cell_type": "markdown",
   "metadata": {},
   "source": [
    "### 4. Technical analysis vs Fundamental analysis\n",
    "\n",
    "Both of these approaches intend to solve the same problem - to determine the direction that prices are liekly to move. While technical analysis focuses more on answering the question of \"when to buy\", fundamental analysis helps us find an answer to the question of \"what to buy\".\n",
    "\n",
    "> The fundamentalist studies the cause of market movement, while the technician studies the effect. - John J. Murphy\n",
    "\n",
    "Theoretically, the technician would, according to the assumptions, ignore the reasons that cause prices to change, and the fundamentalist would constantly be digging into the causes of price movements. However, in reality there is a lot of overlap between these two approaches, and they are not mutually exclusive. The problem of using a combination of both, is that the technical indicators and fundamentals might come in conflict with each other, and such descrepancies especially occur at the most critical moments.\n",
    "\n",
    "Some people believe the fact that <i><b>\"market price tends to lead the known fundamentals\"</b></i> accounts for this phenomenon. Put it in another way, it implies that the market price acts as a leading indicator of the fundamentals. While the known fundamentals are already reflected \"in the market\", they are now reacting to the unknown fundamentals, and thus inducing the discrepancy.\n",
    "    \n",
    "In learning about the premises of technical analysis, one can see why technicians usually see their approach superior to fundamentalists'. Because, by definition, if the fundamentals are reflected in the market price, then technical approach includes the fundamental. Nevertheless, fundamental analysis does not include a study of market action. Therefore, whilee it is feasible to trade solely relying on technial approach, it is doubtful that anyone could trade off the fundamentals alone without any consideration of the technical side of the market."
   ]
  },
  {
   "cell_type": "markdown",
   "metadata": {},
   "source": [
    "### 5. Conclusion\n",
    "\n",
    "Algorithmic Trading has become increasingly popular in the recent decade, and it now accounts for the majority of trades in the market globally and has attributed to the success of some of the world's best-performing hedgee funds. Indeed, 84% of trades that happened in New York Stock Exchange (NYSE), and 60% in London Stock Exchange (LSE) were all done using algorithmic trading. Therefore, whether one is interested in making money with algo trading or not, studying algo trading would definitely bring you insights on how technolgy has been applied in stock markets and learn how algorithms have been shaping our modern day world."
   ]
  },
  {
   "cell_type": "markdown",
   "metadata": {},
   "source": [
    "### Appendix - Technical analysis in stocks vs futures\n",
    "\n",
    "<p style=\"color:red\">(TO-DO)</p>"
   ]
  },
  {
   "cell_type": "markdown",
   "metadata": {},
   "source": [
    "### Appendix - Dow Theory\n",
    "\n",
    "<p style=\"color:red\">(TO-DO)</p>"
   ]
  },
  {
   "cell_type": "markdown",
   "metadata": {},
   "source": [
    "### Disclaimer\n",
    "\n",
    "All investments entail inherent risk. This repository seeks to solely educate people on methodologies to build and evaluate algorithmic trading strategies. All final investment decisions are yours and as a result you could make or lose money. "
   ]
  },
  {
   "cell_type": "markdown",
   "metadata": {},
   "source": [
    "### References\n",
    "* Murphy, J. J. (1991). Technical analysis of the futures markets: A comprehensive guide to trading methods and applications. New York: New York Institute of Finance.\n",
    "* [CFI - Technical Analysis](https://corporatefinanceinstitute.com/resources/knowledge/trading-investing/technical-analysis/)\n",
    "* [IG - Technical Analysis definition](https://www.ig.com/en/glossary-trading-terms/technical-analysis-definition)\n",
    "* [FBS - Pros and Cons of Technical Analysis](https://fbs.com/analytics/tips/pros-and-cons-of-technical-analysis-and-indicators-21645)"
   ]
  },
  {
   "cell_type": "code",
   "execution_count": null,
   "metadata": {},
   "outputs": [],
   "source": []
  }
 ],
 "metadata": {
  "kernelspec": {
   "display_name": "Python 3",
   "language": "python",
   "name": "python3"
  },
  "language_info": {
   "codemirror_mode": {
    "name": "ipython",
    "version": 3
   },
   "file_extension": ".py",
   "mimetype": "text/x-python",
   "name": "python",
   "nbconvert_exporter": "python",
   "pygments_lexer": "ipython3",
   "version": "3.7.4"
  }
 },
 "nbformat": 4,
 "nbformat_minor": 2
}
