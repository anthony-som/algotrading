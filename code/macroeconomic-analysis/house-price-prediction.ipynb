{
 "cells": [
  {
   "cell_type": "markdown",
   "metadata": {},
   "source": [
    "# House price prediction"
   ]
  },
  {
   "cell_type": "markdown",
   "metadata": {},
   "source": [
    "**This house price prediction model is built based on the result of transaction data analysis**"
   ]
  },
  {
   "cell_type": "markdown",
   "metadata": {},
   "source": [
    "Data source:\n",
    "    \n",
    "1. Transaction records - Midland Realty"
   ]
  },
  {
   "cell_type": "markdown",
   "metadata": {
    "id": "3VU0v2CZBkP9"
   },
   "source": [
    "**Install libraries**"
   ]
  },
  {
   "cell_type": "code",
   "execution_count": 17,
   "metadata": {
    "id": "J9KQ3JvFBjWo"
   },
   "outputs": [],
   "source": [
    "#!brew install libomp\n",
    "#!pip3 install pandas\n",
    "#!pip3 install scikit-learn\n",
    "#!pip3 install xgboost"
   ]
  },
  {
   "cell_type": "markdown",
   "metadata": {
    "id": "8c5-bYw327zT"
   },
   "source": [
    "**Import libraries**"
   ]
  },
  {
   "cell_type": "code",
   "execution_count": 38,
   "metadata": {
    "executionInfo": {
     "elapsed": 2445,
     "status": "ok",
     "timestamp": 1610545445477,
     "user": {
      "displayName": "Kwanyoung Lee",
      "photoUrl": "",
      "userId": "17965056898907400088"
     },
     "user_tz": -480
    },
    "id": "JIhhSMzg27C4"
   },
   "outputs": [],
   "source": [
    "import random\n",
    "import pandas as pd\n",
    "import matplotlib.pyplot as plt\n",
    "import seaborn as sns\n",
    "import pandas as pd\n",
    "import numpy as np\n",
    "from sklearn.model_selection import train_test_split\n",
    "from sklearn.preprocessing import LabelEncoder\n",
    "\n",
    "from sklearn.metrics import mean_squared_log_error\n",
    "from sklearn.ensemble import RandomForestRegressor\n",
    "from sklearn.linear_model import LinearRegression\n",
    "import xgboost as xgb\n",
    "from sklearn.linear_model import Lasso"
   ]
  },
  {
   "cell_type": "markdown",
   "metadata": {
    "id": "cZTc2fwIEeq7"
   },
   "source": [
    "# **Data Importation and Pre-processing**"
   ]
  },
  {
   "cell_type": "markdown",
   "metadata": {
    "id": "D3pLume1Byxw"
   },
   "source": [
    "**Import Data**"
   ]
  },
  {
   "cell_type": "code",
   "execution_count": 2,
   "metadata": {
    "colab": {
     "base_uri": "https://localhost:8080/"
    },
    "executionInfo": {
     "elapsed": 18959,
     "status": "ok",
     "timestamp": 1610545462005,
     "user": {
      "displayName": "Kwanyoung Lee",
      "photoUrl": "",
      "userId": "17965056898907400088"
     },
     "user_tz": -480
    },
    "id": "Z7HZUUSgB1vi",
    "outputId": "fc44aba7-b363-4a7a-dc68-a72a6d5d6110"
   },
   "outputs": [],
   "source": [
    "# For google drive\n",
    "#from google.colab import drive\n",
    "#from google.colab import files\n",
    "\n",
    "#drive.mount('/content/drive')\n",
    "#data_dir = \"/content/drive/My Drive/FYP/midland/\""
   ]
  },
  {
   "cell_type": "code",
   "execution_count": 3,
   "metadata": {},
   "outputs": [],
   "source": [
    "# For local directory\n",
    "data_dir = \"./midland/\""
   ]
  },
  {
   "cell_type": "code",
   "execution_count": 4,
   "metadata": {
    "executionInfo": {
     "elapsed": 1090,
     "status": "ok",
     "timestamp": 1610545465637,
     "user": {
      "displayName": "Kwanyoung Lee",
      "photoUrl": "",
      "userId": "17965056898907400088"
     },
     "user_tz": -480
    },
    "id": "frShzSixJVbI"
   },
   "outputs": [],
   "source": [
    "hk_island = [\n",
    "  \"Chai_wan\", \"Heng_fa_chuen\", \"Shau_kei_wan\", \"Sai_wan_ho_tai_koo\", \"Quarry_bay\", \"North_point_fortress_hill\", \n",
    "  \"Braemar_hill_north_point_mid_level\", \"Jardines_lookout_tai_hang\", \"Happy_valley_mid_level_east\", \"Wan_chai_causeway_bay\", \n",
    "  \"Tin_hau\", \"Central_mid_level_admiralty\", \"Sheung_wan_central\", \"Hong_kong_west\", \"Western_mid_levels\", \"The_peak\", \n",
    "  \"Residence_bel_air_pokfulam\", \"Ap_lei_chau\", \"Aberdeen_wong_chuk_hang\", \"Repulse_bay_shou_son_hill\", \"Tai_tam_shek_o\", \"Stanley\"\n",
    "]\n",
    "\n",
    "kowloon = [\n",
    "  \"Tsim_sha_tsui\", \"Kowloon_station\", \"Yau_ma_tei\", \"Kingspark\", \"Mongkok\", \"Tai_kok_tsui\", \"Olympic\", \"Lai_chi_kok\", \"Mei_foo\", \n",
    "  \"Cheung_sha_wan_sham_shui_po\", \"Yau_yat_tsuen\", \"Kowloon_tong_beacon_hill\", \"Ho_man_tin\", \"Hung_hum\", \"To_kwa_wan\", \"Kai_tak\", \n",
    "  \"Kowloon_city\", \"Wong_tai_sin_lok_fu\", \"Diamond_hill_san_po_kong_ngau_chi_wan\", \"Kowloon_bay\", \"Kwun_tong\", \"Lam_tin_yau_tong\", \n",
    "  \"Lohas_park\", \"Tiu_keng_leng\", \"Hang_hau\", \"Po_lam_tseung_kwan_o_station\"\n",
    "]\n",
    "\n",
    "new_territory = [\n",
    "  \"Sai_kung_clear_water_bay\", \"Shatin\", \"Kau_to_shan_fotan\", \"Ma_on_shan\", \"Tai_po\", \"North\", \"Sheung_shui_fanling\", \"Hung_shui_kiu\", \n",
    "  \"Fairview_palm_springs_the_vineyard\", \"Tin_shui_wai\", \"Yuen_long\", \"Tuen_mun\", \"Tsuen_wan\", \"Sham_tseng\", \"Ma_wan\", \"Kwai_chung\", \n",
    "  \"Tsing_yi\", \"Discovery_bay\", \"Tung_chung\", \"Lan_tau_island\"\n",
    "]\n"
   ]
  },
  {
   "cell_type": "code",
   "execution_count": 14,
   "metadata": {
    "executionInfo": {
     "elapsed": 29452,
     "status": "ok",
     "timestamp": 1610545497320,
     "user": {
      "displayName": "Kwanyoung Lee",
      "photoUrl": "",
      "userId": "17965056898907400088"
     },
     "user_tz": -480
    },
    "id": "44KX7iaFCNoQ"
   },
   "outputs": [],
   "source": [
    "# Data directory\n",
    "dir_hk_island = \"./hk_island/\"\n",
    "dir_kowloon = \"./kowloon/\"\n",
    "dir_new_territory = \"./new_territory/\"\n",
    "\n",
    "def get_data_by_region(region_name, disctrict_dir):\n",
    "\n",
    "  region_df = pd.DataFrame()\n",
    "  for region in region_name:\n",
    "    new_df = pd.read_csv(data_dir+disctrict_dir+region+\".csv\")\n",
    "    region_df = pd.concat([region_df, new_df], axis=0)\n",
    "\n",
    "  # Data cleaning\n",
    "  region_df = region_df.drop(region_df.columns[0], axis=1)\n",
    "\n",
    "  region_df['tx_date'] = pd.to_datetime(region_df['tx_date'], dayfirst=True)\n",
    "  region_df['first_op_date'] = pd.to_datetime(region_df['first_op_date'], dayfirst=True)\n",
    "  region_df['last_tx_date'] = pd.to_datetime(region_df['last_tx_date'], dayfirst=True)\n",
    "\n",
    "  region_df['floor'] = region_df['floor'].replace(\"-\", np.nan)\n",
    "  region_df['flat'] = region_df['flat'].replace(\"-\", np.nan)\n",
    "\n",
    "  region_df['area'] = region_df['area'].replace(0, np.nan)\n",
    "  region_df['net_area'] = region_df['net_area'].replace(0, np.nan)\n",
    "  region_df['last_price'] = region_df['last_price'].replace(0, np.nan)\n",
    "  region_df['floor'] = region_df['floor'].astype('str') \n",
    "  region_df = region_df[~region_df['floor'].str.contains(\"&\") == True]\n",
    "  region_df['floor'] = region_df['floor'].replace(\"G\", 0).replace(\"LG\", 0).replace(\"LG1\", 0)\n",
    "  region_df['floor'] = region_df['floor'].apply(pd.to_numeric, errors = 'coerce')\n",
    "\n",
    "  region_df.sort_values(by=['tx_date'], inplace=True, ascending=False)\n",
    "\n",
    "  region_df = region_df.reset_index()\n",
    "  region_df = region_df.drop(['index'], axis=1)\n",
    "  return region_df\n",
    "\n",
    "def download_data(filename, download_data):\n",
    "  dataFrame = pd.DataFrame(data=download_data)\n",
    "  dataFrame.to_csv(filename)\n",
    "  files.download(filename)\n",
    "\n",
    "# Get data by region\n",
    "data_df_hk_island = get_data_by_region(hk_island, dir_hk_island)\n",
    "data_df_kowloon = get_data_by_region(kowloon, dir_kowloon)\n",
    "data_df_new_territory = get_data_by_region(new_territory, dir_new_territory)\n",
    "\n",
    "# Get all region data\n",
    "data_df_all = pd.concat([data_df_hk_island, data_df_kowloon, data_df_new_territory], axis=0)\n",
    "data_df_all.sort_values(by=['tx_date'], inplace=True, ascending=False)\n",
    "data_df_all = data_df_all.reset_index()\n",
    "data_df_all = data_df_all.drop(['index'], axis=1)\n",
    "\n",
    "data_df_all.columns = ['region', 'subregion', 'district', 'estate', 'building', 'firstOpDate',\n",
    "                      'floorL', 'bedroom', 'sittingroom', 'floor', 'flat', 'grossArea', 'saleableArea',\n",
    "                      'price', 'regDate', 'lastRegDate', 'lastPrice', 'gain', 'lat', 'lon']"
   ]
  },
  {
   "cell_type": "markdown",
   "metadata": {
    "id": "3iS5hv1XbSya"
   },
   "source": [
    "**Feature Engineering**"
   ]
  },
  {
   "cell_type": "code",
   "execution_count": 6,
   "metadata": {
    "executionInfo": {
     "elapsed": 1026,
     "status": "ok",
     "timestamp": 1610545742543,
     "user": {
      "displayName": "Kwanyoung Lee",
      "photoUrl": "",
      "userId": "17965056898907400088"
     },
     "user_tz": -480
    },
    "id": "8X0xsD9YAOme"
   },
   "outputs": [],
   "source": [
    "def removeOutlier(df, col):\n",
    "  # Calculate mean and standard deviation\n",
    "  data_mean, data_std = np.mean(df[col]), np.std(df[col])\n",
    "\n",
    "  # Calculate upper boundary\n",
    "  upper = data_mean + data_std * 3\n",
    "  \n",
    "  # Remove outliers\n",
    "  df = df[df[col] < upper]\n",
    "\n",
    "  return df"
   ]
  },
  {
   "cell_type": "code",
   "execution_count": 15,
   "metadata": {
    "executionInfo": {
     "elapsed": 3997,
     "status": "ok",
     "timestamp": 1610545748375,
     "user": {
      "displayName": "Kwanyoung Lee",
      "photoUrl": "",
      "userId": "17965056898907400088"
     },
     "user_tz": -480
    },
    "id": "aQeqOoGQbx1a"
   },
   "outputs": [],
   "source": [
    "processed_df = data_df_all.copy()\n",
    "\n",
    "# Make new features\n",
    "processed_df['buildingAge'] = pd.to_datetime(\"today\").year - pd.DatetimeIndex(processed_df['firstOpDate']).year\n",
    "processed_df['month'] = pd.to_datetime(processed_df['regDate']).dt.month\n",
    "processed_df['year'] = pd.to_datetime(processed_df['regDate']).dt.year\n",
    "processed_df['monthYear'] = pd.to_datetime(processed_df['regDate']).dt.to_period('M')\n",
    "\n",
    "# Drop unneccessary columns and columns with too many missing values\n",
    "processed_df = processed_df.drop(['firstOpDate', 'lastRegDate', 'sittingroom'], axis=1) \n",
    "\n",
    "# Fill missing values with 0\n",
    "processed_df['floorL'] = processed_df['floorL'].fillna('Unknown')\n",
    "processed_df['lat'] = processed_df['lat'].fillna(0)\n",
    "processed_df['lon'] = processed_df['lon'].fillna(0)\n",
    "\n",
    "# Fill missing values wiith mean values\n",
    "bedroom_mean = processed_df['bedroom'].mean()\n",
    "processed_df['bedroom'] = processed_df['bedroom'].fillna(bedroom_mean)\n",
    "processed_df['bedroom'] = processed_df['bedroom'].astype(int)\n",
    "\n",
    "saleableArea_mean = processed_df['grossArea'].mean()\n",
    "processed_df['grossArea'] = processed_df['grossArea'].fillna(saleableArea_mean)\n",
    "\n",
    "saleableArea_mean = processed_df['saleableArea'].mean()\n",
    "processed_df['saleableArea'] = processed_df['saleableArea'].fillna(saleableArea_mean)\n",
    "\n",
    "saleableArea_mean = processed_df['lastPrice'].mean()\n",
    "processed_df['lastPrice'] = processed_df['lastPrice'].fillna(saleableArea_mean)\n",
    "\n",
    "buildingAge_mean = processed_df['buildingAge'].mean()\n",
    "processed_df['buildingAge'] = processed_df['buildingAge'].fillna(buildingAge_mean)\n",
    "processed_df['buildingAge'] = processed_df['buildingAge'].astype(int)\n",
    "\n",
    "floor_mean = processed_df['floor'].mean()\n",
    "processed_df['floor'] = processed_df['floor'].fillna(floor_mean)\n",
    "processed_df['floor'] = processed_df['floor'].astype(int)\n",
    "\n",
    "# Label encoding for categorical features\n",
    "cols = ('region', 'subregion', 'district', 'estate', 'building', \n",
    "        'floorL', 'flat', 'monthYear')\n",
    "for col in cols:\n",
    "    le = LabelEncoder() \n",
    "    le.fit(list(processed_df[col].values)) \n",
    "    processed_df[col] = le.transform(list(processed_df[col].values))\n",
    "\n",
    "processed_df = removeOutlier(processed_df, 'price')\n",
    "#processed_df = removeOutlier(processed_df, 'grossArea')\n",
    "#processed_df = removeOutlier(processed_df, 'saleableArea')"
   ]
  },
  {
   "cell_type": "markdown",
   "metadata": {
    "id": "muEluS_5AgSR"
   },
   "source": [
    "**Feature Selection**"
   ]
  },
  {
   "cell_type": "code",
   "execution_count": 16,
   "metadata": {
    "executionInfo": {
     "elapsed": 876,
     "status": "ok",
     "timestamp": 1610546209939,
     "user": {
      "displayName": "Kwanyoung Lee",
      "photoUrl": "",
      "userId": "17965056898907400088"
     },
     "user_tz": -480
    },
    "id": "eYUeCF4P-_3O"
   },
   "outputs": [],
   "source": [
    "data_df = processed_df.copy()\n",
    "data_df = data_df.drop(['flat', 'building', 'lat', 'lon', 'month', 'estate', 'monthYear', 'gain', 'year', 'floorL', 'district', 'subregion', 'regDate'], axis=1) "
   ]
  },
  {
   "cell_type": "markdown",
   "metadata": {
    "id": "LVAUP00gEZ4u"
   },
   "source": [
    "# **Predictive Models**"
   ]
  },
  {
   "cell_type": "code",
   "execution_count": 17,
   "metadata": {
    "executionInfo": {
     "elapsed": 1150,
     "status": "ok",
     "timestamp": 1610546211041,
     "user": {
      "displayName": "Kwanyoung Lee",
      "photoUrl": "",
      "userId": "17965056898907400088"
     },
     "user_tz": -480
    },
    "id": "fNgc0eWZP7Jo"
   },
   "outputs": [],
   "source": [
    "# Random seed\n",
    "RAND_SEED = 1234\n",
    "# Size of training dataset\n",
    "TRAIN_SIZE = 0.8"
   ]
  },
  {
   "cell_type": "markdown",
   "metadata": {
    "id": "1DvR3zsPBfS6"
   },
   "source": [
    "**Evaluation Metrics**"
   ]
  },
  {
   "cell_type": "code",
   "execution_count": 18,
   "metadata": {
    "executionInfo": {
     "elapsed": 1175,
     "status": "ok",
     "timestamp": 1610546222711,
     "user": {
      "displayName": "Kwanyoung Lee",
      "photoUrl": "",
      "userId": "17965056898907400088"
     },
     "user_tz": -480
    },
    "id": "S0XA2DnBXrx0"
   },
   "outputs": [],
   "source": [
    "def rmsle(y, y_pred):\n",
    "  return np.sqrt(mean_squared_log_error(y, y_pred))"
   ]
  },
  {
   "cell_type": "markdown",
   "metadata": {
    "id": "IYbd2xY4Amax"
   },
   "source": [
    "**Train/Test split**"
   ]
  },
  {
   "cell_type": "code",
   "execution_count": 20,
   "metadata": {},
   "outputs": [],
   "source": [
    "feat_col = [ c for c in data_df.columns if c not in ['price'] ]\n",
    "x_df, y_df = data_df[feat_col], data_df['price']\n",
    "\n",
    "x_train, x_test, y_train, y_test = train_test_split(x_df, y_df, test_size=0.2, random_state=RAND_SEED)"
   ]
  },
  {
   "cell_type": "markdown",
   "metadata": {
    "id": "Gprv3WVwvHun"
   },
   "source": [
    "**Log Transformation**"
   ]
  },
  {
   "cell_type": "code",
   "execution_count": 21,
   "metadata": {
    "executionInfo": {
     "elapsed": 1153,
     "status": "ok",
     "timestamp": 1610546218089,
     "user": {
      "displayName": "Kwanyoung Lee",
      "photoUrl": "",
      "userId": "17965056898907400088"
     },
     "user_tz": -480
    },
    "id": "0CH9Yo7rvJVo"
   },
   "outputs": [],
   "source": [
    "log_y_train= np.log1p(y_train)"
   ]
  },
  {
   "cell_type": "markdown",
   "metadata": {
    "id": "uXKsj0iWGXk0"
   },
   "source": [
    "**XGB**"
   ]
  },
  {
   "cell_type": "code",
   "execution_count": 55,
   "metadata": {},
   "outputs": [],
   "source": [
    "model_xgb = xgb.XGBRegressor(objective ='reg:squarederror', \n",
    "                       learning_rate = 0.1, max_depth = 5, alpha = 10, \n",
    "                       random_state=RAND_SEED, n_estimators = 1000)\n",
    "model_xgb.fit(x_train, log_y_train)\n",
    "xgb_train_pred = np.expm1(model_xgb.predict(x_train))\n",
    "xgb_test_pred = np.expm1(model_xgb.predict(x_test))"
   ]
  },
  {
   "cell_type": "code",
   "execution_count": 56,
   "metadata": {
    "scrolled": true
   },
   "outputs": [
    {
     "name": "stdout",
     "output_type": "stream",
     "text": [
      "XGBoost RMSLE(train):  0.1626671056150446\n",
      "XGBoost RMSLE(test):  0.16849945199484243\n"
     ]
    },
    {
     "data": {
      "image/png": "[encoded data removed]",
      "text/plain": [
       "<Figure size 360x360 with 1 Axes>"
      ]
     },
     "metadata": {
      "needs_background": "light"
     },
     "output_type": "display_data"
    }
   ],
   "source": [
    "print(\"XGBoost RMSLE(train): \", rmsle(y_train, xgb_train_pred))\n",
    "print(\"XGBoost RMSLE(test): \", rmsle(y_test, xgb_test_pred))\n",
    "\n",
    "plt.figure(figsize=(5,5))\n",
    "plt.scatter(y_test,xgb_test_pred)\n",
    "plt.xlabel('Actual Y')\n",
    "plt.ylabel('Predicted Y')\n",
    "plt.show()"
   ]
  },
  {
   "cell_type": "markdown",
   "metadata": {
    "id": "Q5bTT9cyGaYZ"
   },
   "source": [
    "**Random Forest**"
   ]
  },
  {
   "cell_type": "code",
   "execution_count": 75,
   "metadata": {},
   "outputs": [],
   "source": [
    "model_rf = RandomForestRegressor(n_estimators = 100, max_depth=10, bootstrap=True, min_samples_leaf=10)\n",
    "model_rf.fit(x_train, log_y_train)\n",
    "rf_train_pred = np.expm1(model_rf.predict(x_train))\n",
    "rf_test_pred = np.expm1(model_rf.predict(x_test))"
   ]
  },
  {
   "cell_type": "code",
   "execution_count": 76,
   "metadata": {
    "colab": {
     "base_uri": "https://localhost:8080/",
     "height": 345
    },
    "executionInfo": {
     "elapsed": 1041,
     "status": "ok",
     "timestamp": 1610549194432,
     "user": {
      "displayName": "Kwanyoung Lee",
      "photoUrl": "",
      "userId": "17965056898907400088"
     },
     "user_tz": -480
    },
    "id": "AqYpq_0V4n6t",
    "outputId": "7ee08b8c-7883-40e2-e18d-34bb937c175e"
   },
   "outputs": [
    {
     "name": "stdout",
     "output_type": "stream",
     "text": [
      "Random Forest RMSLE(train):  0.18236381948722225\n",
      "Random Forest RMSLE(test):  0.18951992159448278\n"
     ]
    },
    {
     "data": {
      "image/png": "[encoded data removed]",
      "text/plain": [
       "<Figure size 360x360 with 1 Axes>"
      ]
     },
     "metadata": {
      "needs_background": "light"
     },
     "output_type": "display_data"
    }
   ],
   "source": [
    "print(\"Random Forest RMSLE(train): \", rmsle(y_train, rf_train_pred))\n",
    "print(\"Random Forest RMSLE(test): \", rmsle(y_test, rf_test_pred))\n",
    "\n",
    "plt.figure(figsize=(5,5))\n",
    "plt.scatter(y_test, rf_test_pred)\n",
    "plt.xlabel('Actual Y')\n",
    "plt.ylabel('Predicted Y')\n",
    "plt.show()"
   ]
  },
  {
   "cell_type": "markdown",
   "metadata": {
    "id": "5Urtn5e4GcyY"
   },
   "source": [
    "**Linear Regression**"
   ]
  },
  {
   "cell_type": "code",
   "execution_count": 45,
   "metadata": {
    "colab": {
     "base_uri": "https://localhost:8080/"
    },
    "executionInfo": {
     "elapsed": 1688,
     "status": "ok",
     "timestamp": 1610549161560,
     "user": {
      "displayName": "Kwanyoung Lee",
      "photoUrl": "",
      "userId": "17965056898907400088"
     },
     "user_tz": -480
    },
    "id": "I1-XlNi2mQym",
    "outputId": "26dcac53-0241-4fb8-e4e6-dc0b8e8e7c5f"
   },
   "outputs": [],
   "source": [
    "model_lr = LinearRegression()\n",
    "model_lr.fit(x_train, log_y_train)\n",
    "lr_train_pred = np.expm1(model_lr.predict(x_train))\n",
    "lr_test_pred = np.expm1(model_lr.predict(x_test))"
   ]
  },
  {
   "cell_type": "code",
   "execution_count": 46,
   "metadata": {
    "colab": {
     "base_uri": "https://localhost:8080/",
     "height": 345
    },
    "executionInfo": {
     "elapsed": 1524,
     "status": "ok",
     "timestamp": 1610549199659,
     "user": {
      "displayName": "Kwanyoung Lee",
      "photoUrl": "",
      "userId": "17965056898907400088"
     },
     "user_tz": -480
    },
    "id": "giaGlsDXOiX6",
    "outputId": "809e2146-cc3d-42f4-b417-7e4a102d58d1"
   },
   "outputs": [
    {
     "name": "stdout",
     "output_type": "stream",
     "text": [
      "Linear Regression RMSLE(train):  0.2628057466363474\n",
      "Linear Regression RMSLE(test):  0.26502640161398383\n"
     ]
    },
    {
     "data": {
      "image/png": "[encoded data removed]",
      "text/plain": [
       "<Figure size 360x360 with 1 Axes>"
      ]
     },
     "metadata": {
      "needs_background": "light"
     },
     "output_type": "display_data"
    }
   ],
   "source": [
    "print(\"Linear Regression RMSLE(train): \", rmsle(y_train, lr_train_pred))\n",
    "print(\"Linear Regression RMSLE(test): \", rmsle(y_test, lr_test_pred))\n",
    "\n",
    "plt.figure(figsize=(5,5))\n",
    "plt.scatter(y_test,lr_test_pred)\n",
    "plt.xlabel('Actual Y')\n",
    "plt.ylabel('Predicted Y')\n",
    "plt.show()"
   ]
  },
  {
   "cell_type": "markdown",
   "metadata": {
    "id": "y9qZdXqoMDJc"
   },
   "source": [
    "**Lasso**"
   ]
  },
  {
   "cell_type": "code",
   "execution_count": 48,
   "metadata": {
    "colab": {
     "base_uri": "https://localhost:8080/"
    },
    "executionInfo": {
     "elapsed": 828,
     "status": "ok",
     "timestamp": 1610549147633,
     "user": {
      "displayName": "Kwanyoung Lee",
      "photoUrl": "",
      "userId": "17965056898907400088"
     },
     "user_tz": -480
    },
    "id": "OSTFHEgiMIYE",
    "outputId": "c0688e52-1ab2-4012-fe62-e74ac4f27bef"
   },
   "outputs": [],
   "source": [
    "model_lasso = Lasso(alpha=0.01)\n",
    "model_lasso.fit(x_train,log_y_train)\n",
    "lasso_train_pred = np.expm1(model_lasso.predict(x_train))\n",
    "lasso_test_pred = np.expm1(model_lasso.predict(x_test))"
   ]
  },
  {
   "cell_type": "code",
   "execution_count": 49,
   "metadata": {
    "colab": {
     "base_uri": "https://localhost:8080/",
     "height": 345
    },
    "executionInfo": {
     "elapsed": 1092,
     "status": "ok",
     "timestamp": 1610549214837,
     "user": {
      "displayName": "Kwanyoung Lee",
      "photoUrl": "",
      "userId": "17965056898907400088"
     },
     "user_tz": -480
    },
    "id": "pizbKJgCNKkX",
    "outputId": "f2db2b7b-834c-434b-e66e-3e44e1a7a754"
   },
   "outputs": [
    {
     "name": "stdout",
     "output_type": "stream",
     "text": [
      "Lasso RMSLE(train):  0.2638618800631309\n",
      "Lasso RMSLE(test):  0.266233435415078\n"
     ]
    },
    {
     "data": {
      "image/png": "[encoded data removed]",
      "text/plain": [
       "<Figure size 360x360 with 1 Axes>"
      ]
     },
     "metadata": {
      "needs_background": "light"
     },
     "output_type": "display_data"
    }
   ],
   "source": [
    "print(\"Lasso RMSLE(train): \", rmsle(y_train, lasso_train_pred))\n",
    "print(\"Lasso RMSLE(test): \", rmsle(y_test, lasso_test_pred))\n",
    "\n",
    "plt.figure(figsize=(5,5))\n",
    "plt.scatter(y_test,lasso_test_pred)\n",
    "plt.xlabel('Actual Y')\n",
    "plt.ylabel('Predicted Y')\n",
    "plt.show()"
   ]
  },
  {
   "cell_type": "code",
   "execution_count": null,
   "metadata": {},
   "outputs": [],
   "source": []
  }
 ],
 "metadata": {
  "colab": {
   "authorship_tag": "ABX9TyOmCE5LfOjytariXGUPOsh4",
   "collapsed_sections": [],
   "name": "House Price Prediction.ipynb",
   "provenance": []
  },
  "kernelspec": {
   "display_name": "Python 3",
   "language": "python",
   "name": "python3"
  },
  "language_info": {
   "codemirror_mode": {
    "name": "ipython",
    "version": 3
   },
   "file_extension": ".py",
   "mimetype": "text/x-python",
   "name": "python",
   "nbconvert_exporter": "python",
   "pygments_lexer": "ipython3",
   "version": "3.9.1"
  }
 },
 "nbformat": 4,
 "nbformat_minor": 1
}
