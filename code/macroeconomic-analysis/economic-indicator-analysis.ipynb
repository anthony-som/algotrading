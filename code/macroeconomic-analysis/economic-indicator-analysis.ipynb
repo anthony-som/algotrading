{
 "cells": [
  {
   "cell_type": "markdown",
   "metadata": {},
   "source": [
    "# Economic indicator analysis"
   ]
  },
  {
   "cell_type": "markdown",
   "metadata": {},
   "source": [
    "**The objective of economic data analysis is to explore how the economic indicators affect the monthly average house price per saleable area in Hong Kong in 2016 to 2019.**"
   ]
  },
  {
   "cell_type": "markdown",
   "metadata": {},
   "source": [
    "Data Source:\n",
    "1. Transaction records - Centaline Property\n",
    "3. Macroeconomic indicators - Census and statistics department"
   ]
  },
  {
   "cell_type": "markdown",
   "metadata": {
    "id": "TVZwSHu-GR2A"
   },
   "source": [
    "**Import libraries**"
   ]
  },
  {
   "cell_type": "code",
   "execution_count": 1,
   "metadata": {
    "id": "TCiAMVoxGCa9"
   },
   "outputs": [],
   "source": [
    "import pandas as pd\n",
    "import matplotlib.pyplot as plt\n",
    "import seaborn as sns\n",
    "import pandas as pd\n",
    "import numpy as np\n",
    "from scipy.stats import norm\n",
    "from scipy import stats\n",
    "import warnings\n",
    "warnings.filterwarnings('ignore')\n",
    "%matplotlib inline"
   ]
  },
  {
   "cell_type": "markdown",
   "metadata": {
    "id": "kEwJdmIKGZRF"
   },
   "source": [
    "**Import data**"
   ]
  },
  {
   "cell_type": "code",
   "execution_count": 2,
   "metadata": {
    "colab": {
     "base_uri": "https://localhost:8080/"
    },
    "executionInfo": {
     "elapsed": 17007,
     "status": "ok",
     "timestamp": 1610550500274,
     "user": {
      "displayName": "Kwanyoung Lee",
      "photoUrl": "",
      "userId": "17965056898907400088"
     },
     "user_tz": -480
    },
    "id": "0CnhO_q4Gd8N",
    "outputId": "4d206680-f1c2-4e5e-99bd-f1547df0c3d0"
   },
   "outputs": [],
   "source": [
    "# For google drive\n",
    "\n",
    "#from google.colab import drive\n",
    "#from google.colab import files\n",
    "\n",
    "#drive.mount('/content/drive')\n",
    "#data_dir = \"/content/drive/My Drive/FYP/centaline/\""
   ]
  },
  {
   "cell_type": "code",
   "execution_count": 3,
   "metadata": {},
   "outputs": [],
   "source": [
    "# For local directory\n",
    "data_dir = \"../../database_real/macroeconomic_data/centaline/\""
   ]
  },
  {
   "cell_type": "code",
   "execution_count": 4,
   "metadata": {
    "id": "hOXusfCxGfQ7"
   },
   "outputs": [],
   "source": [
    "hk = [\"Kennedy_town_sai_ying_pun\", \"South_horizon\", \"Bel_air_sasson\", \"Aberdeen_ap_lei_chau\", \"Mid_level_west\", \"Peak_south\",\n",
    "             \"Wanchai_causeway_bay\", \"Mid_level_central\", \"Happy_valley_mid_level_east\", \"Mid_level_north_point\", \"North_point_fortress_hill\", \n",
    "             \"Quarry_bay_kornhill\", \"Taikoo_shing\", \"Shau_kei_wan_chai_wan\", \"Heng_fa_chuen\", \"Sheung_wan_central_admiralty\"]\n",
    "\n",
    "kowloon = [\"Olympic_station\", \"Kowloon_station\", \"Mongkok_yaumatei\", \"Tsimshatsui_jordan\", \"Ho_man_tin_kings_park\", \"To_kwa_wan\", \n",
    "                  \"Whampoa_laguna_verde\", \"Tseung_kwan_o\", \"Meifoo_wonderland\", \"Cheung_sha_wan_west\", \"Cheung_sha_wan_sham_shui_po\", \n",
    "                  \"Yau_yat_tsuen_shek_kip_mei\", \"Kowloon_tong_beacon_hill\", \"Lam_tin_yau_tong\", \"Kowloon_bay_ngau_chi_wan\", \"Kwun_tong\", \n",
    "                  \"Diamond_hill_wong_tai_sin\", \"To_kwa_wan_east\", \"Hung_hum\", \"Kai_tak\"]\n",
    "\n",
    "new_east = [\"Sai_kung\", \"Tai_wai\", \"Shatin\", \"Fotan_shatin_mid_level_kau_to_shan\", \"Ma_on_shan\", \"Tai_po_mid_level_hong_lok_yuen\", \n",
    "                   \"Tai_po_market_tai_wo\", \"Sheung_shui_fanling_kwu_tung\"]\n",
    "\n",
    "new_west = [\"Discovery_bay\", \"Fairview_park_palm_spring_the_vineyard\", \"Yuen_long\", \"Tuen_mun\", \"Tin_shui_wai\", \"Tsuen_wan\", \"Kwai_chung\", \n",
    "                   \"Tsing_yi\", \"Ma_wan_park_island\",\"Tung_chung_islands\", \"Sham_tseng_castle_peak_road\", \"Belvedere_garden_castle_peak_road\"]"
   ]
  },
  {
   "cell_type": "code",
   "execution_count": 7,
   "metadata": {
    "colab": {
     "base_uri": "https://localhost:8080/"
    },
    "executionInfo": {
     "elapsed": 3999,
     "status": "ok",
     "timestamp": 1610551637911,
     "user": {
      "displayName": "Kwanyoung Lee",
      "photoUrl": "",
      "userId": "17965056898907400088"
     },
     "user_tz": -480
    },
    "id": "ouwJreaqGhE3",
    "outputId": "774087a5-1119-42ab-b7c4-078f96d5dd76"
   },
   "outputs": [
    {
     "name": "stdout",
     "output_type": "stream",
     "text": [
      "<class 'pandas.core.frame.DataFrame'>\n",
      "RangeIndex: 251660 entries, 0 to 251659\n",
      "Data columns (total 11 columns):\n",
      " #   Column                    Non-Null Count   Dtype         \n",
      "---  ------                    --------------   -----         \n",
      " 0   Address                   251660 non-null  object        \n",
      " 1   BuildingAge               251660 non-null  int64         \n",
      " 2   RegDate                   251660 non-null  datetime64[ns]\n",
      " 3   Price                     251660 non-null  float64       \n",
      " 4   SaleableArea              227968 non-null  float64       \n",
      " 5   GrossArea                 132535 non-null  float64       \n",
      " 6   UnitPricePerSaleableArea  227967 non-null  float64       \n",
      " 7   UnitPricePerGrossArea     132535 non-null  float64       \n",
      " 8   LastHold                  120840 non-null  float64       \n",
      " 9   GainLoss                  120840 non-null  float64       \n",
      " 10  District                  251660 non-null  object        \n",
      "dtypes: datetime64[ns](1), float64(7), int64(1), object(2)\n",
      "memory usage: 21.1+ MB\n"
     ]
    }
   ],
   "source": [
    "# Data directory\n",
    "dir_hk = \"./hk_island/\"\n",
    "dir_kowloon = \"./kowloon/\"\n",
    "dir_new_east = \"./new_east/\"\n",
    "dir_new_west = \"./new_west/\"\n",
    "\n",
    "def get_data_by_district(district_name, disctrict_dir):\n",
    "\n",
    "  district_df = pd.DataFrame()\n",
    "  for region in district_name:\n",
    "    new_df = pd.read_csv(data_dir+disctrict_dir+region+\".csv\")\n",
    "    new_df[\"District\"] = region\n",
    "    district_df = pd.concat([district_df, new_df], axis=0)\n",
    "\n",
    "  # Data cleaning\n",
    "  district_df['SaleableArea'] = district_df['SaleableArea'].replace(\"-\", np.nan)\n",
    "  district_df['SaleableArea'] = pd.to_numeric(district_df['SaleableArea']) \n",
    "  district_df['UnitPricePerSaleableArea'] = district_df['UnitPricePerSaleableArea'].replace(\"-\", np.nan)\n",
    "  district_df['UnitPricePerSaleableArea'] = pd.to_numeric(district_df['UnitPricePerSaleableArea']) \n",
    "  district_df['UnitPricePerGrossArea'] = district_df['UnitPricePerGrossArea'].replace(\"-\", np.nan)\n",
    "  district_df['UnitPricePerGrossArea'] = pd.to_numeric(district_df['UnitPricePerGrossArea']) \n",
    "  district_df['GrossArea'] = district_df['GrossArea'].replace(\"-\", np.nan)\n",
    "  district_df['GrossArea'] = pd.to_numeric(district_df['GrossArea']) \n",
    "  district_df['LastHold'] = district_df['LastHold'].replace(\"-\", np.nan)\n",
    "  district_df['LastHold'] = pd.to_numeric(district_df['LastHold']) \n",
    "  district_df['GainLoss'] = district_df['GainLoss'].replace(\"-\", np.nan)\n",
    "  district_df['GainLoss'] = pd.to_numeric(district_df['GainLoss']) \n",
    "\n",
    "  district_df = district_df.drop(district_df.columns[0], axis=1)\n",
    "  district_df['RegDate'] = pd.to_datetime(district_df['RegDate'])\n",
    "  district_df.sort_values(by=['RegDate'], inplace=True, ascending=False)\n",
    "\n",
    "  district_df = district_df.reset_index()\n",
    "  district_df = district_df.drop(['index'], axis=1)\n",
    "  return district_df\n",
    "\n",
    "def download_data(filename, download_data):\n",
    "  dataFrame = pd.DataFrame(data=download_data)\n",
    "  dataFrame.to_csv(filename)\n",
    "  files.download(filename)\n",
    "\n",
    "# Get data by distirct\n",
    "data_df_hk = get_data_by_district(hk, dir_hk)\n",
    "data_df_kowloon = get_data_by_district(kowloon, dir_kowloon)\n",
    "data_df_new_east = get_data_by_district(new_east, dir_new_east)\n",
    "data_df_new_west = get_data_by_district(new_west, dir_new_west)\n",
    "\n",
    "# Get all district data\n",
    "data_df_all = pd.concat([data_df_hk, data_df_kowloon, data_df_new_east, data_df_new_west], axis=0)\n",
    "data_df_all.sort_values(by=['RegDate'], inplace=True, ascending=False)\n",
    "data_df_all = data_df_all.reset_index()\n",
    "data_df_all = data_df_all.drop(['index'], axis=1)\n",
    "data_df_all.info()"
   ]
  },
  {
   "cell_type": "markdown",
   "metadata": {},
   "source": [
    "**Price distribution**"
   ]
  },
  {
   "cell_type": "code",
   "execution_count": 8,
   "metadata": {},
   "outputs": [
    {
     "name": "stdout",
     "output_type": "stream",
     "text": [
      "count    251660.000000\n",
      "mean          8.798477\n",
      "std          14.874840\n",
      "min           0.400000\n",
      "25%           4.650000\n",
      "50%           6.400000\n",
      "75%           9.180000\n",
      "max        2566.000000\n",
      "Name: Price, dtype: float64\n"
     ]
    },
    {
     "data": {
      "image/png": "[encoded data removed]",
      "text/plain": [
       "<Figure size 720x360 with 1 Axes>"
      ]
     },
     "metadata": {
      "needs_background": "light"
     },
     "output_type": "display_data"
    }
   ],
   "source": [
    "# Distribution\n",
    "print(data_df_all['Price'].describe())\n",
    "\n",
    "# Histogram\n",
    "plt.figure(figsize=(10,5))\n",
    "sns.distplot(data_df_all['Price'].dropna());"
   ]
  },
  {
   "cell_type": "markdown",
   "metadata": {
    "id": "K4GhD2pFTJ7B"
   },
   "source": [
    "**Unit price for saleable area distribution**"
   ]
  },
  {
   "cell_type": "code",
   "execution_count": 6,
   "metadata": {
    "colab": {
     "base_uri": "https://localhost:8080/",
     "height": 512
    },
    "executionInfo": {
     "elapsed": 2832,
     "status": "ok",
     "timestamp": 1610552811133,
     "user": {
      "displayName": "Kwanyoung Lee",
      "photoUrl": "",
      "userId": "17965056898907400088"
     },
     "user_tz": -480
    },
    "id": "9U_9iry2DQkf",
    "outputId": "1cad7d3a-e2d7-4933-c774-13019d6564e4"
   },
   "outputs": [
    {
     "name": "stdout",
     "output_type": "stream",
     "text": [
      "count    227967.000000\n",
      "mean      15324.452842\n",
      "std        6105.796666\n",
      "min        1476.000000\n",
      "25%       11594.000000\n",
      "50%       14618.000000\n",
      "75%       17802.000000\n",
      "max      484585.000000\n",
      "Name: UnitPricePerSaleableArea, dtype: float64\n"
     ]
    },
    {
     "data": {
      "image/png": "[encoded data removed]",
      "text/plain": [
       "<Figure size 720x360 with 1 Axes>"
      ]
     },
     "metadata": {
      "needs_background": "light"
     },
     "output_type": "display_data"
    }
   ],
   "source": [
    "# Distribution\n",
    "print(data_df_all['UnitPricePerSaleableArea'].describe())\n",
    "\n",
    "# Histogram\n",
    "plt.figure(figsize=(10,5))\n",
    "sns.distplot(data_df_all['UnitPricePerSaleableArea'].dropna());"
   ]
  },
  {
   "cell_type": "markdown",
   "metadata": {
    "id": "q64tLJAvS3JL"
   },
   "source": [
    "**Data Preprocessing**"
   ]
  },
  {
   "cell_type": "code",
   "execution_count": 8,
   "metadata": {
    "colab": {
     "base_uri": "https://localhost:8080/",
     "height": 253
    },
    "executionInfo": {
     "elapsed": 1760,
     "status": "ok",
     "timestamp": 1610555256598,
     "user": {
      "displayName": "Kwanyoung Lee",
      "photoUrl": "",
      "userId": "17965056898907400088"
     },
     "user_tz": -480
    },
    "id": "6gn8OzTc1pt-",
    "outputId": "d170bc58-4586-43c2-a80e-14be16ac70a6"
   },
   "outputs": [],
   "source": [
    "# Data preprocessing\n",
    "processed_df = data_df_all.copy()\n",
    "\n",
    "# Add new features\n",
    "processed_df['month'] = pd.to_datetime(processed_df['RegDate']).dt.month\n",
    "processed_df['year'] = pd.to_datetime(processed_df['RegDate']).dt.year\n",
    "\n",
    "# Drop unnecessary columns\n",
    "processed_df = processed_df.drop(['Address', 'BuildingAge', 'LastHold', 'GainLoss', 'District', 'RegDate', 'Price', 'SaleableArea', 'GrossArea', 'UnitPricePerGrossArea'], axis=1)\n",
    "\n",
    "# Handling missinig values\n",
    "# Fill with mean\n",
    "unitSaleableArea_mean = processed_df['UnitPricePerSaleableArea'].mean()\n",
    "processed_df['UnitPricePerSaleableArea'] = processed_df['UnitPricePerSaleableArea'].fillna(unitSaleableArea_mean)"
   ]
  },
  {
   "cell_type": "markdown",
   "metadata": {
    "id": "E4uQLzflMEJg"
   },
   "source": [
    "**Calculate monthly average unit price for saleable area**"
   ]
  },
  {
   "cell_type": "code",
   "execution_count": 9,
   "metadata": {
    "colab": {
     "base_uri": "https://localhost:8080/",
     "height": 204
    },
    "executionInfo": {
     "elapsed": 1135,
     "status": "ok",
     "timestamp": 1610555245834,
     "user": {
      "displayName": "Kwanyoung Lee",
      "photoUrl": "",
      "userId": "17965056898907400088"
     },
     "user_tz": -480
    },
    "id": "ygURzryfMI4I",
    "outputId": "e3f61ffb-e39b-4eb8-b560-d4fc75a2dd8b"
   },
   "outputs": [
    {
     "data": {
      "text/html": [
       "<div>\n",
       "<style scoped>\n",
       "    .dataframe tbody tr th:only-of-type {\n",
       "        vertical-align: middle;\n",
       "    }\n",
       "\n",
       "    .dataframe tbody tr th {\n",
       "        vertical-align: top;\n",
       "    }\n",
       "\n",
       "    .dataframe thead th {\n",
       "        text-align: right;\n",
       "    }\n",
       "</style>\n",
       "<table border=\"1\" class=\"dataframe\">\n",
       "  <thead>\n",
       "    <tr style=\"text-align: right;\">\n",
       "      <th></th>\n",
       "      <th>year</th>\n",
       "      <th>month</th>\n",
       "      <th>AveragePricePerSaleableArea</th>\n",
       "    </tr>\n",
       "  </thead>\n",
       "  <tbody>\n",
       "    <tr>\n",
       "      <th>0</th>\n",
       "      <td>2017</td>\n",
       "      <td>1</td>\n",
       "      <td>13495.170159</td>\n",
       "    </tr>\n",
       "    <tr>\n",
       "      <th>1</th>\n",
       "      <td>2017</td>\n",
       "      <td>2</td>\n",
       "      <td>13504.139043</td>\n",
       "    </tr>\n",
       "    <tr>\n",
       "      <th>2</th>\n",
       "      <td>2017</td>\n",
       "      <td>3</td>\n",
       "      <td>13429.026810</td>\n",
       "    </tr>\n",
       "    <tr>\n",
       "      <th>3</th>\n",
       "      <td>2017</td>\n",
       "      <td>4</td>\n",
       "      <td>14764.873467</td>\n",
       "    </tr>\n",
       "    <tr>\n",
       "      <th>4</th>\n",
       "      <td>2017</td>\n",
       "      <td>5</td>\n",
       "      <td>13969.317035</td>\n",
       "    </tr>\n",
       "    <tr>\n",
       "      <th>5</th>\n",
       "      <td>2017</td>\n",
       "      <td>6</td>\n",
       "      <td>14912.611662</td>\n",
       "    </tr>\n",
       "    <tr>\n",
       "      <th>6</th>\n",
       "      <td>2017</td>\n",
       "      <td>7</td>\n",
       "      <td>14216.623798</td>\n",
       "    </tr>\n",
       "    <tr>\n",
       "      <th>7</th>\n",
       "      <td>2017</td>\n",
       "      <td>8</td>\n",
       "      <td>14321.625345</td>\n",
       "    </tr>\n",
       "    <tr>\n",
       "      <th>8</th>\n",
       "      <td>2017</td>\n",
       "      <td>9</td>\n",
       "      <td>14416.688861</td>\n",
       "    </tr>\n",
       "    <tr>\n",
       "      <th>9</th>\n",
       "      <td>2017</td>\n",
       "      <td>10</td>\n",
       "      <td>14116.148171</td>\n",
       "    </tr>\n",
       "    <tr>\n",
       "      <th>10</th>\n",
       "      <td>2017</td>\n",
       "      <td>11</td>\n",
       "      <td>14585.793000</td>\n",
       "    </tr>\n",
       "    <tr>\n",
       "      <th>11</th>\n",
       "      <td>2017</td>\n",
       "      <td>12</td>\n",
       "      <td>15534.018105</td>\n",
       "    </tr>\n",
       "    <tr>\n",
       "      <th>12</th>\n",
       "      <td>2018</td>\n",
       "      <td>1</td>\n",
       "      <td>15127.240416</td>\n",
       "    </tr>\n",
       "    <tr>\n",
       "      <th>13</th>\n",
       "      <td>2018</td>\n",
       "      <td>2</td>\n",
       "      <td>15856.092887</td>\n",
       "    </tr>\n",
       "    <tr>\n",
       "      <th>14</th>\n",
       "      <td>2018</td>\n",
       "      <td>3</td>\n",
       "      <td>14794.930807</td>\n",
       "    </tr>\n",
       "    <tr>\n",
       "      <th>15</th>\n",
       "      <td>2018</td>\n",
       "      <td>4</td>\n",
       "      <td>16048.488026</td>\n",
       "    </tr>\n",
       "    <tr>\n",
       "      <th>16</th>\n",
       "      <td>2018</td>\n",
       "      <td>5</td>\n",
       "      <td>16272.230710</td>\n",
       "    </tr>\n",
       "    <tr>\n",
       "      <th>17</th>\n",
       "      <td>2018</td>\n",
       "      <td>6</td>\n",
       "      <td>16690.170870</td>\n",
       "    </tr>\n",
       "    <tr>\n",
       "      <th>18</th>\n",
       "      <td>2018</td>\n",
       "      <td>7</td>\n",
       "      <td>16477.657846</td>\n",
       "    </tr>\n",
       "    <tr>\n",
       "      <th>19</th>\n",
       "      <td>2018</td>\n",
       "      <td>8</td>\n",
       "      <td>15928.196661</td>\n",
       "    </tr>\n",
       "    <tr>\n",
       "      <th>20</th>\n",
       "      <td>2018</td>\n",
       "      <td>9</td>\n",
       "      <td>17135.004160</td>\n",
       "    </tr>\n",
       "    <tr>\n",
       "      <th>21</th>\n",
       "      <td>2018</td>\n",
       "      <td>10</td>\n",
       "      <td>15873.959139</td>\n",
       "    </tr>\n",
       "    <tr>\n",
       "      <th>22</th>\n",
       "      <td>2018</td>\n",
       "      <td>11</td>\n",
       "      <td>15639.781969</td>\n",
       "    </tr>\n",
       "    <tr>\n",
       "      <th>23</th>\n",
       "      <td>2018</td>\n",
       "      <td>12</td>\n",
       "      <td>15412.627632</td>\n",
       "    </tr>\n",
       "    <tr>\n",
       "      <th>24</th>\n",
       "      <td>2019</td>\n",
       "      <td>1</td>\n",
       "      <td>15654.937598</td>\n",
       "    </tr>\n",
       "    <tr>\n",
       "      <th>25</th>\n",
       "      <td>2019</td>\n",
       "      <td>2</td>\n",
       "      <td>15098.970783</td>\n",
       "    </tr>\n",
       "    <tr>\n",
       "      <th>26</th>\n",
       "      <td>2019</td>\n",
       "      <td>3</td>\n",
       "      <td>15618.304224</td>\n",
       "    </tr>\n",
       "    <tr>\n",
       "      <th>27</th>\n",
       "      <td>2019</td>\n",
       "      <td>4</td>\n",
       "      <td>15677.415837</td>\n",
       "    </tr>\n",
       "    <tr>\n",
       "      <th>28</th>\n",
       "      <td>2019</td>\n",
       "      <td>5</td>\n",
       "      <td>16008.018402</td>\n",
       "    </tr>\n",
       "    <tr>\n",
       "      <th>29</th>\n",
       "      <td>2019</td>\n",
       "      <td>6</td>\n",
       "      <td>15607.745839</td>\n",
       "    </tr>\n",
       "    <tr>\n",
       "      <th>30</th>\n",
       "      <td>2019</td>\n",
       "      <td>7</td>\n",
       "      <td>15940.842141</td>\n",
       "    </tr>\n",
       "    <tr>\n",
       "      <th>31</th>\n",
       "      <td>2019</td>\n",
       "      <td>8</td>\n",
       "      <td>15626.227715</td>\n",
       "    </tr>\n",
       "    <tr>\n",
       "      <th>32</th>\n",
       "      <td>2019</td>\n",
       "      <td>9</td>\n",
       "      <td>14866.399847</td>\n",
       "    </tr>\n",
       "    <tr>\n",
       "      <th>33</th>\n",
       "      <td>2019</td>\n",
       "      <td>10</td>\n",
       "      <td>15657.881455</td>\n",
       "    </tr>\n",
       "    <tr>\n",
       "      <th>34</th>\n",
       "      <td>2019</td>\n",
       "      <td>11</td>\n",
       "      <td>15664.024478</td>\n",
       "    </tr>\n",
       "    <tr>\n",
       "      <th>35</th>\n",
       "      <td>2019</td>\n",
       "      <td>12</td>\n",
       "      <td>15741.234549</td>\n",
       "    </tr>\n",
       "    <tr>\n",
       "      <th>36</th>\n",
       "      <td>2020</td>\n",
       "      <td>1</td>\n",
       "      <td>15282.554072</td>\n",
       "    </tr>\n",
       "    <tr>\n",
       "      <th>37</th>\n",
       "      <td>2020</td>\n",
       "      <td>2</td>\n",
       "      <td>15297.255986</td>\n",
       "    </tr>\n",
       "    <tr>\n",
       "      <th>38</th>\n",
       "      <td>2020</td>\n",
       "      <td>3</td>\n",
       "      <td>15067.664938</td>\n",
       "    </tr>\n",
       "    <tr>\n",
       "      <th>39</th>\n",
       "      <td>2020</td>\n",
       "      <td>4</td>\n",
       "      <td>15192.226748</td>\n",
       "    </tr>\n",
       "    <tr>\n",
       "      <th>40</th>\n",
       "      <td>2020</td>\n",
       "      <td>5</td>\n",
       "      <td>15794.192855</td>\n",
       "    </tr>\n",
       "    <tr>\n",
       "      <th>41</th>\n",
       "      <td>2020</td>\n",
       "      <td>6</td>\n",
       "      <td>15518.396382</td>\n",
       "    </tr>\n",
       "    <tr>\n",
       "      <th>42</th>\n",
       "      <td>2020</td>\n",
       "      <td>7</td>\n",
       "      <td>15507.749075</td>\n",
       "    </tr>\n",
       "    <tr>\n",
       "      <th>43</th>\n",
       "      <td>2020</td>\n",
       "      <td>8</td>\n",
       "      <td>15358.641779</td>\n",
       "    </tr>\n",
       "    <tr>\n",
       "      <th>44</th>\n",
       "      <td>2020</td>\n",
       "      <td>9</td>\n",
       "      <td>15337.389105</td>\n",
       "    </tr>\n",
       "    <tr>\n",
       "      <th>45</th>\n",
       "      <td>2020</td>\n",
       "      <td>10</td>\n",
       "      <td>15398.942663</td>\n",
       "    </tr>\n",
       "    <tr>\n",
       "      <th>46</th>\n",
       "      <td>2020</td>\n",
       "      <td>11</td>\n",
       "      <td>15483.599361</td>\n",
       "    </tr>\n",
       "    <tr>\n",
       "      <th>47</th>\n",
       "      <td>2020</td>\n",
       "      <td>12</td>\n",
       "      <td>15440.826416</td>\n",
       "    </tr>\n",
       "  </tbody>\n",
       "</table>\n",
       "</div>"
      ],
      "text/plain": [
       "    year  month  AveragePricePerSaleableArea\n",
       "0   2017      1                 13495.170159\n",
       "1   2017      2                 13504.139043\n",
       "2   2017      3                 13429.026810\n",
       "3   2017      4                 14764.873467\n",
       "4   2017      5                 13969.317035\n",
       "5   2017      6                 14912.611662\n",
       "6   2017      7                 14216.623798\n",
       "7   2017      8                 14321.625345\n",
       "8   2017      9                 14416.688861\n",
       "9   2017     10                 14116.148171\n",
       "10  2017     11                 14585.793000\n",
       "11  2017     12                 15534.018105\n",
       "12  2018      1                 15127.240416\n",
       "13  2018      2                 15856.092887\n",
       "14  2018      3                 14794.930807\n",
       "15  2018      4                 16048.488026\n",
       "16  2018      5                 16272.230710\n",
       "17  2018      6                 16690.170870\n",
       "18  2018      7                 16477.657846\n",
       "19  2018      8                 15928.196661\n",
       "20  2018      9                 17135.004160\n",
       "21  2018     10                 15873.959139\n",
       "22  2018     11                 15639.781969\n",
       "23  2018     12                 15412.627632\n",
       "24  2019      1                 15654.937598\n",
       "25  2019      2                 15098.970783\n",
       "26  2019      3                 15618.304224\n",
       "27  2019      4                 15677.415837\n",
       "28  2019      5                 16008.018402\n",
       "29  2019      6                 15607.745839\n",
       "30  2019      7                 15940.842141\n",
       "31  2019      8                 15626.227715\n",
       "32  2019      9                 14866.399847\n",
       "33  2019     10                 15657.881455\n",
       "34  2019     11                 15664.024478\n",
       "35  2019     12                 15741.234549\n",
       "36  2020      1                 15282.554072\n",
       "37  2020      2                 15297.255986\n",
       "38  2020      3                 15067.664938\n",
       "39  2020      4                 15192.226748\n",
       "40  2020      5                 15794.192855\n",
       "41  2020      6                 15518.396382\n",
       "42  2020      7                 15507.749075\n",
       "43  2020      8                 15358.641779\n",
       "44  2020      9                 15337.389105\n",
       "45  2020     10                 15398.942663\n",
       "46  2020     11                 15483.599361\n",
       "47  2020     12                 15440.826416"
      ]
     },
     "execution_count": 9,
     "metadata": {},
     "output_type": "execute_result"
    }
   ],
   "source": [
    "monthly_df = processed_df.copy()\n",
    "monthly_df = monthly_df.groupby(['year','month'],as_index=False).mean()\n",
    "monthly_df = monthly_df.rename(columns={'UnitPricePerSaleableArea': 'AveragePricePerSaleableArea'})\n",
    "monthly_df.head(50)"
   ]
  },
  {
   "cell_type": "markdown",
   "metadata": {
    "id": "E4uQLzflMEJg"
   },
   "source": [
    "**Monthly average price for saleable area distribution**"
   ]
  },
  {
   "cell_type": "code",
   "execution_count": 10,
   "metadata": {
    "colab": {
     "base_uri": "https://localhost:8080/",
     "height": 498
    },
    "executionInfo": {
     "elapsed": 1283,
     "status": "ok",
     "timestamp": 1610553998716,
     "user": {
      "displayName": "Kwanyoung Lee",
      "photoUrl": "",
      "userId": "17965056898907400088"
     },
     "user_tz": -480
    },
    "id": "miSxE6qNKjas",
    "outputId": "2df8bfd1-da0b-4c56-972d-3e28c0b04d55"
   },
   "outputs": [
    {
     "name": "stdout",
     "output_type": "stream",
     "text": [
      "count       48.000000\n",
      "mean     15299.247059\n",
      "std        790.124519\n",
      "min      13429.026810\n",
      "25%      14901.058708\n",
      "50%      15462.212889\n",
      "75%      15693.370515\n",
      "max      17135.004160\n",
      "Name: AveragePricePerSaleableArea, dtype: float64\n"
     ]
    },
    {
     "data": {
      "image/png": "[encoded data removed]",
      "text/plain": [
       "<Figure size 720x360 with 1 Axes>"
      ]
     },
     "metadata": {
      "needs_background": "light"
     },
     "output_type": "display_data"
    }
   ],
   "source": [
    "# Distribution\n",
    "print(monthly_df['AveragePricePerSaleableArea'].describe())\n",
    "\n",
    "# Histogram\n",
    "plt.figure(figsize=(10,5))\n",
    "sns.distplot(monthly_df['AveragePricePerSaleableArea']);"
   ]
  },
  {
   "cell_type": "markdown",
   "metadata": {
    "id": "dlPSzvOWn9Fr"
   },
   "source": [
    "**Import economic indicators and join with original dataframe**"
   ]
  },
  {
   "cell_type": "code",
   "execution_count": 11,
   "metadata": {
    "id": "aB6TA5twsN0a"
   },
   "outputs": [],
   "source": [
    "new_monthly_df = monthly_df.copy()\n",
    "\n",
    "conditions_year = [\n",
    "  (new_monthly_df['year'] == 2017), (new_monthly_df['year'] == 2018),\n",
    "  (new_monthly_df['year'] == 2019) \n",
    "]\n",
    "\n",
    "conditions_half = [\n",
    "  (new_monthly_df['year'] == 2017) & (new_monthly_df['month'] < 7), (new_monthly_df['year'] == 2017) & (new_monthly_df['month'] < 13),\n",
    "  (new_monthly_df['year'] == 2018) & (new_monthly_df['month'] < 7), (new_monthly_df['year'] == 2018) & (new_monthly_df['month'] < 13),\n",
    "  (new_monthly_df['year'] == 2019) & (new_monthly_df['month'] < 7), (new_monthly_df['year'] == 2019) & (new_monthly_df['month'] < 13),\n",
    "  (new_monthly_df['year'] == 2020) & (new_monthly_df['month'] < 7)\n",
    "]\n",
    "\n",
    "conditions_quarter = [\n",
    "  (new_monthly_df['year'] == 2017) & (new_monthly_df['month'] < 4), (new_monthly_df['year'] == 2017) & (new_monthly_df['month'] < 7),\n",
    "  (new_monthly_df['year'] == 2017) & (new_monthly_df['month'] < 10), (new_monthly_df['year'] == 2017) & (new_monthly_df['month'] < 13),\n",
    "  (new_monthly_df['year'] == 2018) & (new_monthly_df['month'] < 4), (new_monthly_df['year'] == 2018) & (new_monthly_df['month'] < 7),\n",
    "  (new_monthly_df['year'] == 2018) & (new_monthly_df['month'] < 10), (new_monthly_df['year'] == 2018) & (new_monthly_df['month'] < 13),\n",
    "  (new_monthly_df['year'] == 2019) & (new_monthly_df['month'] < 4), (new_monthly_df['year'] == 2019) & (new_monthly_df['month'] < 7),\n",
    "  (new_monthly_df['year'] == 2019) & (new_monthly_df['month'] < 10), (new_monthly_df['year'] == 2019) & (new_monthly_df['month'] < 13),\n",
    "  (new_monthly_df['year'] == 2020) & (new_monthly_df['month'] < 4), (new_monthly_df['year'] == 2020) & (new_monthly_df['month'] < 7),\n",
    "  (new_monthly_df['year'] == 2020) & (new_monthly_df['month'] < 10)\n",
    "]\n",
    "\n",
    "conditions_month = [\n",
    "  (new_monthly_df['year'] == 2017) & (new_monthly_df['month'] == 1), (new_monthly_df['year'] == 2017) & (new_monthly_df['month'] == 2),\n",
    "  (new_monthly_df['year'] == 2017) & (new_monthly_df['month'] == 3), (new_monthly_df['year'] == 2017) & (new_monthly_df['month'] == 4),\n",
    "  (new_monthly_df['year'] == 2017) & (new_monthly_df['month'] == 5), (new_monthly_df['year'] == 2017) & (new_monthly_df['month'] == 6),\n",
    "  (new_monthly_df['year'] == 2017) & (new_monthly_df['month'] == 7), (new_monthly_df['year'] == 2017) & (new_monthly_df['month'] == 8),\n",
    "  (new_monthly_df['year'] == 2017) & (new_monthly_df['month'] == 9), (new_monthly_df['year'] == 2017) & (new_monthly_df['month'] == 10),\n",
    "  (new_monthly_df['year'] == 2017) & (new_monthly_df['month'] == 11), (new_monthly_df['year'] == 2017) & (new_monthly_df['month'] == 12),\n",
    "  (new_monthly_df['year'] == 2018) & (new_monthly_df['month'] == 1), (new_monthly_df['year'] == 2018) & (new_monthly_df['month'] == 2),\n",
    "  (new_monthly_df['year'] == 2018) & (new_monthly_df['month'] == 3), (new_monthly_df['year'] == 2018) & (new_monthly_df['month'] == 4),\n",
    "  (new_monthly_df['year'] == 2018) & (new_monthly_df['month'] == 5), (new_monthly_df['year'] == 2018) & (new_monthly_df['month'] == 6),\n",
    "  (new_monthly_df['year'] == 2018) & (new_monthly_df['month'] == 7), (new_monthly_df['year'] == 2018) & (new_monthly_df['month'] == 8),\n",
    "  (new_monthly_df['year'] == 2018) & (new_monthly_df['month'] == 9), (new_monthly_df['year'] == 2018) & (new_monthly_df['month'] == 10),\n",
    "  (new_monthly_df['year'] == 2018) & (new_monthly_df['month'] == 11), (new_monthly_df['year'] == 2018) & (new_monthly_df['month'] == 12),\n",
    "  (new_monthly_df['year'] == 2019) & (new_monthly_df['month'] == 1), (new_monthly_df['year'] == 2019) & (new_monthly_df['month'] == 2),\n",
    "  (new_monthly_df['year'] == 2019) & (new_monthly_df['month'] == 3), (new_monthly_df['year'] == 2019) & (new_monthly_df['month'] == 4),\n",
    "  (new_monthly_df['year'] == 2019) & (new_monthly_df['month'] == 5), (new_monthly_df['year'] == 2019) & (new_monthly_df['month'] == 6),\n",
    "  (new_monthly_df['year'] == 2019) & (new_monthly_df['month'] == 7), (new_monthly_df['year'] == 2019) & (new_monthly_df['month'] == 8),\n",
    "  (new_monthly_df['year'] == 2019) & (new_monthly_df['month'] == 9), (new_monthly_df['year'] == 2019) & (new_monthly_df['month'] == 10),\n",
    "  (new_monthly_df['year'] == 2019) & (new_monthly_df['month'] == 11), (new_monthly_df['year'] == 2019) & (new_monthly_df['month'] == 12),\n",
    "  (new_monthly_df['year'] == 2020) & (new_monthly_df['month'] == 1), (new_monthly_df['year'] == 2020) & (new_monthly_df['month'] == 2),\n",
    "  (new_monthly_df['year'] == 2020) & (new_monthly_df['month'] == 3), (new_monthly_df['year'] == 2020) & (new_monthly_df['month'] == 4),\n",
    "  (new_monthly_df['year'] == 2020) & (new_monthly_df['month'] == 5), (new_monthly_df['year'] == 2020) & (new_monthly_df['month'] == 6),\n",
    "  (new_monthly_df['year'] == 2020) & (new_monthly_df['month'] == 7), (new_monthly_df['year'] == 2020) & (new_monthly_df['month'] == 8),\n",
    "  (new_monthly_df['year'] == 2020) & (new_monthly_df['month'] == 9), (new_monthly_df['year'] == 2020) & (new_monthly_df['month'] == 10),\n",
    "  (new_monthly_df['year'] == 2020) & (new_monthly_df['month'] == 11)\n",
    "]"
   ]
  },
  {
   "cell_type": "code",
   "execution_count": 72,
   "metadata": {
    "colab": {
     "base_uri": "https://localhost:8080/",
     "height": 309
    },
    "executionInfo": {
     "elapsed": 934,
     "status": "ok",
     "timestamp": 1610555608651,
     "user": {
      "displayName": "Kwanyoung Lee",
      "photoUrl": "",
      "userId": "17965056898907400088"
     },
     "user_tz": -480
    },
    "id": "wRVanaMErj8-",
    "outputId": "59476ca4-45e3-48b7-dae1-ff736ed5b567"
   },
   "outputs": [
    {
     "data": {
      "text/html": [
       "<div>\n",
       "<style scoped>\n",
       "    .dataframe tbody tr th:only-of-type {\n",
       "        vertical-align: middle;\n",
       "    }\n",
       "\n",
       "    .dataframe tbody tr th {\n",
       "        vertical-align: top;\n",
       "    }\n",
       "\n",
       "    .dataframe thead th {\n",
       "        text-align: right;\n",
       "    }\n",
       "</style>\n",
       "<table border=\"1\" class=\"dataframe\">\n",
       "  <thead>\n",
       "    <tr style=\"text-align: right;\">\n",
       "      <th></th>\n",
       "      <th>year</th>\n",
       "      <th>month</th>\n",
       "      <th>AveragePricePerSaleableArea</th>\n",
       "      <th>Population</th>\n",
       "      <th>Unemployment_adjusted</th>\n",
       "      <th>Unemployment_not_adjusted</th>\n",
       "      <th>Imports</th>\n",
       "      <th>Total_exports</th>\n",
       "      <th>GDP</th>\n",
       "      <th>CCP_index</th>\n",
       "    </tr>\n",
       "  </thead>\n",
       "  <tbody>\n",
       "    <tr>\n",
       "      <th>0</th>\n",
       "      <td>2017</td>\n",
       "      <td>1</td>\n",
       "      <td>13495.170159</td>\n",
       "      <td>7391.7</td>\n",
       "      <td>3.3</td>\n",
       "      <td>3.1</td>\n",
       "      <td>308643</td>\n",
       "      <td>296299</td>\n",
       "      <td>631418.0</td>\n",
       "      <td>103.8</td>\n",
       "    </tr>\n",
       "    <tr>\n",
       "      <th>1</th>\n",
       "      <td>2017</td>\n",
       "      <td>2</td>\n",
       "      <td>13504.139043</td>\n",
       "      <td>7391.7</td>\n",
       "      <td>3.3</td>\n",
       "      <td>3.2</td>\n",
       "      <td>297978</td>\n",
       "      <td>241707</td>\n",
       "      <td>631418.0</td>\n",
       "      <td>103.7</td>\n",
       "    </tr>\n",
       "    <tr>\n",
       "      <th>2</th>\n",
       "      <td>2017</td>\n",
       "      <td>3</td>\n",
       "      <td>13429.026810</td>\n",
       "      <td>7391.7</td>\n",
       "      <td>3.2</td>\n",
       "      <td>3.2</td>\n",
       "      <td>364163</td>\n",
       "      <td>321895</td>\n",
       "      <td>631418.0</td>\n",
       "      <td>103.9</td>\n",
       "    </tr>\n",
       "    <tr>\n",
       "      <th>3</th>\n",
       "      <td>2017</td>\n",
       "      <td>4</td>\n",
       "      <td>14764.873467</td>\n",
       "      <td>7391.7</td>\n",
       "      <td>3.2</td>\n",
       "      <td>3.2</td>\n",
       "      <td>339520</td>\n",
       "      <td>305389</td>\n",
       "      <td>628277.0</td>\n",
       "      <td>104.5</td>\n",
       "    </tr>\n",
       "    <tr>\n",
       "      <th>4</th>\n",
       "      <td>2017</td>\n",
       "      <td>5</td>\n",
       "      <td>13969.317035</td>\n",
       "      <td>7391.7</td>\n",
       "      <td>3.1</td>\n",
       "      <td>3.2</td>\n",
       "      <td>338753</td>\n",
       "      <td>303105</td>\n",
       "      <td>628277.0</td>\n",
       "      <td>104.3</td>\n",
       "    </tr>\n",
       "    <tr>\n",
       "      <th>5</th>\n",
       "      <td>2017</td>\n",
       "      <td>6</td>\n",
       "      <td>14912.611662</td>\n",
       "      <td>7391.7</td>\n",
       "      <td>3.2</td>\n",
       "      <td>3.3</td>\n",
       "      <td>377684</td>\n",
       "      <td>329406</td>\n",
       "      <td>628277.0</td>\n",
       "      <td>104.3</td>\n",
       "    </tr>\n",
       "    <tr>\n",
       "      <th>6</th>\n",
       "      <td>2017</td>\n",
       "      <td>7</td>\n",
       "      <td>14216.623798</td>\n",
       "      <td>7413.1</td>\n",
       "      <td>3.1</td>\n",
       "      <td>3.3</td>\n",
       "      <td>356190</td>\n",
       "      <td>326589</td>\n",
       "      <td>679352.0</td>\n",
       "      <td>104.7</td>\n",
       "    </tr>\n",
       "    <tr>\n",
       "      <th>7</th>\n",
       "      <td>2017</td>\n",
       "      <td>8</td>\n",
       "      <td>14321.625345</td>\n",
       "      <td>7413.1</td>\n",
       "      <td>3.1</td>\n",
       "      <td>3.3</td>\n",
       "      <td>368190</td>\n",
       "      <td>332663</td>\n",
       "      <td>679352.0</td>\n",
       "      <td>104.8</td>\n",
       "    </tr>\n",
       "    <tr>\n",
       "      <th>8</th>\n",
       "      <td>2017</td>\n",
       "      <td>9</td>\n",
       "      <td>14416.688861</td>\n",
       "      <td>7413.1</td>\n",
       "      <td>3.1</td>\n",
       "      <td>3.1</td>\n",
       "      <td>403413</td>\n",
       "      <td>358705</td>\n",
       "      <td>679352.0</td>\n",
       "      <td>104.6</td>\n",
       "    </tr>\n",
       "    <tr>\n",
       "      <th>9</th>\n",
       "      <td>2017</td>\n",
       "      <td>10</td>\n",
       "      <td>14116.148171</td>\n",
       "      <td>7413.1</td>\n",
       "      <td>3.0</td>\n",
       "      <td>3.0</td>\n",
       "      <td>378694</td>\n",
       "      <td>334735</td>\n",
       "      <td>720337.0</td>\n",
       "      <td>104.9</td>\n",
       "    </tr>\n",
       "    <tr>\n",
       "      <th>10</th>\n",
       "      <td>2017</td>\n",
       "      <td>11</td>\n",
       "      <td>14585.793000</td>\n",
       "      <td>7413.1</td>\n",
       "      <td>3.0</td>\n",
       "      <td>2.8</td>\n",
       "      <td>407129</td>\n",
       "      <td>367423</td>\n",
       "      <td>720337.0</td>\n",
       "      <td>105.2</td>\n",
       "    </tr>\n",
       "    <tr>\n",
       "      <th>11</th>\n",
       "      <td>2017</td>\n",
       "      <td>12</td>\n",
       "      <td>15534.018105</td>\n",
       "      <td>7413.1</td>\n",
       "      <td>2.9</td>\n",
       "      <td>2.7</td>\n",
       "      <td>420586</td>\n",
       "      <td>360688</td>\n",
       "      <td>720337.0</td>\n",
       "      <td>105.6</td>\n",
       "    </tr>\n",
       "    <tr>\n",
       "      <th>12</th>\n",
       "      <td>2018</td>\n",
       "      <td>1</td>\n",
       "      <td>15127.240416</td>\n",
       "      <td>7451.0</td>\n",
       "      <td>2.9</td>\n",
       "      <td>2.7</td>\n",
       "      <td>381971</td>\n",
       "      <td>350046</td>\n",
       "      <td>684538.0</td>\n",
       "      <td>105.5</td>\n",
       "    </tr>\n",
       "    <tr>\n",
       "      <th>13</th>\n",
       "      <td>2018</td>\n",
       "      <td>2</td>\n",
       "      <td>15856.092887</td>\n",
       "      <td>7451.0</td>\n",
       "      <td>2.9</td>\n",
       "      <td>2.8</td>\n",
       "      <td>288476</td>\n",
       "      <td>245744</td>\n",
       "      <td>684538.0</td>\n",
       "      <td>106.9</td>\n",
       "    </tr>\n",
       "    <tr>\n",
       "      <th>14</th>\n",
       "      <td>2018</td>\n",
       "      <td>3</td>\n",
       "      <td>14794.930807</td>\n",
       "      <td>7451.0</td>\n",
       "      <td>2.8</td>\n",
       "      <td>2.8</td>\n",
       "      <td>403236</td>\n",
       "      <td>347732</td>\n",
       "      <td>684538.0</td>\n",
       "      <td>106.6</td>\n",
       "    </tr>\n",
       "    <tr>\n",
       "      <th>15</th>\n",
       "      <td>2018</td>\n",
       "      <td>4</td>\n",
       "      <td>16048.488026</td>\n",
       "      <td>7451.0</td>\n",
       "      <td>2.8</td>\n",
       "      <td>2.8</td>\n",
       "      <td>377173</td>\n",
       "      <td>330224</td>\n",
       "      <td>673764.0</td>\n",
       "      <td>106.5</td>\n",
       "    </tr>\n",
       "    <tr>\n",
       "      <th>16</th>\n",
       "      <td>2018</td>\n",
       "      <td>5</td>\n",
       "      <td>16272.230710</td>\n",
       "      <td>7451.0</td>\n",
       "      <td>2.8</td>\n",
       "      <td>2.8</td>\n",
       "      <td>394618</td>\n",
       "      <td>351368</td>\n",
       "      <td>673764.0</td>\n",
       "      <td>106.5</td>\n",
       "    </tr>\n",
       "    <tr>\n",
       "      <th>17</th>\n",
       "      <td>2018</td>\n",
       "      <td>6</td>\n",
       "      <td>16690.170870</td>\n",
       "      <td>7451.0</td>\n",
       "      <td>2.8</td>\n",
       "      <td>2.9</td>\n",
       "      <td>394471</td>\n",
       "      <td>340334</td>\n",
       "      <td>673764.0</td>\n",
       "      <td>106.8</td>\n",
       "    </tr>\n",
       "    <tr>\n",
       "      <th>18</th>\n",
       "      <td>2018</td>\n",
       "      <td>7</td>\n",
       "      <td>16477.657846</td>\n",
       "      <td>7486.4</td>\n",
       "      <td>2.8</td>\n",
       "      <td>3.0</td>\n",
       "      <td>406234</td>\n",
       "      <td>359125</td>\n",
       "      <td>723240.0</td>\n",
       "      <td>107.2</td>\n",
       "    </tr>\n",
       "    <tr>\n",
       "      <th>19</th>\n",
       "      <td>2018</td>\n",
       "      <td>8</td>\n",
       "      <td>15928.196661</td>\n",
       "      <td>7486.4</td>\n",
       "      <td>2.8</td>\n",
       "      <td>3.0</td>\n",
       "      <td>428452</td>\n",
       "      <td>376303</td>\n",
       "      <td>723240.0</td>\n",
       "      <td>107.2</td>\n",
       "    </tr>\n",
       "    <tr>\n",
       "      <th>20</th>\n",
       "      <td>2018</td>\n",
       "      <td>9</td>\n",
       "      <td>17135.004160</td>\n",
       "      <td>7486.4</td>\n",
       "      <td>2.8</td>\n",
       "      <td>2.9</td>\n",
       "      <td>422676</td>\n",
       "      <td>374961</td>\n",
       "      <td>723240.0</td>\n",
       "      <td>107.4</td>\n",
       "    </tr>\n",
       "    <tr>\n",
       "      <th>21</th>\n",
       "      <td>2018</td>\n",
       "      <td>10</td>\n",
       "      <td>15873.959139</td>\n",
       "      <td>7486.4</td>\n",
       "      <td>2.8</td>\n",
       "      <td>2.8</td>\n",
       "      <td>428142</td>\n",
       "      <td>383651</td>\n",
       "      <td>753619.0</td>\n",
       "      <td>107.7</td>\n",
       "    </tr>\n",
       "    <tr>\n",
       "      <th>22</th>\n",
       "      <td>2018</td>\n",
       "      <td>11</td>\n",
       "      <td>15639.781969</td>\n",
       "      <td>7486.4</td>\n",
       "      <td>2.8</td>\n",
       "      <td>2.7</td>\n",
       "      <td>409284</td>\n",
       "      <td>364320</td>\n",
       "      <td>753619.0</td>\n",
       "      <td>107.9</td>\n",
       "    </tr>\n",
       "    <tr>\n",
       "      <th>23</th>\n",
       "      <td>2018</td>\n",
       "      <td>12</td>\n",
       "      <td>15412.627632</td>\n",
       "      <td>7486.4</td>\n",
       "      <td>2.8</td>\n",
       "      <td>2.6</td>\n",
       "      <td>391187</td>\n",
       "      <td>339938</td>\n",
       "      <td>753619.0</td>\n",
       "      <td>108.3</td>\n",
       "    </tr>\n",
       "    <tr>\n",
       "      <th>24</th>\n",
       "      <td>2019</td>\n",
       "      <td>1</td>\n",
       "      <td>15654.937598</td>\n",
       "      <td>7507.4</td>\n",
       "      <td>2.8</td>\n",
       "      <td>2.6</td>\n",
       "      <td>359000</td>\n",
       "      <td>348701</td>\n",
       "      <td>707866.0</td>\n",
       "      <td>108.1</td>\n",
       "    </tr>\n",
       "    <tr>\n",
       "      <th>25</th>\n",
       "      <td>2019</td>\n",
       "      <td>2</td>\n",
       "      <td>15098.970783</td>\n",
       "      <td>7507.4</td>\n",
       "      <td>2.8</td>\n",
       "      <td>2.8</td>\n",
       "      <td>277508</td>\n",
       "      <td>228674</td>\n",
       "      <td>707866.0</td>\n",
       "      <td>109.1</td>\n",
       "    </tr>\n",
       "    <tr>\n",
       "      <th>26</th>\n",
       "      <td>2019</td>\n",
       "      <td>3</td>\n",
       "      <td>15618.304224</td>\n",
       "      <td>7507.4</td>\n",
       "      <td>2.8</td>\n",
       "      <td>2.8</td>\n",
       "      <td>402883</td>\n",
       "      <td>343641</td>\n",
       "      <td>707866.0</td>\n",
       "      <td>108.8</td>\n",
       "    </tr>\n",
       "    <tr>\n",
       "      <th>27</th>\n",
       "      <td>2019</td>\n",
       "      <td>4</td>\n",
       "      <td>15677.415837</td>\n",
       "      <td>7507.4</td>\n",
       "      <td>2.8</td>\n",
       "      <td>2.9</td>\n",
       "      <td>356609</td>\n",
       "      <td>321517</td>\n",
       "      <td>694280.0</td>\n",
       "      <td>109.6</td>\n",
       "    </tr>\n",
       "    <tr>\n",
       "      <th>28</th>\n",
       "      <td>2019</td>\n",
       "      <td>5</td>\n",
       "      <td>16008.018402</td>\n",
       "      <td>7507.4</td>\n",
       "      <td>2.8</td>\n",
       "      <td>2.9</td>\n",
       "      <td>377774</td>\n",
       "      <td>343065</td>\n",
       "      <td>694280.0</td>\n",
       "      <td>109.5</td>\n",
       "    </tr>\n",
       "    <tr>\n",
       "      <th>29</th>\n",
       "      <td>2019</td>\n",
       "      <td>6</td>\n",
       "      <td>15607.745839</td>\n",
       "      <td>7507.4</td>\n",
       "      <td>2.9</td>\n",
       "      <td>3.0</td>\n",
       "      <td>364794</td>\n",
       "      <td>309607</td>\n",
       "      <td>694280.0</td>\n",
       "      <td>110.2</td>\n",
       "    </tr>\n",
       "    <tr>\n",
       "      <th>30</th>\n",
       "      <td>2019</td>\n",
       "      <td>7</td>\n",
       "      <td>15940.842141</td>\n",
       "      <td>7520.8</td>\n",
       "      <td>2.9</td>\n",
       "      <td>3.0</td>\n",
       "      <td>370790</td>\n",
       "      <td>338618</td>\n",
       "      <td>719326.0</td>\n",
       "      <td>110.7</td>\n",
       "    </tr>\n",
       "    <tr>\n",
       "      <th>31</th>\n",
       "      <td>2019</td>\n",
       "      <td>8</td>\n",
       "      <td>15626.227715</td>\n",
       "      <td>7520.8</td>\n",
       "      <td>2.9</td>\n",
       "      <td>3.0</td>\n",
       "      <td>380777</td>\n",
       "      <td>352727</td>\n",
       "      <td>719326.0</td>\n",
       "      <td>110.9</td>\n",
       "    </tr>\n",
       "    <tr>\n",
       "      <th>32</th>\n",
       "      <td>2019</td>\n",
       "      <td>9</td>\n",
       "      <td>14866.399847</td>\n",
       "      <td>7520.8</td>\n",
       "      <td>3.0</td>\n",
       "      <td>3.2</td>\n",
       "      <td>379325</td>\n",
       "      <td>347685</td>\n",
       "      <td>719326.0</td>\n",
       "      <td>110.9</td>\n",
       "    </tr>\n",
       "    <tr>\n",
       "      <th>33</th>\n",
       "      <td>2019</td>\n",
       "      <td>10</td>\n",
       "      <td>15657.881455</td>\n",
       "      <td>7520.8</td>\n",
       "      <td>3.2</td>\n",
       "      <td>3.2</td>\n",
       "      <td>379118</td>\n",
       "      <td>348528</td>\n",
       "      <td>744207.0</td>\n",
       "      <td>111.0</td>\n",
       "    </tr>\n",
       "    <tr>\n",
       "      <th>34</th>\n",
       "      <td>2019</td>\n",
       "      <td>11</td>\n",
       "      <td>15664.024478</td>\n",
       "      <td>7520.8</td>\n",
       "      <td>3.3</td>\n",
       "      <td>3.1</td>\n",
       "      <td>385438</td>\n",
       "      <td>359270</td>\n",
       "      <td>744207.0</td>\n",
       "      <td>111.1</td>\n",
       "    </tr>\n",
       "    <tr>\n",
       "      <th>35</th>\n",
       "      <td>2019</td>\n",
       "      <td>12</td>\n",
       "      <td>15741.234549</td>\n",
       "      <td>7520.8</td>\n",
       "      <td>3.4</td>\n",
       "      <td>3.1</td>\n",
       "      <td>383773</td>\n",
       "      <td>351276</td>\n",
       "      <td>744207.0</td>\n",
       "      <td>111.4</td>\n",
       "    </tr>\n",
       "  </tbody>\n",
       "</table>\n",
       "</div>"
      ],
      "text/plain": [
       "    year  month  AveragePricePerSaleableArea  Population  \\\n",
       "0   2017      1                 13495.170159      7391.7   \n",
       "1   2017      2                 13504.139043      7391.7   \n",
       "2   2017      3                 13429.026810      7391.7   \n",
       "3   2017      4                 14764.873467      7391.7   \n",
       "4   2017      5                 13969.317035      7391.7   \n",
       "5   2017      6                 14912.611662      7391.7   \n",
       "6   2017      7                 14216.623798      7413.1   \n",
       "7   2017      8                 14321.625345      7413.1   \n",
       "8   2017      9                 14416.688861      7413.1   \n",
       "9   2017     10                 14116.148171      7413.1   \n",
       "10  2017     11                 14585.793000      7413.1   \n",
       "11  2017     12                 15534.018105      7413.1   \n",
       "12  2018      1                 15127.240416      7451.0   \n",
       "13  2018      2                 15856.092887      7451.0   \n",
       "14  2018      3                 14794.930807      7451.0   \n",
       "15  2018      4                 16048.488026      7451.0   \n",
       "16  2018      5                 16272.230710      7451.0   \n",
       "17  2018      6                 16690.170870      7451.0   \n",
       "18  2018      7                 16477.657846      7486.4   \n",
       "19  2018      8                 15928.196661      7486.4   \n",
       "20  2018      9                 17135.004160      7486.4   \n",
       "21  2018     10                 15873.959139      7486.4   \n",
       "22  2018     11                 15639.781969      7486.4   \n",
       "23  2018     12                 15412.627632      7486.4   \n",
       "24  2019      1                 15654.937598      7507.4   \n",
       "25  2019      2                 15098.970783      7507.4   \n",
       "26  2019      3                 15618.304224      7507.4   \n",
       "27  2019      4                 15677.415837      7507.4   \n",
       "28  2019      5                 16008.018402      7507.4   \n",
       "29  2019      6                 15607.745839      7507.4   \n",
       "30  2019      7                 15940.842141      7520.8   \n",
       "31  2019      8                 15626.227715      7520.8   \n",
       "32  2019      9                 14866.399847      7520.8   \n",
       "33  2019     10                 15657.881455      7520.8   \n",
       "34  2019     11                 15664.024478      7520.8   \n",
       "35  2019     12                 15741.234549      7520.8   \n",
       "\n",
       "    Unemployment_adjusted  Unemployment_not_adjusted  Imports  Total_exports  \\\n",
       "0                     3.3                        3.1   308643         296299   \n",
       "1                     3.3                        3.2   297978         241707   \n",
       "2                     3.2                        3.2   364163         321895   \n",
       "3                     3.2                        3.2   339520         305389   \n",
       "4                     3.1                        3.2   338753         303105   \n",
       "5                     3.2                        3.3   377684         329406   \n",
       "6                     3.1                        3.3   356190         326589   \n",
       "7                     3.1                        3.3   368190         332663   \n",
       "8                     3.1                        3.1   403413         358705   \n",
       "9                     3.0                        3.0   378694         334735   \n",
       "10                    3.0                        2.8   407129         367423   \n",
       "11                    2.9                        2.7   420586         360688   \n",
       "12                    2.9                        2.7   381971         350046   \n",
       "13                    2.9                        2.8   288476         245744   \n",
       "14                    2.8                        2.8   403236         347732   \n",
       "15                    2.8                        2.8   377173         330224   \n",
       "16                    2.8                        2.8   394618         351368   \n",
       "17                    2.8                        2.9   394471         340334   \n",
       "18                    2.8                        3.0   406234         359125   \n",
       "19                    2.8                        3.0   428452         376303   \n",
       "20                    2.8                        2.9   422676         374961   \n",
       "21                    2.8                        2.8   428142         383651   \n",
       "22                    2.8                        2.7   409284         364320   \n",
       "23                    2.8                        2.6   391187         339938   \n",
       "24                    2.8                        2.6   359000         348701   \n",
       "25                    2.8                        2.8   277508         228674   \n",
       "26                    2.8                        2.8   402883         343641   \n",
       "27                    2.8                        2.9   356609         321517   \n",
       "28                    2.8                        2.9   377774         343065   \n",
       "29                    2.9                        3.0   364794         309607   \n",
       "30                    2.9                        3.0   370790         338618   \n",
       "31                    2.9                        3.0   380777         352727   \n",
       "32                    3.0                        3.2   379325         347685   \n",
       "33                    3.2                        3.2   379118         348528   \n",
       "34                    3.3                        3.1   385438         359270   \n",
       "35                    3.4                        3.1   383773         351276   \n",
       "\n",
       "         GDP  CCP_index  \n",
       "0   631418.0      103.8  \n",
       "1   631418.0      103.7  \n",
       "2   631418.0      103.9  \n",
       "3   628277.0      104.5  \n",
       "4   628277.0      104.3  \n",
       "5   628277.0      104.3  \n",
       "6   679352.0      104.7  \n",
       "7   679352.0      104.8  \n",
       "8   679352.0      104.6  \n",
       "9   720337.0      104.9  \n",
       "10  720337.0      105.2  \n",
       "11  720337.0      105.6  \n",
       "12  684538.0      105.5  \n",
       "13  684538.0      106.9  \n",
       "14  684538.0      106.6  \n",
       "15  673764.0      106.5  \n",
       "16  673764.0      106.5  \n",
       "17  673764.0      106.8  \n",
       "18  723240.0      107.2  \n",
       "19  723240.0      107.2  \n",
       "20  723240.0      107.4  \n",
       "21  753619.0      107.7  \n",
       "22  753619.0      107.9  \n",
       "23  753619.0      108.3  \n",
       "24  707866.0      108.1  \n",
       "25  707866.0      109.1  \n",
       "26  707866.0      108.8  \n",
       "27  694280.0      109.6  \n",
       "28  694280.0      109.5  \n",
       "29  694280.0      110.2  \n",
       "30  719326.0      110.7  \n",
       "31  719326.0      110.9  \n",
       "32  719326.0      110.9  \n",
       "33  744207.0      111.0  \n",
       "34  744207.0      111.1  \n",
       "35  744207.0      111.4  "
      ]
     },
     "execution_count": 72,
     "metadata": {},
     "output_type": "execute_result"
    }
   ],
   "source": [
    "# Data directory\n",
    "file_dir = \"../determinants/\"\n",
    "\n",
    "district_df = pd.DataFrame()\n",
    "\n",
    "population_df = pd.read_csv(data_dir+file_dir+\"TABLE001.csv\")\n",
    "unemployment_rate_df = pd.read_csv(data_dir+file_dir+\"TABLE006.csv\")\n",
    "export_import_df = pd.read_csv(data_dir+file_dir+\"TABLE055.csv\")\n",
    "gdp_df = pd.read_csv(data_dir+file_dir+\"TABLE030.csv\")\n",
    "consumer_price_indices_df = pd.read_csv(data_dir+file_dir+\"TABLE052.csv\")\n",
    "\n",
    "value_population = population_df['Number_000'].tolist()\n",
    "value_unemployment_adjusted = unemployment_rate_df['Unemployment_rate_seasonally_adjusted'].tolist()\n",
    "value_unemployment_not_adjusted = unemployment_rate_df['Unemployment_rate_not_adjusted'].tolist()\n",
    "value_import = export_import_df['Imports'].tolist()\n",
    "value_export = export_import_df['Total_exports'].tolist()\n",
    "value_gdp = gdp_df['GDP_current_market_prices'].tolist()\n",
    "value_gdp_per_capita = gdp_df['Per_capita_GDP_current_market_prices'].tolist()\n",
    "value_gdp = gdp_df['GDP_current_market_prices'].tolist()\n",
    "value_gdp_per_capita = gdp_df['Per_capita_GDP_current_market_prices'].tolist()\n",
    "value_consumer_price_indices = consumer_price_indices_df['Composite_Consumer_Price_Index'].tolist()\n",
    "\n",
    "new_monthly_df['Population'] = np.select(conditions_half, value_population) \n",
    "new_monthly_df['Unemployment_adjusted'] = np.select(conditions_month[:46], value_unemployment_adjusted) \n",
    "new_monthly_df['Unemployment_not_adjusted'] = np.select(conditions_month[:46], value_unemployment_not_adjusted)\n",
    "new_monthly_df['Imports'] = np.select(conditions_month, value_import) \n",
    "new_monthly_df['Total_exports'] = np.select(conditions_month, value_export)\n",
    "new_monthly_df['GDP'] = np.select(conditions_quarter, value_gdp[3:])\n",
    "#new_monthly_df['GDP_per_capita'] = np.select(conditions_year, value_gdp_per_capita[:3])\n",
    "new_monthly_df['CCP_index'] = np.select(conditions_month, value_consumer_price_indices)\n",
    "\n",
    "new_monthly_df['GDP'] = new_monthly_df['GDP'].str.replace(',', '').astype(float)\n",
    "#new_monthly_df['GDP_per_capita'] = new_monthly_df['GDP_per_capita'].str.replace(',', '').astype(float)\n",
    "\n",
    "new_monthly_df.head()\n",
    "\n",
    "df = new_monthly_df.copy()\n",
    "df = df[(df['year'] <= 2019)]\n",
    "\n",
    "df.head(50)"
   ]
  },
  {
   "cell_type": "markdown",
   "metadata": {
    "id": "gULTw7op15mW"
   },
   "source": [
    "**Univariate analysis**"
   ]
  },
  {
   "cell_type": "code",
   "execution_count": 73,
   "metadata": {},
   "outputs": [],
   "source": [
    "def univariate_analysis(feature_name):\n",
    "    # Statistical summary\n",
    "    print(df[feature_name].describe())\n",
    "\n",
    "    # Histogram\n",
    "    plt.figure(figsize=(8,4))\n",
    "    sns.distplot(df[feature_name], axlabel=feature_name);"
   ]
  },
  {
   "cell_type": "code",
   "execution_count": 74,
   "metadata": {},
   "outputs": [
    {
     "name": "stdout",
     "output_type": "stream",
     "text": [
      "count        36.000000\n",
      "mean     375129.222222\n",
      "std       37068.626934\n",
      "min      277508.000000\n",
      "25%      362872.250000\n",
      "50%      379221.500000\n",
      "75%      402971.250000\n",
      "max      428452.000000\n",
      "Name: Imports, dtype: float64\n"
     ]
    },
    {
     "data": {
      "image/png": "[encoded data removed]",
      "text/plain": [
       "<Figure size 576x288 with 1 Axes>"
      ]
     },
     "metadata": {
      "needs_background": "light"
     },
     "output_type": "display_data"
    }
   ],
   "source": [
    "univariate_analysis('Imports')"
   ]
  },
  {
   "cell_type": "markdown",
   "metadata": {},
   "source": [
    "**Bivariate analysis**"
   ]
  },
  {
   "cell_type": "code",
   "execution_count": 75,
   "metadata": {},
   "outputs": [
    {
     "data": {
      "image/png": "[encoded data removed]",
      "text/plain": [
       "<Figure size 1152x288 with 4 Axes>"
      ]
     },
     "metadata": {
      "needs_background": "light"
     },
     "output_type": "display_data"
    },
    {
     "data": {
      "image/png": "[encoded data removed]",
      "text/plain": [
       "<Figure size 864x288 with 3 Axes>"
      ]
     },
     "metadata": {
      "needs_background": "light"
     },
     "output_type": "display_data"
    }
   ],
   "source": [
    "for i in range(3, len(df.columns), 4):\n",
    "    sns.pairplot(data=df,\n",
    "                x_vars=df.columns[i:i+4],\n",
    "                y_vars=['AveragePricePerSaleableArea'],\n",
    "                size=4)"
   ]
  },
  {
   "cell_type": "code",
   "execution_count": 76,
   "metadata": {
    "executionInfo": {
     "elapsed": 1606,
     "status": "ok",
     "timestamp": 1610558000033,
     "user": {
      "displayName": "Kwanyoung Lee",
      "photoUrl": "",
      "userId": "17965056898907400088"
     },
     "user_tz": -480
    },
    "id": "sW1W44LsrOGb"
   },
   "outputs": [],
   "source": [
    "def graphWithTrendLine(var):\n",
    "    x = df[var]\n",
    "    y = df['AveragePricePerSaleableArea']\n",
    "\n",
    "    plt.scatter(x, y)\n",
    "    plt.xticks(rotation=45)\n",
    "    fig = sns.regplot(x=var, y=\"AveragePricePerSaleableArea\", data=df)"
   ]
  },
  {
   "cell_type": "code",
   "execution_count": 77,
   "metadata": {
    "colab": {
     "base_uri": "https://localhost:8080/",
     "height": 329
    },
    "executionInfo": {
     "elapsed": 2727,
     "status": "ok",
     "timestamp": 1610558051867,
     "user": {
      "displayName": "Kwanyoung Lee",
      "photoUrl": "",
      "userId": "17965056898907400088"
     },
     "user_tz": -480
    },
    "id": "5pOVkv1mjt25",
    "outputId": "23e19d54-74ca-4596-feca-8e24eed60e6e"
   },
   "outputs": [
    {
     "data": {
      "image/png": "[encoded data removed]",
      "text/plain": [
       "<Figure size 432x288 with 1 Axes>"
      ]
     },
     "metadata": {
      "needs_background": "light"
     },
     "output_type": "display_data"
    }
   ],
   "source": [
    "graphWithTrendLine(\"Population\")"
   ]
  },
  {
   "cell_type": "code",
   "execution_count": 78,
   "metadata": {
    "colab": {
     "base_uri": "https://localhost:8080/",
     "height": 321
    },
    "executionInfo": {
     "elapsed": 2627,
     "status": "ok",
     "timestamp": 1610558054138,
     "user": {
      "displayName": "Kwanyoung Lee",
      "photoUrl": "",
      "userId": "17965056898907400088"
     },
     "user_tz": -480
    },
    "id": "rOpO8BWnseLM",
    "outputId": "ab585527-dd59-4d55-8dfa-f82eb549555d"
   },
   "outputs": [
    {
     "data": {
      "image/png": "[encoded data removed]",
      "text/plain": [
       "<Figure size 432x288 with 1 Axes>"
      ]
     },
     "metadata": {
      "needs_background": "light"
     },
     "output_type": "display_data"
    }
   ],
   "source": [
    "graphWithTrendLine(\"Unemployment_adjusted\")"
   ]
  },
  {
   "cell_type": "code",
   "execution_count": 79,
   "metadata": {
    "colab": {
     "base_uri": "https://localhost:8080/",
     "height": 321
    },
    "executionInfo": {
     "elapsed": 2207,
     "status": "ok",
     "timestamp": 1610558055401,
     "user": {
      "displayName": "Kwanyoung Lee",
      "photoUrl": "",
      "userId": "17965056898907400088"
     },
     "user_tz": -480
    },
    "id": "ENOvkG-tsl-o",
    "outputId": "dad700fc-8e91-4763-bff0-842bc240bcbf"
   },
   "outputs": [
    {
     "data": {
      "image/png": "[encoded data removed]",
      "text/plain": [
       "<Figure size 432x288 with 1 Axes>"
      ]
     },
     "metadata": {
      "needs_background": "light"
     },
     "output_type": "display_data"
    }
   ],
   "source": [
    "graphWithTrendLine(\"Unemployment_not_adjusted\")"
   ]
  },
  {
   "cell_type": "code",
   "execution_count": 80,
   "metadata": {
    "colab": {
     "base_uri": "https://localhost:8080/",
     "height": 342
    },
    "executionInfo": {
     "elapsed": 2511,
     "status": "ok",
     "timestamp": 1610558057026,
     "user": {
      "displayName": "Kwanyoung Lee",
      "photoUrl": "",
      "userId": "17965056898907400088"
     },
     "user_tz": -480
    },
    "id": "e8FUDvI5sndX",
    "outputId": "9b907184-615e-4d84-a488-11e2ea01aab4"
   },
   "outputs": [
    {
     "data": {
      "image/png": "[encoded data removed]",
      "text/plain": [
       "<Figure size 432x288 with 1 Axes>"
      ]
     },
     "metadata": {
      "needs_background": "light"
     },
     "output_type": "display_data"
    }
   ],
   "source": [
    "graphWithTrendLine(\"Imports\")"
   ]
  },
  {
   "cell_type": "code",
   "execution_count": 81,
   "metadata": {
    "colab": {
     "base_uri": "https://localhost:8080/",
     "height": 343
    },
    "executionInfo": {
     "elapsed": 1260,
     "status": "ok",
     "timestamp": 1610558057541,
     "user": {
      "displayName": "Kwanyoung Lee",
      "photoUrl": "",
      "userId": "17965056898907400088"
     },
     "user_tz": -480
    },
    "id": "hqyBnzEfsqYA",
    "outputId": "b4aa7a4d-9b3a-480d-dd2f-ede055950e78"
   },
   "outputs": [
    {
     "data": {
      "image/png": "[encoded data removed]",
      "text/plain": [
       "<Figure size 432x288 with 1 Axes>"
      ]
     },
     "metadata": {
      "needs_background": "light"
     },
     "output_type": "display_data"
    }
   ],
   "source": [
    "graphWithTrendLine(\"Total_exports\")"
   ]
  },
  {
   "cell_type": "code",
   "execution_count": 82,
   "metadata": {
    "colab": {
     "base_uri": "https://localhost:8080/",
     "height": 342
    },
    "executionInfo": {
     "elapsed": 1085,
     "status": "ok",
     "timestamp": 1610558058895,
     "user": {
      "displayName": "Kwanyoung Lee",
      "photoUrl": "",
      "userId": "17965056898907400088"
     },
     "user_tz": -480
    },
    "id": "xobcyN5ussCQ",
    "outputId": "40e7d73b-e938-4402-9bba-4fca96a23ee9"
   },
   "outputs": [
    {
     "data": {
      "image/png": "[encoded data removed]",
      "text/plain": [
       "<Figure size 432x288 with 1 Axes>"
      ]
     },
     "metadata": {
      "needs_background": "light"
     },
     "output_type": "display_data"
    }
   ],
   "source": [
    "graphWithTrendLine(\"GDP\")"
   ]
  },
  {
   "cell_type": "code",
   "execution_count": 83,
   "metadata": {
    "colab": {
     "base_uri": "https://localhost:8080/",
     "height": 343
    },
    "executionInfo": {
     "elapsed": 1041,
     "status": "ok",
     "timestamp": 1610558060785,
     "user": {
      "displayName": "Kwanyoung Lee",
      "photoUrl": "",
      "userId": "17965056898907400088"
     },
     "user_tz": -480
    },
    "id": "5vDp3hwNstmg",
    "outputId": "35ea565f-6738-42d9-da12-bdb843c19396"
   },
   "outputs": [],
   "source": [
    "#graphWithTrendLine(\"GDP_per_capita\")"
   ]
  },
  {
   "cell_type": "code",
   "execution_count": 84,
   "metadata": {
    "colab": {
     "base_uri": "https://localhost:8080/",
     "height": 325
    },
    "executionInfo": {
     "elapsed": 997,
     "status": "ok",
     "timestamp": 1610558062508,
     "user": {
      "displayName": "Kwanyoung Lee",
      "photoUrl": "",
      "userId": "17965056898907400088"
     },
     "user_tz": -480
    },
    "id": "6XRRtXgvsvPB",
    "outputId": "30f6ec3c-3411-431b-f2c1-d09ae47f6eca"
   },
   "outputs": [
    {
     "data": {
      "image/png": "[encoded data removed]",
      "text/plain": [
       "<Figure size 432x288 with 1 Axes>"
      ]
     },
     "metadata": {
      "needs_background": "light"
     },
     "output_type": "display_data"
    }
   ],
   "source": [
    "graphWithTrendLine(\"CCP_index\")"
   ]
  },
  {
   "cell_type": "markdown",
   "metadata": {},
   "source": [
    "**Correlation Matrix and Heatmap**"
   ]
  },
  {
   "cell_type": "code",
   "execution_count": 85,
   "metadata": {
    "colab": {
     "base_uri": "https://localhost:8080/",
     "height": 743
    },
    "executionInfo": {
     "elapsed": 3286,
     "status": "ok",
     "timestamp": 1610554010738,
     "user": {
      "displayName": "Kwanyoung Lee",
      "photoUrl": "",
      "userId": "17965056898907400088"
     },
     "user_tz": -480
    },
    "id": "DPc7Urah4Nbd",
    "outputId": "7bbb983c-d576-429d-e638-07266f7c256e"
   },
   "outputs": [
    {
     "data": {
      "image/png": "[encoded data removed]",
      "text/plain": [
       "<Figure size 720x720 with 2 Axes>"
      ]
     },
     "metadata": {
      "needs_background": "light"
     },
     "output_type": "display_data"
    }
   ],
   "source": [
    "# Heatmap\n",
    "fig, ax = plt.subplots(figsize=(10,10)) \n",
    "cols = df.corr().sort_values('AveragePricePerSaleableArea', ascending=False).index\n",
    "cm = np.corrcoef(df[cols].values.T)\n",
    "hm = sns.heatmap(cm, annot=True, square=True, annot_kws={'size':11}, yticklabels=cols.values, xticklabels=cols.values)\n",
    "plt.show()"
   ]
  },
  {
   "cell_type": "code",
   "execution_count": null,
   "metadata": {},
   "outputs": [],
   "source": []
  }
 ],
 "metadata": {
  "colab": {
   "authorship_tag": "ABX9TyPPE5knYqSv9ieCETnqWng+",
   "name": "Economic data analysis.ipynb",
   "provenance": []
  },
  "kernelspec": {
   "display_name": "Python 3",
   "language": "python",
   "name": "python3"
  },
  "language_info": {
   "codemirror_mode": {
    "name": "ipython",
    "version": 3
   },
   "file_extension": ".py",
   "mimetype": "text/x-python",
   "name": "python",
   "nbconvert_exporter": "python",
   "pygments_lexer": "ipython3",
   "version": "3.9.4"
  }
 },
 "nbformat": 4,
 "nbformat_minor": 1
}
