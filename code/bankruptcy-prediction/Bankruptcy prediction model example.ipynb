{
 "cells": [
  {
   "cell_type": "code",
   "execution_count": 1,
   "metadata": {},
   "outputs": [],
   "source": [
    "import numpy as np\n",
    "import pandas as pd\n",
    "import matplotlib.pyplot as plt\n",
    "\n",
    "from sklearn import preprocessing\n",
    "from sklearn.model_selection import train_test_split\n",
    "from sklearn.metrics import classification_report,confusion_matrix\n",
    "\n",
    "from sklearn.svm import SVC\n",
    "from sklearn.model_selection import GridSearchCV\n",
    "\n",
    "from sklearn.tree import DecisionTreeClassifier\n",
    "from sklearn.ensemble import RandomForestClassifier\n",
    "from sklearn.neighbors import KNeighborsClassifier"
   ]
  },
  {
   "cell_type": "code",
   "execution_count": 2,
   "metadata": {},
   "outputs": [],
   "source": [
    "def clean_dataset(df):\n",
    "    assert isinstance(df, pd.DataFrame), \"df needs to be a pd.DataFrame\"\n",
    "    df.dropna(inplace=True)\n",
    "    indices_to_keep = ~df.isin([np.nan, np.inf, -np.inf]).any(1)\n",
    "    return df[indices_to_keep].astype(np.float64)"
   ]
  },
  {
   "cell_type": "code",
   "execution_count": 3,
   "metadata": {},
   "outputs": [],
   "source": [
    "class bankrupt_prediction:\n",
    "    \"\"\"\n",
    "    bankrupt_data - training set (with companies that bankrupted)\n",
    "    non_bankrupt_data - training set (with companies that survived)\n",
    "    inf_data - inferencing dataset\n",
    "    inferencing - True means predict with inf_data, False means predict with test_data\n",
    "    -----------------------------------------------------------------------------------\n",
    "    \n",
    "    Variables are:\n",
    "        X1 = working capital / total assets; \n",
    "        X2 = retained earnings / total asssets\n",
    "        X3 = EBIT / total assets\n",
    "        X4 = total equity (book) / total assets\n",
    "        X5 = net income / total assets\n",
    "        X6 = total liabilities / total assets  \n",
    "        \n",
    "    \"\"\"\n",
    "    def __init__(self, bankrupt_data, non_bankrupt_data, inf_data, inferencing=False):\n",
    "        self.bankrupt_data =  bankrupt_data\n",
    "        self.non_bankrupt_data = non_bankrupt_data\n",
    "        self.inf_data = inf_data\n",
    "        self.inferencing = inferencing\n",
    "\n",
    "        # Concatenate data\n",
    "        data_full = pd.concat([bankrupt_data, non_bankrupt_data], ignore_index=True)\n",
    "\n",
    "        # Add and scale variables\n",
    "        data_full[\"X1\"] = preprocessing.scale(data_full[\"WoCap\"] / data_full[\"ToAsset\"])\n",
    "        data_full[\"X2\"] = preprocessing.scale(data_full[\"CFOper\"] / data_full[\"ToLia\"])\n",
    "        data_full[\"X3\"] = preprocessing.scale(data_full[\"EBIT\"] / data_full[\"ToAsset\"])\n",
    "        data_full[\"X4\"] = preprocessing.scale(data_full[\"ToEqui\"] / data_full[\"ToAsset\"])\n",
    "        data_full[\"X5\"] = preprocessing.scale(data_full[\"NetInc\"] / data_full[\"ToAsset\"])\n",
    "        data_full[\"X6\"] = preprocessing.scale(data_full[\"ToLia\"] / data_full[\"ToAsset\"])\n",
    "\n",
    "        inf_data[\"X1\"] = preprocessing.scale(inf_data[\"WoCap\"] / inf_data[\"ToAsset\"])\n",
    "        inf_data[\"X2\"] = preprocessing.scale(inf_data[\"CFOper\"] / inf_data[\"ToLia\"])\n",
    "        inf_data[\"X3\"] = preprocessing.scale(inf_data[\"EBIT\"] / inf_data[\"ToAsset\"])\n",
    "        inf_data[\"X4\"] = preprocessing.scale(inf_data[\"ToEqui\"] / inf_data[\"ToAsset\"])\n",
    "        inf_data[\"X5\"] = preprocessing.scale(inf_data[\"NetInc\"] / inf_data[\"ToAsset\"])\n",
    "        inf_data[\"X6\"] = preprocessing.scale(inf_data[\"ToLia\"] / inf_data[\"ToAsset\"])\n",
    "\n",
    "        # Split data for training and testing\n",
    "        X = data_full[[\"X1\", \"X2\", \"X3\", \"X4\",\"X5\",\"X6\"]]\n",
    "        y = data_full['Status'] \n",
    "        self.X_train, self.X_test, self.y_train, self.y_test = train_test_split(X, y, test_size=0.3, random_state=101)\n",
    "        \n",
    "        self.tmp_inf_data = inf_data[[\"Ticker\", \"X1\", \"X2\", \"X3\", \"X4\",\"X5\",\"X6\"]]\n",
    "        self.tmp_inf_data = clean_dataset(self.tmp_inf_data)\n",
    "        self.tmp_inf_data.dropna(inplace=True)\n",
    "        self.cleaned_inf_data = self.tmp_inf_data[[\"X1\", \"X2\", \"X3\", \"X4\",\"X5\",\"X6\"]] # filter out Ticker column\n",
    "    \n",
    "    # Supported Vector Machine\n",
    "    def svm(self):\n",
    "        model = SVC()\n",
    "        model.fit(self.X_train,self.y_train)\n",
    "        predictions = model.predict(self.X_test)\n",
    "        param_grid = {'C': [0.1, 1, 10, 100, 1000], 'gamma': [1, 0.1, 0.01, 0.001, 0.0001], 'kernel': ['rbf']} \n",
    "        grid = GridSearchCV(SVC(),param_grid,refit=True,verbose=3)\n",
    "        grid.fit(self.X_train,self.y_train)\n",
    "        grid.best_params_\n",
    "        grid.best_estimator_\n",
    "    \n",
    "        if (self.inferencing):\n",
    "            svm_pred = svn.predict(self.cleaned_inf_data)\n",
    "            output_data = {'Ticker': self.tmp_inf_data['Ticker'], 'svm': svm_pred}\n",
    "            results_df = pd.DataFrame(output_data)\n",
    "            results_df.Ticker = results_df.Ticker.astype(int)\n",
    "            \n",
    "            print(\"Inferencing done\")\n",
    "            return results_df\n",
    "            \n",
    "        else:\n",
    "            svm_pred = grid.predict(self.X_test)\n",
    "            print(\"Confusion Matrix using Supported Vector Machine: \\n\", confusion_matrix(self.y_test,svm_pred))\n",
    "            print(\"Classification Report using Supported Vector Machine: \\n\", classification_report(self.y_test,svm_pred))\n",
    "\n",
    "        print(\"svm_pred\")\n",
    "        print(svm_pred)\n",
    "    \n",
    "    \n",
    "    # Decision Tree\n",
    "    def decision_tree(self):\n",
    "        dtree = DecisionTreeClassifier()\n",
    "        dtree.fit(self.X_train,self.y_train)\n",
    "        \n",
    "        if (self.inferencing):\n",
    "            dtree_pred = dtree.predict(self.cleaned_inf_data)\n",
    "            output_data = {'Ticker': self.tmp_inf_data['Ticker'], 'dtree': dtree_pred}\n",
    "            results_df = pd.DataFrame(output_data)\n",
    "            results_df.Ticker = results_df.Ticker.astype(int)\n",
    "            \n",
    "            print(\"Inferencing done\")\n",
    "            return results_df\n",
    "        \n",
    "        else:\n",
    "            dtree_pred = dtree.predict(self.X_test)\n",
    "            print(\"Confusion Matrix using Decision Tree: \\n\", confusion_matrix(self.y_test,dtree_pred))\n",
    "            print(\"Classification Report using Decision Tree: \\n\", classification_report(self.y_test,dtree_pred))\n",
    "            \n",
    "        print(\"dtree_pred\")\n",
    "        print(dtree_pred)\n",
    "    \n",
    "    \n",
    "    # Random Forest\n",
    "    def random_forest(self):\n",
    "        rf = RandomForestClassifier(n_estimators=100)\n",
    "        rf.fit(self.X_train,self.y_train)\n",
    "        \n",
    "        if (self.inferencing):\n",
    "            rf_pred = rf.predict(self.cleaned_inf_data)\n",
    "            output_data = {'Ticker': self.tmp_inf_data['Ticker'], 'rf': rf_pred}\n",
    "            results_df = pd.DataFrame(output_data)\n",
    "            results_df.Ticker = results_df.Ticker.astype(int)\n",
    "            \n",
    "            print(\"Inferencing done\")\n",
    "            return results_df\n",
    "        \n",
    "        else:\n",
    "            rf_pred = rf.predict(self.X_test)\n",
    "            print(\"Confusion Matrix using Decision Tree: \\n\", confusion_matrix(self.y_test,rf_pred))\n",
    "            print(\"Classification Report using Decision Tree: \\n\", classification_report(self.y_test,rf_pred))\n",
    "            \n",
    "        print(\"rf_pred\")\n",
    "        print(rf_pred)\n",
    "    \n",
    "    \n",
    "    # K-nearest neighbor\n",
    "    def knn(self):\n",
    "        knn = KNeighborsClassifier(n_neighbors=1)\n",
    "        knn.fit(self.X_train,self.y_train)\n",
    "        \n",
    "        if (self.inferencing):\n",
    "            knn_pred = knn.predict(self.cleaned_inf_data)\n",
    "            output_data = {'Ticker': self.tmp_inf_data['Ticker'], 'knn': knn_pred}\n",
    "            results_df = pd.DataFrame(output_data)\n",
    "            results_df.Ticker = results_df.Ticker.astype(int)\n",
    "            \n",
    "            print(\"Inferencing done\")\n",
    "            return results_df\n",
    "        \n",
    "        else:\n",
    "            knn_pred = knn.predict(self.X_test)\n",
    "            print(\"Confusion Matrix using Decision Tree: \\n\", confusion_matrix(self.y_test,knn_pred))\n",
    "            print(\"Classification Report using Decision Tree: \\n\", classification_report(self.y_test,knn_pred))\n",
    "            \n",
    "        print(\"knn_pred\")\n",
    "        print(knn_pred)"
   ]
  },
  {
   "cell_type": "markdown",
   "metadata": {},
   "source": [
    "### Bankruptcy prediction at t-1\n",
    "Predict whether the company will go bankrupt in 1 year1. (0 = bankrupt, 1 = survive)"
   ]
  },
  {
   "cell_type": "code",
   "execution_count": 4,
   "metadata": {
    "scrolled": false
   },
   "outputs": [],
   "source": [
    "# load dataset and input file\n",
    "bankrupt_t1 = pd.read_csv(\"./ucla-dataset/bankrupt_t1.csv\").fillna(value = 1)\n",
    "non_bankrupt_t1 = pd.read_csv(\"./ucla-dataset/non_bankrupt_t1.csv\").fillna(value = 1)\n",
    "\n",
    "input_df = pd.read_csv(\"input-data-ML.csv\", dtype={'Ticker': 'int'})\n",
    "\n",
    "# data pre-processing\n",
    "input_df.dropna() # drop rows with empty entries\n",
    "input_df.fillna(value = 1)\n",
    "input_df = input_df[input_df['ToLia'] != 0]\n",
    "input_df.drop(input_df[input_df['NetInc'] == '-'].index, inplace=True)\n",
    "input_df[\"NetInc\"] = pd.to_numeric(input_df[\"NetInc\"], downcast=\"float\")\n",
    "# print(input_df.info())\n",
    "\n",
    "# check if any col contain '-'\n",
    "# tmp = input_df.isin(['-']).any()\n",
    "# print(tmp)"
   ]
  },
  {
   "cell_type": "markdown",
   "metadata": {},
   "source": [
    "### Evaluate performance with test set"
   ]
  },
  {
   "cell_type": "code",
   "execution_count": 5,
   "metadata": {},
   "outputs": [
    {
     "name": "stdout",
     "output_type": "stream",
     "text": [
      "Confusion Matrix using Decision Tree: \n",
      " [[7 2]\n",
      " [2 9]]\n",
      "Classification Report using Decision Tree: \n",
      "               precision    recall  f1-score   support\n",
      "\n",
      "           0       0.78      0.78      0.78         9\n",
      "           1       0.82      0.82      0.82        11\n",
      "\n",
      "    accuracy                           0.80        20\n",
      "   macro avg       0.80      0.80      0.80        20\n",
      "weighted avg       0.80      0.80      0.80        20\n",
      "\n",
      "knn_pred\n",
      "[0 1 1 0 1 0 0 1 1 1 0 0 0 1 1 1 0 1 1 0]\n"
     ]
    },
    {
     "name": "stderr",
     "output_type": "stream",
     "text": [
      "/Users/angelwoo/.local/lib/python3.7/site-packages/ipykernel_launcher.py:3: SettingWithCopyWarning: \n",
      "A value is trying to be set on a copy of a slice from a DataFrame\n",
      "\n",
      "See the caveats in the documentation: https://pandas.pydata.org/pandas-docs/stable/user_guide/indexing.html#returning-a-view-versus-a-copy\n",
      "  This is separate from the ipykernel package so we can avoid doing imports until\n"
     ]
    }
   ],
   "source": [
    "model = bankrupt_prediction(bankrupt_t1, non_bankrupt_t1, input_df, False)\n",
    "\n",
    "#t1_results = model.svm()\n",
    "#t1_results = model.decision_tree()\n",
    "#t1_results = model.random_forest()\n",
    "t1_results = model.knn()"
   ]
  },
  {
   "cell_type": "markdown",
   "metadata": {},
   "source": [
    "### Inferencing"
   ]
  },
  {
   "cell_type": "code",
   "execution_count": 7,
   "metadata": {},
   "outputs": [
    {
     "name": "stdout",
     "output_type": "stream",
     "text": [
      "Inferencing done\n"
     ]
    }
   ],
   "source": [
    "model.inferencing = True # set Inferencing as True\n",
    "\n",
    "#t1_results = model.svm()\n",
    "#t1_results = model.decision_tree()\n",
    "#t1_results = model.random_forest()\n",
    "t1_results = model.knn()\n",
    "t1_results.to_csv(\"./results/t1_results-knn.csv\", header='column_names', index=False) # save inferencing results"
   ]
  },
  {
   "cell_type": "markdown",
   "metadata": {},
   "source": [
    "### Bankruptcy prediction at t-2\n",
    "Predict whether the company will go bankrupt in 2 years. (0 = bankrupt, 1 = survive)"
   ]
  },
  {
   "cell_type": "code",
   "execution_count": 8,
   "metadata": {},
   "outputs": [],
   "source": [
    "# load dataset and input file\n",
    "bankrupt_t2 = pd.read_csv(\"./ucla-dataset/bankrupt_t2.csv\").fillna(value = 1)\n",
    "non_bankrupt_t2 = pd.read_csv(\"./ucla-dataset/non_bankrupt_t2.csv\").fillna(value = 1)\n",
    "\n",
    "input_df = pd.read_csv(\"input-data-ML.csv\", dtype={'Ticker': 'int'})\n",
    "\n",
    "input_df.dropna() # drop rows with empty entries\n",
    "input_df.fillna(value = 1)\n",
    "input_df = input_df[input_df['ToLia'] != 0]\n",
    "\n",
    "# data pre-processing\n",
    "input_df.dropna() # drop rows with empty entries\n",
    "input_df.fillna(value = 1)\n",
    "input_df = input_df[input_df['ToLia'] != 0]\n",
    "input_df.drop(input_df[input_df['NetInc'] == '-'].index, inplace=True)\n",
    "input_df[\"NetInc\"] = pd.to_numeric(input_df[\"NetInc\"], downcast=\"float\")\n",
    "# print(input_df.info())\n",
    "\n",
    "# m = input_df.isin(['-']).any()\n",
    "# print(m)\n",
    "\n",
    "# print(input_df.dtypes)"
   ]
  },
  {
   "cell_type": "markdown",
   "metadata": {},
   "source": [
    "### Evaluate performance with test set"
   ]
  },
  {
   "cell_type": "code",
   "execution_count": 9,
   "metadata": {},
   "outputs": [
    {
     "name": "stdout",
     "output_type": "stream",
     "text": [
      "Confusion Matrix using Decision Tree: \n",
      " [[7 2]\n",
      " [3 8]]\n",
      "Classification Report using Decision Tree: \n",
      "               precision    recall  f1-score   support\n",
      "\n",
      "         0.0       0.70      0.78      0.74         9\n",
      "         1.0       0.80      0.73      0.76        11\n",
      "\n",
      "    accuracy                           0.75        20\n",
      "   macro avg       0.75      0.75      0.75        20\n",
      "weighted avg       0.76      0.75      0.75        20\n",
      "\n",
      "knn_pred\n",
      "[0. 1. 0. 0. 1. 1. 0. 1. 0. 1. 0. 0. 0. 0. 1. 1. 0. 1. 1. 1.]\n"
     ]
    },
    {
     "name": "stderr",
     "output_type": "stream",
     "text": [
      "/Users/angelwoo/.local/lib/python3.7/site-packages/ipykernel_launcher.py:3: SettingWithCopyWarning: \n",
      "A value is trying to be set on a copy of a slice from a DataFrame\n",
      "\n",
      "See the caveats in the documentation: https://pandas.pydata.org/pandas-docs/stable/user_guide/indexing.html#returning-a-view-versus-a-copy\n",
      "  This is separate from the ipykernel package so we can avoid doing imports until\n"
     ]
    }
   ],
   "source": [
    "model = bankrupt_prediction(bankrupt_t2, non_bankrupt_t2, input_df, False)\n",
    "\n",
    "#t2_results = model.svm()\n",
    "#t2_results = model.decision_tree()\n",
    "#t2_results = model.random_forest()\n",
    "t2_results = model.knn()"
   ]
  },
  {
   "cell_type": "markdown",
   "metadata": {},
   "source": [
    "### Inferencing"
   ]
  },
  {
   "cell_type": "code",
   "execution_count": 11,
   "metadata": {},
   "outputs": [
    {
     "name": "stdout",
     "output_type": "stream",
     "text": [
      "Inferencing done\n"
     ]
    }
   ],
   "source": [
    "model.inferencing = True # set Inferencing as True\n",
    "\n",
    "#t2_results = model.svm()\n",
    "#t2_results = model.decision_tree()\n",
    "#t2_results = model.random_forest()\n",
    "t2_results = model.knn()\n",
    "t2_results.to_csv(\"./results/t2_results-knn.csv\", header='column_names', index=False) # save inferencing results"
   ]
  },
  {
   "cell_type": "markdown",
   "metadata": {},
   "source": [
    "### Bankruptcy prediction at t-3\n",
    "Predict whether the company will go bankrupt in 3 years. (0 = bankrupt, 1 = survive)"
   ]
  },
  {
   "cell_type": "code",
   "execution_count": 12,
   "metadata": {},
   "outputs": [],
   "source": [
    "# load dataset and input file\n",
    "bankrupt_t3 = pd.read_csv(\"./ucla-dataset/bankrupt_t3.csv\").fillna(value = 1)\n",
    "non_bankrupt_t3 = pd.read_csv(\"./ucla-dataset/non_bankrupt_t3.csv\").fillna(value = 1)\n",
    "\n",
    "input_df = pd.read_csv(\"input-data-ML.csv\", dtype={'Ticker': 'int'})\n",
    "\n",
    "# data pre-processing\n",
    "input_df.dropna() # drop rows with empty entries\n",
    "input_df.fillna(value = 1)\n",
    "input_df = input_df[input_df['ToLia'] != 0]\n",
    "input_df.drop(input_df[input_df['NetInc'] == '-'].index, inplace=True)\n",
    "input_df[\"NetInc\"] = pd.to_numeric(input_df[\"NetInc\"], downcast=\"float\")\n",
    "# print(input_df.info())\n",
    "# m = input_df.isin(['-']).any()\n",
    "# print(m)\n",
    "\n",
    "# print(input_df.dtypes)"
   ]
  },
  {
   "cell_type": "markdown",
   "metadata": {},
   "source": [
    "### Evaluate performance with test set"
   ]
  },
  {
   "cell_type": "code",
   "execution_count": 14,
   "metadata": {},
   "outputs": [
    {
     "name": "stdout",
     "output_type": "stream",
     "text": [
      "Confusion Matrix using Decision Tree: \n",
      " [[5 4]\n",
      " [4 7]]\n",
      "Classification Report using Decision Tree: \n",
      "               precision    recall  f1-score   support\n",
      "\n",
      "           0       0.56      0.56      0.56         9\n",
      "           1       0.64      0.64      0.64        11\n",
      "\n",
      "    accuracy                           0.60        20\n",
      "   macro avg       0.60      0.60      0.60        20\n",
      "weighted avg       0.60      0.60      0.60        20\n",
      "\n",
      "knn_pred\n",
      "[1 1 1 1 1 0 0 1 0 0 0 0 0 1 1 1 0 1 1 0]\n"
     ]
    },
    {
     "name": "stderr",
     "output_type": "stream",
     "text": [
      "/Users/angelwoo/.local/lib/python3.7/site-packages/ipykernel_launcher.py:3: SettingWithCopyWarning: \n",
      "A value is trying to be set on a copy of a slice from a DataFrame\n",
      "\n",
      "See the caveats in the documentation: https://pandas.pydata.org/pandas-docs/stable/user_guide/indexing.html#returning-a-view-versus-a-copy\n",
      "  This is separate from the ipykernel package so we can avoid doing imports until\n"
     ]
    }
   ],
   "source": [
    "model = bankrupt_prediction(bankrupt_t3, non_bankrupt_t3, input_df, False)\n",
    "\n",
    "#t3_results = model.svm()\n",
    "#t3_results = model.decision_tree()\n",
    "#t3_results = model.random_forest()\n",
    "t3_results = model.knn()"
   ]
  },
  {
   "cell_type": "markdown",
   "metadata": {},
   "source": [
    "### Inferencing"
   ]
  },
  {
   "cell_type": "code",
   "execution_count": 15,
   "metadata": {},
   "outputs": [
    {
     "name": "stdout",
     "output_type": "stream",
     "text": [
      "Inferencing done\n"
     ]
    }
   ],
   "source": [
    "model.inferencing = True # set Inferencing as True\n",
    "\n",
    "#t3_results = model.svm()\n",
    "#t3_results = model.decision_tree()\n",
    "#t3_results = model.random_forest()\n",
    "t3_results = model.knn()\n",
    "t3_results.to_csv(\"./results/t3_results-knn.csv\", header='column_names', index=False) # save inferencing results"
   ]
  },
  {
   "cell_type": "code",
   "execution_count": null,
   "metadata": {},
   "outputs": [],
   "source": []
  }
 ],
 "metadata": {
  "kernelspec": {
   "display_name": "Python 3",
   "language": "python",
   "name": "python3"
  },
  "language_info": {
   "codemirror_mode": {
    "name": "ipython",
    "version": 3
   },
   "file_extension": ".py",
   "mimetype": "text/x-python",
   "name": "python",
   "nbconvert_exporter": "python",
   "pygments_lexer": "ipython3",
   "version": "3.7.4"
  }
 },
 "nbformat": 4,
 "nbformat_minor": 2
}
