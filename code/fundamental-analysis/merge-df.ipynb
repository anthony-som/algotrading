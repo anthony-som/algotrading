{
 "cells": [
  {
   "cell_type": "code",
   "execution_count": 1,
   "metadata": {},
   "outputs": [],
   "source": [
    "import pandas as pd\n",
    "import glob"
   ]
  },
  {
   "cell_type": "code",
   "execution_count": 2,
   "metadata": {},
   "outputs": [
    {
     "data": {
      "text/plain": [
       "Index(['Ticker', 'Total Assets', 'Total Liabilities Net Minority Interest',\n",
       "       'Total Equity Gross Minority Interest', 'Total Capitalization',\n",
       "       'Common Stock Equity', 'Capital Lease Obligations',\n",
       "       'Net Tangible Assets', 'Working Capital', 'Invested Capital',\n",
       "       'Tangible Book Value', 'Total Debt', 'Net Debt', 'Share Issued',\n",
       "       'Ordinary Shares Number', 'Treasury Shares Number', 'Total Revenue',\n",
       "       'Cost of Revenue', 'Gross Profit', 'Operating Expense',\n",
       "       'Operating Income', 'Net Non Operating Interest Income Expense',\n",
       "       'Pretax Income', 'Tax Provision', 'Net Income Common Stockholders',\n",
       "       'Diluted NI Available to Com Stockholders', 'Basic EPS', 'Diluted EPS',\n",
       "       'Basic Average Shares', 'Diluted Average Shares', 'Total Expenses',\n",
       "       'Net Income from Continuing & Discontinued Operation',\n",
       "       'Normalized Income', 'Interest Income', 'Interest Expense',\n",
       "       'Net Interest Income', 'EBIT', 'Reconciled Cost of Revenue',\n",
       "       'Reconciled Depreciation',\n",
       "       'Net Income from Continuing Operation Net Minority Interest',\n",
       "       'Total Unusual Items Excluding Goodwill', 'Total Unusual Items',\n",
       "       'Normalized EBITDA', 'Tax Rate for Calcs',\n",
       "       'Tax Effect of Unusual Items', 'Total Operating Income as Reported'],\n",
       "      dtype='object')"
      ]
     },
     "execution_count": 2,
     "metadata": {},
     "output_type": "execute_result"
    }
   ],
   "source": [
    "df1 = pd.read_csv('tmp-bal-income.csv', index_col=None, header=0)\n",
    "df1.columns"
   ]
  },
  {
   "cell_type": "code",
   "execution_count": 4,
   "metadata": {},
   "outputs": [],
   "source": [
    "cols = ['Total Assets', 'Total Liabilities Net Minority Interest',\n",
    "       'Total Equity Gross Minority Interest', 'Total Capitalization',\n",
    "       'Common Stock Equity', 'Capital Lease Obligations',\n",
    "       'Net Tangible Assets', 'Working Capital', 'Invested Capital',\n",
    "       'Tangible Book Value', 'Total Debt', 'Net Debt', 'Share Issued',\n",
    "       'Ordinary Shares Number', 'Treasury Shares Number', 'Total Revenue',\n",
    "       'Cost of Revenue', 'Gross Profit', 'Operating Expense',\n",
    "       'Operating Income', 'Net Non Operating Interest Income Expense',\n",
    "       'Pretax Income', 'Tax Provision', 'Net Income Common Stockholders',\n",
    "       'Diluted NI Available to Com Stockholders', 'Basic EPS', 'Diluted EPS',\n",
    "       'Basic Average Shares', 'Diluted Average Shares', 'Total Expenses',\n",
    "       'Net Income from Continuing & Discontinued Operation',\n",
    "       'Normalized Income', 'Interest Income', 'Interest Expense',\n",
    "       'Net Interest Income', 'EBIT', 'Reconciled Cost of Revenue',\n",
    "       'Reconciled Depreciation',\n",
    "       'Net Income from Continuing Operation Net Minority Interest',\n",
    "       'Total Unusual Items Excluding Goodwill', 'Total Unusual Items',\n",
    "       'Normalized EBITDA', 'Tax Rate for Calcs',\n",
    "       'Tax Effect of Unusual Items', 'Total Operating Income as Reported']\n",
    "\n",
    "df_processed = pd.DataFrame({'Ticker': df1['Ticker']})\n",
    "for col in cols:\n",
    "    df_processed[col] = df1[col] * 1000\n",
    "\n",
    "df_processed.to_csv(\"tmp-yahoo-processed.csv\", header='column_names', index=False)"
   ]
  },
  {
   "cell_type": "code",
   "execution_count": 4,
   "metadata": {},
   "outputs": [
    {
     "name": "stdout",
     "output_type": "stream",
     "text": [
      "2819\n",
      "2819\n"
     ]
    }
   ],
   "source": [
    "#df1 = pd.read_csv('jp_balance-sheet_2020.csv', index_col=None, header=0)\n",
    "#df2 = pd.read_csv('jp_income-statement_2020.csv', index_col=None, header=0)\n",
    "\n",
    "df1 = pd.read_csv('tmp-yahoo-fybal-fycf.csv', index_col=None, header=0)\n",
    "df2 = pd.read_csv('fy-profitability_2020.csv', index_col=None, header=0)\n",
    "\n",
    "#df1 = pd.read_csv('tmp-bal-cf-pl.csv', index_col=None, header=0)\n",
    "#df2 = pd.read_csv('fy-stock-dividend_2020_edit.csv', index_col=None, header=0)\n",
    "\n",
    "#df1 = pd.read_csv('income-statement-2020_edit.csv', index_col=None, header=0)\n",
    "#df2 = pd.read_csv('balance-sheet-2020_edit.csv', index_col=None, header=0)\n",
    "\n",
    "#df1 = pd.read_csv('tmp-input-wo-yahoo.csv', index_col=None, header=0)\n",
    "#df2 = pd.read_csv('tmp-yahoo-data.csv', index_col=None, header=0)\n",
    "\n",
    "df_new = df1.merge(df2, how='inner', left_on='Ticker', right_on='Ticker') # merge dfs\n",
    "\n",
    "# frame = frame[cols]\n",
    "\n",
    "# drop empty columns\n",
    "df_new.dropna(how='all', axis=1)\n",
    "\n",
    "print(len(df1))\n",
    "df_new.to_csv(\"tmp-yahoo-fybal-fycf-fyprofit.csv\", header='column_names', index=False)\n",
    "print(len(df_new))"
   ]
  },
  {
   "cell_type": "code",
   "execution_count": null,
   "metadata": {},
   "outputs": [],
   "source": []
  }
 ],
 "metadata": {
  "kernelspec": {
   "display_name": "Python 3",
   "language": "python",
   "name": "python3"
  },
  "language_info": {
   "codemirror_mode": {
    "name": "ipython",
    "version": 3
   },
   "file_extension": ".py",
   "mimetype": "text/x-python",
   "name": "python",
   "nbconvert_exporter": "python",
   "pygments_lexer": "ipython3",
   "version": "3.7.4"
  }
 },
 "nbformat": 4,
 "nbformat_minor": 2
}
