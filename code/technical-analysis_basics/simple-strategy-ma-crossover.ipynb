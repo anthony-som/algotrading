{
 "cells": [
  {
   "cell_type": "markdown",
   "metadata": {},
   "source": [
    "## Simple strategy - Moving Average Crossovers\n",
    "\n",
    "The **\"Moving Average Crossovers\"** strategy for algorithmic trading is just like the ***\"Hello world\"*** program for coding beginners. It serves as a good starting point to learn coding for technical analysis.\n",
    "\n",
    "<hr size=\"5\"/>"
   ]
  },
  {
   "cell_type": "markdown",
   "metadata": {},
   "source": [
    "### Table of Contents\n",
    "\n",
    "* [1. Implement the strategy](#1.-Implement-the-strategy)\n",
    "* [2. Plot figure](#2-Plot-figure)\n",
    "* [3. Backtesting](#3-Backtesting)\n",
    "* [4. Evaluate strategy](#4-Evalaute-strategy)"
   ]
  },
  {
   "cell_type": "markdown",
   "metadata": {},
   "source": [
    " **Requirements:**\n",
    " * pandas\n",
    " * numpy\n",
    " * matplotlib"
   ]
  },
  {
   "cell_type": "markdown",
   "metadata": {},
   "source": [
    "### 1. Implement the strategy"
   ]
  },
  {
   "cell_type": "code",
   "execution_count": 1,
   "metadata": {},
   "outputs": [],
   "source": [
    "# import libraries\n",
    "import pandas as pd\n",
    "import numpy as np\n",
    "import matplotlib.pyplot as plt"
   ]
  },
  {
   "cell_type": "code",
   "execution_count": 2,
   "metadata": {},
   "outputs": [],
   "source": [
    "# load aapl csv file\n",
    "aapl = pd.read_csv('../../database/microeconomic_data/nasdaq_ticks_day/nasdaq_AAPL.csv', header=0, index_col='Date', parse_dates=True)\n",
    "\n",
    "# We select only the data from 2015-2019\n",
    "aapl = aapl.loc[pd.Timestamp('2015-01-01'):pd.Timestamp('2019-12-31')]"
   ]
  },
  {
   "cell_type": "code",
   "execution_count": 10,
   "metadata": {
    "tags": []
   },
   "outputs": [
    {
     "data": {
      "text/html": [
       "<div>\n",
       "<style scoped>\n",
       "    .dataframe tbody tr th:only-of-type {\n",
       "        vertical-align: middle;\n",
       "    }\n",
       "\n",
       "    .dataframe tbody tr th {\n",
       "        vertical-align: top;\n",
       "    }\n",
       "\n",
       "    .dataframe thead th {\n",
       "        text-align: right;\n",
       "    }\n",
       "</style>\n",
       "<table border=\"1\" class=\"dataframe\">\n",
       "  <thead>\n",
       "    <tr style=\"text-align: right;\">\n",
       "      <th></th>\n",
       "      <th>signal</th>\n",
       "      <th>short_mavg</th>\n",
       "      <th>long_mavg</th>\n",
       "      <th>positions</th>\n",
       "    </tr>\n",
       "    <tr>\n",
       "      <th>Date</th>\n",
       "      <th></th>\n",
       "      <th></th>\n",
       "      <th></th>\n",
       "      <th></th>\n",
       "    </tr>\n",
       "  </thead>\n",
       "  <tbody>\n",
       "    <tr>\n",
       "      <th>2019-12-24</th>\n",
       "      <td>1.0</td>\n",
       "      <td>264.221056</td>\n",
       "      <td>235.930897</td>\n",
       "      <td>0.0</td>\n",
       "    </tr>\n",
       "    <tr>\n",
       "      <th>2019-12-26</th>\n",
       "      <td>1.0</td>\n",
       "      <td>265.398771</td>\n",
       "      <td>236.904727</td>\n",
       "      <td>0.0</td>\n",
       "    </tr>\n",
       "    <tr>\n",
       "      <th>2019-12-27</th>\n",
       "      <td>1.0</td>\n",
       "      <td>266.574494</td>\n",
       "      <td>237.841293</td>\n",
       "      <td>0.0</td>\n",
       "    </tr>\n",
       "    <tr>\n",
       "      <th>2019-12-30</th>\n",
       "      <td>1.0</td>\n",
       "      <td>267.656605</td>\n",
       "      <td>238.774814</td>\n",
       "      <td>0.0</td>\n",
       "    </tr>\n",
       "    <tr>\n",
       "      <th>2019-12-31</th>\n",
       "      <td>1.0</td>\n",
       "      <td>268.616614</td>\n",
       "      <td>239.686144</td>\n",
       "      <td>0.0</td>\n",
       "    </tr>\n",
       "  </tbody>\n",
       "</table>\n",
       "</div>"
      ],
      "text/plain": [
       "            signal  short_mavg   long_mavg  positions\n",
       "Date                                                 \n",
       "2019-12-24     1.0  264.221056  235.930897        0.0\n",
       "2019-12-26     1.0  265.398771  236.904727        0.0\n",
       "2019-12-27     1.0  266.574494  237.841293        0.0\n",
       "2019-12-30     1.0  267.656605  238.774814        0.0\n",
       "2019-12-31     1.0  268.616614  239.686144        0.0"
      ]
     },
     "execution_count": 10,
     "metadata": {},
     "output_type": "execute_result"
    }
   ],
   "source": [
    "# Initialize the short and long windows\n",
    "short_window = 40\n",
    "long_window = 100\n",
    "\n",
    "# Initialize the `signals` DataFrame with the `signal` column\n",
    "signals = pd.DataFrame(index=aapl.index)\n",
    "signals['signal'] = 0.0\n",
    "\n",
    "# Create short simple moving average over the short window\n",
    "signals['short_mavg'] = aapl['Close'].rolling(window=short_window, min_periods=1, center=False).mean()\n",
    "\n",
    "# Create long simple moving average over the long window\n",
    "signals['long_mavg'] = aapl['Close'].rolling(window=long_window, min_periods=1, center=False).mean()\n",
    "\n",
    "# Create signals\n",
    "signals['signal'][short_window:] = np.where(signals['short_mavg'][short_window:] \n",
    "                                            > signals['long_mavg'][short_window:], 1.0, 0.0)   \n",
    "\n",
    "# Generate trading orders\n",
    "signals['positions'] = signals['signal'].diff()\n",
    "\n",
    "# Print `signals`\n",
    "signals.tail()"
   ]
  },
  {
   "cell_type": "markdown",
   "metadata": {},
   "source": [
    "### 2. Plot figure"
   ]
  },
  {
   "cell_type": "code",
   "execution_count": 5,
   "metadata": {},
   "outputs": [
    {
     "data": {
      "image/png": "[encoded data removed]",
      "text/plain": [
       "<Figure size 432x288 with 1 Axes>"
      ]
     },
     "metadata": {
      "needs_background": "light"
     },
     "output_type": "display_data"
    }
   ],
   "source": [
    "# Initialize the plot figure\n",
    "fig = plt.figure()\n",
    "\n",
    "# Add a subplot and label for y-axis\n",
    "ax1 = fig.add_subplot(111,  ylabel='Price in $')\n",
    "\n",
    "# Plot the closing price\n",
    "aapl['Close'].plot(ax=ax1, color='r', lw=2.)\n",
    "\n",
    "# Plot the short and long moving averages\n",
    "signals[['short_mavg', 'long_mavg']].plot(ax=ax1, lw=2.)\n",
    "\n",
    "positions = (signals.positions).to_numpy()\n",
    "short_mavg = (signals.short_mavg).to_numpy()\n",
    "long_mavg = (signals.long_mavg).to_numpy()\n",
    "\n",
    "# Plot the buy signals\n",
    "ax1.plot(signals.loc[positions == 1.0].index, \n",
    "         short_mavg[positions == 1.0],\n",
    "         '^', markersize=10, color='m')\n",
    "\n",
    "# Plot the sell signals\n",
    "ax1.plot(signals.loc[positions == -1.0].index, \n",
    "         long_mavg[positions == -1.0],\n",
    "         'v', markersize=10, color='k')\n",
    "\n",
    "# Show the plot\n",
    "plt.show()"
   ]
  },
  {
   "cell_type": "markdown",
   "metadata": {},
   "source": [
    "### 3. Backtesting"
   ]
  },
  {
   "cell_type": "code",
   "execution_count": 6,
   "metadata": {},
   "outputs": [
    {
     "data": {
      "text/html": [
       "<div>\n",
       "<style scoped>\n",
       "    .dataframe tbody tr th:only-of-type {\n",
       "        vertical-align: middle;\n",
       "    }\n",
       "\n",
       "    .dataframe tbody tr th {\n",
       "        vertical-align: top;\n",
       "    }\n",
       "\n",
       "    .dataframe thead th {\n",
       "        text-align: right;\n",
       "    }\n",
       "</style>\n",
       "<table border=\"1\" class=\"dataframe\">\n",
       "  <thead>\n",
       "    <tr style=\"text-align: right;\">\n",
       "      <th></th>\n",
       "      <th>AAPL</th>\n",
       "      <th>holdings</th>\n",
       "      <th>cash</th>\n",
       "      <th>total</th>\n",
       "      <th>returns</th>\n",
       "    </tr>\n",
       "    <tr>\n",
       "      <th>Date</th>\n",
       "      <th></th>\n",
       "      <th></th>\n",
       "      <th></th>\n",
       "      <th></th>\n",
       "      <th></th>\n",
       "    </tr>\n",
       "  </thead>\n",
       "  <tbody>\n",
       "    <tr>\n",
       "      <th>2019-12-24</th>\n",
       "      <td>28283.129883</td>\n",
       "      <td>28283.129883</td>\n",
       "      <td>84374.246979</td>\n",
       "      <td>112657.376862</td>\n",
       "      <td>0.000238</td>\n",
       "    </tr>\n",
       "    <tr>\n",
       "      <th>2019-12-26</th>\n",
       "      <td>28844.277954</td>\n",
       "      <td>28844.277954</td>\n",
       "      <td>84374.246979</td>\n",
       "      <td>113218.524933</td>\n",
       "      <td>0.004981</td>\n",
       "    </tr>\n",
       "    <tr>\n",
       "      <th>2019-12-27</th>\n",
       "      <td>28833.331299</td>\n",
       "      <td>28833.331299</td>\n",
       "      <td>84374.246979</td>\n",
       "      <td>113207.578278</td>\n",
       "      <td>-0.000097</td>\n",
       "    </tr>\n",
       "    <tr>\n",
       "      <th>2019-12-30</th>\n",
       "      <td>29004.461670</td>\n",
       "      <td>29004.461670</td>\n",
       "      <td>84374.246979</td>\n",
       "      <td>113378.708649</td>\n",
       "      <td>0.001512</td>\n",
       "    </tr>\n",
       "    <tr>\n",
       "      <th>2019-12-31</th>\n",
       "      <td>29216.381836</td>\n",
       "      <td>29216.381836</td>\n",
       "      <td>84374.246979</td>\n",
       "      <td>113590.628815</td>\n",
       "      <td>0.001869</td>\n",
       "    </tr>\n",
       "  </tbody>\n",
       "</table>\n",
       "</div>"
      ],
      "text/plain": [
       "                    AAPL      holdings          cash          total   returns\n",
       "Date                                                                         \n",
       "2019-12-24  28283.129883  28283.129883  84374.246979  112657.376862  0.000238\n",
       "2019-12-26  28844.277954  28844.277954  84374.246979  113218.524933  0.004981\n",
       "2019-12-27  28833.331299  28833.331299  84374.246979  113207.578278 -0.000097\n",
       "2019-12-30  29004.461670  29004.461670  84374.246979  113378.708649  0.001512\n",
       "2019-12-31  29216.381836  29216.381836  84374.246979  113590.628815  0.001869"
      ]
     },
     "execution_count": 6,
     "metadata": {},
     "output_type": "execute_result"
    }
   ],
   "source": [
    "# Set the initial capital\n",
    "initial_capital= float(100000.0)\n",
    "\n",
    "# Create a DataFrame `positions`\n",
    "positions = pd.DataFrame(index=signals.index).fillna(0.0)\n",
    "\n",
    "# Buy a 100 shares\n",
    "positions['AAPL'] = 100*signals['signal']   \n",
    "  \n",
    "# Initialize the portfolio with value owned   \n",
    "portfolio = positions.multiply(aapl['Close'], axis=0)\n",
    "\n",
    "# Store the difference in shares owned \n",
    "pos_diff = positions.diff()\n",
    "\n",
    "# Add `holdings` to portfolio\n",
    "portfolio['holdings'] = (positions.multiply(aapl['Close'], axis=0)).sum(axis=1)\n",
    "\n",
    "# Add `cash` to portfolio\n",
    "portfolio['cash'] = initial_capital - (pos_diff.multiply(aapl['Close'], axis=0)).sum(axis=1).cumsum()   \n",
    "\n",
    "# Add `total` to portfolio\n",
    "portfolio['total'] = portfolio['cash'] + portfolio['holdings']\n",
    "\n",
    "# Add `returns` to portfolio\n",
    "portfolio['returns'] = portfolio['total'].pct_change()\n",
    "\n",
    "# Print the last lines of `portfolio`\n",
    "portfolio.tail()"
   ]
  },
  {
   "cell_type": "code",
   "execution_count": 40,
   "metadata": {},
   "outputs": [
    {
     "data": {
      "image/png": "[encoded data removed]",
      "text/plain": [
       "<Figure size 432x288 with 1 Axes>"
      ]
     },
     "metadata": {
      "needs_background": "light"
     },
     "output_type": "display_data"
    }
   ],
   "source": [
    "# Create a figure\n",
    "fig = plt.figure()\n",
    "\n",
    "ax1 = fig.add_subplot(111, ylabel='Portfolio value in $')\n",
    "\n",
    "# Plot the equity curve in dollars\n",
    "portfolio['total'].plot(ax=ax1, lw=2.)\n",
    "\n",
    "positions = signals.positions.to_numpy()\n",
    "\n",
    "ax1.plot(portfolio.loc[positions == 1.0].index, \n",
    "         portfolio.total[positions == 1.0],\n",
    "         '^', markersize=10, color='m')\n",
    "ax1.plot(portfolio.loc[positions == -1.0].index, \n",
    "         portfolio.total[positions == -1.0],\n",
    "         'v', markersize=10, color='k')\n",
    "\n",
    "# Show the plot\n",
    "plt.show()"
   ]
  },
  {
   "cell_type": "markdown",
   "metadata": {},
   "source": [
    "### 4. Evaluate strategy"
   ]
  },
  {
   "cell_type": "markdown",
   "metadata": {},
   "source": [
    "#### 4.1 Sharpe ratio"
   ]
  },
  {
   "cell_type": "code",
   "execution_count": 41,
   "metadata": {},
   "outputs": [
    {
     "name": "stdout",
     "output_type": "stream",
     "text": [
      "0.8311190106415088\n"
     ]
    }
   ],
   "source": [
    "# Isolate the returns of your strategy\n",
    "returns = portfolio['returns']\n",
    "\n",
    "# annualized Sharpe ratio\n",
    "sharpe_ratio = np.sqrt(252) * (returns.mean() / returns.std())\n",
    "\n",
    "# Print the Sharpe ratio\n",
    "print(sharpe_ratio)"
   ]
  },
  {
   "cell_type": "markdown",
   "metadata": {},
   "source": [
    "#### 4.2 Maximum drawdown"
   ]
  },
  {
   "cell_type": "code",
   "execution_count": 42,
   "metadata": {},
   "outputs": [
    {
     "data": {
      "image/png": "[encoded data removed]",
      "text/plain": [
       "<Figure size 432x288 with 1 Axes>"
      ]
     },
     "metadata": {
      "needs_background": "light"
     },
     "output_type": "display_data"
    }
   ],
   "source": [
    "# Define a trailing 252 trading day window\n",
    "window = 252\n",
    "\n",
    "# Calculate the max drawdown in the past window days for each day \n",
    "rolling_max = aapl['Close'].rolling(window, min_periods=1).max()\n",
    "daily_drawdown = aapl['Close']/rolling_max - 1.0\n",
    "\n",
    "# Calculate the minimum (negative) daily drawdown\n",
    "max_daily_drawdown = daily_drawdown.rolling(window, min_periods=1).min()\n",
    "\n",
    "# Plot the results\n",
    "daily_drawdown.plot()\n",
    "max_daily_drawdown.plot()\n",
    "\n",
    "# Show the plot\n",
    "plt.show()"
   ]
  },
  {
   "cell_type": "markdown",
   "metadata": {},
   "source": [
    "#### 3. Compound Annual Growth Rate (CAGR)"
   ]
  },
  {
   "cell_type": "code",
   "execution_count": 43,
   "metadata": {},
   "outputs": [
    {
     "name": "stdout",
     "output_type": "stream",
     "text": [
      "0.24654176746201206\n"
     ]
    }
   ],
   "source": [
    "# Get the number of days in `aapl`\n",
    "days = (aapl.index[-1] - aapl.index[0]).days\n",
    "\n",
    "# Calculate the CAGR \n",
    "cagr = ((((aapl['Close'][-1]) / aapl['Close'][1])) ** (365.0/days)) - 1\n",
    "\n",
    "# Print the CAGR\n",
    "print(cagr)"
   ]
  },
  {
   "cell_type": "markdown",
   "metadata": {},
   "source": [
    "### References:\n",
    "* [DataCamp - Python for Finance: Algorithmic Trading](https://www.datacamp.com/community/tutorials/finance-python-trading?utm_source=adwords_ppc&utm_campaignid=898687156&utm_adgroupid=48947256715&utm_device=c&utm_keyword=&utm_matchtype=b&utm_network=g&utm_adpostion=&utm_creative=255798340456&utm_targetid=aud-299261629574:dsa-473406585355&utm_loc_interest_ms=&utm_loc_physical_ms=1009279&gclid=Cj0KCQjwrIf3BRD1ARIsAMuugNu2UkliuXEzSS4V08jCIQPtBByx7Eu8tEZh0J34NJ395kpOC_t0-MUaAtF5EALw_wcB)"
   ]
  },
  {
   "cell_type": "code",
   "execution_count": null,
   "metadata": {},
   "outputs": [],
   "source": []
  }
 ],
 "metadata": {
  "kernelspec": {
   "display_name": "Python 3",
   "language": "python",
   "name": "python3"
  },
  "language_info": {
   "codemirror_mode": {
    "name": "ipython",
    "version": 3
   },
   "file_extension": ".py",
   "mimetype": "text/x-python",
   "name": "python",
   "nbconvert_exporter": "python",
   "pygments_lexer": "ipython3",
   "version": "3.7.4"
  }
 },
 "nbformat": 4,
 "nbformat_minor": 2
}
