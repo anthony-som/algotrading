{
 "cells": [
  {
   "cell_type": "markdown",
   "metadata": {},
   "source": [
    "## Data science basics\n",
    "\n",
    "In this tutorial, you will learn how to:\n",
    "\n",
    "* Visualise time series data\n",
    "* Plot distribution of daily percentage change\n",
    "* Plot and compute cumulative daily returns\n",
    "* Use moving windows\n",
    "* Plot and compute volatility\n",
    "\n",
    "<hr size=\"5\"/>"
   ]
  },
  {
   "cell_type": "markdown",
   "metadata": {},
   "source": [
    "### Table of Contents\n",
    "\n",
    "* [1. Exploratory Data Analysis (EDA)](#1.-Exploratory-Data-Analysis)\n",
    "* [2. Resampling](#2.-Resampling)\n",
    "* [3. Calculate percentage change](#3.-Calculate-percentage-change)\n",
    "* [4. Visualising time series data](#4.-Visualising-time-series-data)\n",
    "* [5. Moving windows](#5.-Moving-windows)\n"
   ]
  },
  {
   "cell_type": "markdown",
   "metadata": {},
   "source": [
    "Requirements:\n",
    " * [pandas](https://pypi.org/project/pandas/)\n",
    " * [matplotlib](https://matplotlib.org/)\n",
    " * [numpy](https://numpy.org/)"
   ]
  },
  {
   "cell_type": "code",
   "execution_count": 1,
   "metadata": {},
   "outputs": [],
   "source": [
    "# import libraries\n",
    "import pandas as pd\n",
    "import matplotlib.pyplot as plt\n",
    "import numpy as np"
   ]
  },
  {
   "cell_type": "markdown",
   "metadata": {},
   "source": [
    "### 1. Exploratory Data Analysis (EDA)"
   ]
  },
  {
   "cell_type": "code",
   "execution_count": 2,
   "metadata": {
    "tags": []
   },
   "outputs": [
    {
     "data": {
      "text/html": [
       "<div>\n",
       "<style scoped>\n",
       "    .dataframe tbody tr th:only-of-type {\n",
       "        vertical-align: middle;\n",
       "    }\n",
       "\n",
       "    .dataframe tbody tr th {\n",
       "        vertical-align: top;\n",
       "    }\n",
       "\n",
       "    .dataframe thead th {\n",
       "        text-align: right;\n",
       "    }\n",
       "</style>\n",
       "<table border=\"1\" class=\"dataframe\">\n",
       "  <thead>\n",
       "    <tr style=\"text-align: right;\">\n",
       "      <th></th>\n",
       "      <th>Open</th>\n",
       "      <th>High</th>\n",
       "      <th>Low</th>\n",
       "      <th>Close</th>\n",
       "      <th>Volume</th>\n",
       "    </tr>\n",
       "    <tr>\n",
       "      <th>Date</th>\n",
       "      <th></th>\n",
       "      <th></th>\n",
       "      <th></th>\n",
       "      <th></th>\n",
       "      <th></th>\n",
       "    </tr>\n",
       "  </thead>\n",
       "  <tbody>\n",
       "    <tr>\n",
       "      <th>1980-12-12</th>\n",
       "      <td>0.405683</td>\n",
       "      <td>0.407447</td>\n",
       "      <td>0.405683</td>\n",
       "      <td>0.405683</td>\n",
       "      <td>117258400</td>\n",
       "    </tr>\n",
       "    <tr>\n",
       "      <th>1980-12-15</th>\n",
       "      <td>0.386281</td>\n",
       "      <td>0.386281</td>\n",
       "      <td>0.384517</td>\n",
       "      <td>0.384517</td>\n",
       "      <td>43971200</td>\n",
       "    </tr>\n",
       "    <tr>\n",
       "      <th>1980-12-16</th>\n",
       "      <td>0.358060</td>\n",
       "      <td>0.358060</td>\n",
       "      <td>0.356296</td>\n",
       "      <td>0.356296</td>\n",
       "      <td>26432000</td>\n",
       "    </tr>\n",
       "    <tr>\n",
       "      <th>1980-12-17</th>\n",
       "      <td>0.365115</td>\n",
       "      <td>0.366879</td>\n",
       "      <td>0.365115</td>\n",
       "      <td>0.365115</td>\n",
       "      <td>21610400</td>\n",
       "    </tr>\n",
       "    <tr>\n",
       "      <th>1980-12-18</th>\n",
       "      <td>0.375698</td>\n",
       "      <td>0.377462</td>\n",
       "      <td>0.375698</td>\n",
       "      <td>0.375698</td>\n",
       "      <td>18362400</td>\n",
       "    </tr>\n",
       "  </tbody>\n",
       "</table>\n",
       "</div>"
      ],
      "text/plain": [
       "                Open      High       Low     Close     Volume\n",
       "Date                                                         \n",
       "1980-12-12  0.405683  0.407447  0.405683  0.405683  117258400\n",
       "1980-12-15  0.386281  0.386281  0.384517  0.384517   43971200\n",
       "1980-12-16  0.358060  0.358060  0.356296  0.356296   26432000\n",
       "1980-12-17  0.365115  0.366879  0.365115  0.365115   21610400\n",
       "1980-12-18  0.375698  0.377462  0.375698  0.375698   18362400"
      ]
     },
     "execution_count": 2,
     "metadata": {},
     "output_type": "execute_result"
    }
   ],
   "source": [
    "aapl = pd.read_csv('../../database/nasdaq_ticks_day/nasdaq_AAPL.csv', header=0, index_col='Date', parse_dates=True)\n",
    "\n",
    "# inspect first rows\n",
    "aapl.head()"
   ]
  },
  {
   "cell_type": "code",
   "execution_count": 3,
   "metadata": {},
   "outputs": [
    {
     "data": {
      "text/html": [
       "<div>\n",
       "<style scoped>\n",
       "    .dataframe tbody tr th:only-of-type {\n",
       "        vertical-align: middle;\n",
       "    }\n",
       "\n",
       "    .dataframe tbody tr th {\n",
       "        vertical-align: top;\n",
       "    }\n",
       "\n",
       "    .dataframe thead th {\n",
       "        text-align: right;\n",
       "    }\n",
       "</style>\n",
       "<table border=\"1\" class=\"dataframe\">\n",
       "  <thead>\n",
       "    <tr style=\"text-align: right;\">\n",
       "      <th></th>\n",
       "      <th>Open</th>\n",
       "      <th>High</th>\n",
       "      <th>Low</th>\n",
       "      <th>Close</th>\n",
       "      <th>Volume</th>\n",
       "    </tr>\n",
       "  </thead>\n",
       "  <tbody>\n",
       "    <tr>\n",
       "      <th>count</th>\n",
       "      <td>9984.000000</td>\n",
       "      <td>9984.000000</td>\n",
       "      <td>9984.000000</td>\n",
       "      <td>9984.000000</td>\n",
       "      <td>9.984000e+03</td>\n",
       "    </tr>\n",
       "    <tr>\n",
       "      <th>mean</th>\n",
       "      <td>32.670008</td>\n",
       "      <td>33.007438</td>\n",
       "      <td>32.341316</td>\n",
       "      <td>32.687911</td>\n",
       "      <td>8.545261e+07</td>\n",
       "    </tr>\n",
       "    <tr>\n",
       "      <th>std</th>\n",
       "      <td>61.777306</td>\n",
       "      <td>62.438891</td>\n",
       "      <td>61.197083</td>\n",
       "      <td>61.856932</td>\n",
       "      <td>8.576200e+07</td>\n",
       "    </tr>\n",
       "    <tr>\n",
       "      <th>min</th>\n",
       "      <td>0.156982</td>\n",
       "      <td>0.156982</td>\n",
       "      <td>0.155218</td>\n",
       "      <td>0.155218</td>\n",
       "      <td>3.472000e+05</td>\n",
       "    </tr>\n",
       "    <tr>\n",
       "      <th>25%</th>\n",
       "      <td>0.918610</td>\n",
       "      <td>0.937983</td>\n",
       "      <td>0.898934</td>\n",
       "      <td>0.919462</td>\n",
       "      <td>3.291708e+07</td>\n",
       "    </tr>\n",
       "    <tr>\n",
       "      <th>50%</th>\n",
       "      <td>1.469656</td>\n",
       "      <td>1.499504</td>\n",
       "      <td>1.442897</td>\n",
       "      <td>1.471641</td>\n",
       "      <td>5.730830e+07</td>\n",
       "    </tr>\n",
       "    <tr>\n",
       "      <th>75%</th>\n",
       "      <td>32.676983</td>\n",
       "      <td>32.967922</td>\n",
       "      <td>32.224967</td>\n",
       "      <td>32.592890</td>\n",
       "      <td>1.065642e+08</td>\n",
       "    </tr>\n",
       "    <tr>\n",
       "      <th>max</th>\n",
       "      <td>395.959991</td>\n",
       "      <td>399.820007</td>\n",
       "      <td>385.959991</td>\n",
       "      <td>390.899994</td>\n",
       "      <td>1.855410e+09</td>\n",
       "    </tr>\n",
       "  </tbody>\n",
       "</table>\n",
       "</div>"
      ],
      "text/plain": [
       "              Open         High          Low        Close        Volume\n",
       "count  9984.000000  9984.000000  9984.000000  9984.000000  9.984000e+03\n",
       "mean     32.670008    33.007438    32.341316    32.687911  8.545261e+07\n",
       "std      61.777306    62.438891    61.197083    61.856932  8.576200e+07\n",
       "min       0.156982     0.156982     0.155218     0.155218  3.472000e+05\n",
       "25%       0.918610     0.937983     0.898934     0.919462  3.291708e+07\n",
       "50%       1.469656     1.499504     1.442897     1.471641  5.730830e+07\n",
       "75%      32.676983    32.967922    32.224967    32.592890  1.065642e+08\n",
       "max     395.959991   399.820007   385.959991   390.899994  1.855410e+09"
      ]
     },
     "execution_count": 3,
     "metadata": {},
     "output_type": "execute_result"
    }
   ],
   "source": [
    "aapl.describe()"
   ]
  },
  {
   "cell_type": "code",
   "execution_count": 4,
   "metadata": {},
   "outputs": [
    {
     "name": "stdout",
     "output_type": "stream",
     "text": [
      "<class 'pandas.core.frame.DataFrame'>\n",
      "DatetimeIndex: 9984 entries, 1980-12-12 to 2020-07-17\n",
      "Data columns (total 5 columns):\n",
      " #   Column  Non-Null Count  Dtype  \n",
      "---  ------  --------------  -----  \n",
      " 0   Open    9984 non-null   float64\n",
      " 1   High    9984 non-null   float64\n",
      " 2   Low     9984 non-null   float64\n",
      " 3   Close   9984 non-null   float64\n",
      " 4   Volume  9984 non-null   int64  \n",
      "dtypes: float64(4), int64(1)\n",
      "memory usage: 468.0 KB\n"
     ]
    }
   ],
   "source": [
    "aapl.info()"
   ]
  },
  {
   "cell_type": "code",
   "execution_count": 5,
   "metadata": {},
   "outputs": [
    {
     "data": {
      "text/plain": [
       "Index(['Open', 'High', 'Low', 'Close', 'Volume'], dtype='object')"
      ]
     },
     "execution_count": 5,
     "metadata": {},
     "output_type": "execute_result"
    }
   ],
   "source": [
    "aapl.columns"
   ]
  },
  {
   "cell_type": "code",
   "execution_count": 6,
   "metadata": {},
   "outputs": [
    {
     "name": "stdout",
     "output_type": "stream",
     "text": [
      "Date\n",
      "2020-07-06    370.000000\n",
      "2020-07-07    375.410004\n",
      "2020-07-08    376.720001\n",
      "2020-07-09    385.049988\n",
      "2020-07-10    381.339996\n",
      "2020-07-13    389.059998\n",
      "2020-07-14    379.359985\n",
      "2020-07-15    395.959991\n",
      "2020-07-16    386.250000\n",
      "2020-07-17    387.950012\n",
      "Name: Open, dtype: float64\n"
     ]
    },
    {
     "data": {
      "text/plain": [
       "pandas.core.series.Series"
      ]
     },
     "execution_count": 6,
     "metadata": {},
     "output_type": "execute_result"
    }
   ],
   "source": [
    "last_open = aapl['Open'][-10:]\n",
    "print(last_open)\n",
    "\n",
    "# check type of data\n",
    "type(last_open)"
   ]
  },
  {
   "cell_type": "code",
   "execution_count": 7,
   "metadata": {},
   "outputs": [
    {
     "name": "stdout",
     "output_type": "stream",
     "text": [
      "                  Open        High         Low       Close    Volume\n",
      "Date                                                                \n",
      "2020-07-01  365.119995  367.359985  363.910004  364.109985  27638400\n",
      "2020-07-02  367.850006  370.470001  365.670013  367.720001  16775857\n",
      "2020-07-02  367.850006  370.470001  363.640015  364.109985  28510400\n",
      "2020-07-06  370.000000  375.779999  369.869995  373.850006  29663900\n",
      "2020-07-07  375.410004  378.619995  372.230011  372.690002  28106100\n",
      "2020-07-08  376.720001  381.500000  376.359985  381.369995  29273000\n",
      "2020-07-09  385.049988  385.269989  378.690002  383.010010  31410700\n",
      "2020-07-10  381.339996  383.920013  378.820007  383.679993  22564300\n",
      "2020-07-13  389.059998  399.820007  381.029999  381.910004  47912300\n",
      "2020-07-14  379.359985  389.019989  375.510010  388.230011  42747300\n",
      "2020-07-15  395.959991  396.989990  385.959991  390.899994  38299500\n",
      "2020-07-16  386.250000  389.619995  383.619995  386.089996  27644400\n",
      "2020-07-17  387.950012  388.589996  383.359985  385.309998  23001300\n"
     ]
    }
   ],
   "source": [
    "print(aapl.loc[pd.Timestamp('2020-07-01'):pd.Timestamp('2020-07-17')])"
   ]
  },
  {
   "cell_type": "code",
   "execution_count": 8,
   "metadata": {},
   "outputs": [
    {
     "name": "stdout",
     "output_type": "stream",
     "text": [
      "                  Open        High         Low       Close    Volume\n",
      "Date                                                                \n",
      "2017-06-01  146.811877  146.965239  145.901315  146.821457  16404100\n",
      "2017-06-02  147.204882  148.997253  146.543522  148.997253  27770700\n",
      "2017-06-05  147.933298  148.038732  147.089837  147.540314  25331700\n",
      "2017-06-06  147.511570  149.342289  147.396556  148.038742  26624900\n",
      "2017-06-07  148.585115  149.505257  148.067523  148.920578  21069600\n"
     ]
    }
   ],
   "source": [
    "# Inspect the first rows of 2007 \n",
    "print(aapl.loc['2017-06'].head())"
   ]
  },
  {
   "cell_type": "code",
   "execution_count": 9,
   "metadata": {},
   "outputs": [
    {
     "data": {
      "text/html": [
       "<div>\n",
       "<style scoped>\n",
       "    .dataframe tbody tr th:only-of-type {\n",
       "        vertical-align: middle;\n",
       "    }\n",
       "\n",
       "    .dataframe tbody tr th {\n",
       "        vertical-align: top;\n",
       "    }\n",
       "\n",
       "    .dataframe thead th {\n",
       "        text-align: right;\n",
       "    }\n",
       "</style>\n",
       "<table border=\"1\" class=\"dataframe\">\n",
       "  <thead>\n",
       "    <tr style=\"text-align: right;\">\n",
       "      <th></th>\n",
       "      <th>Open</th>\n",
       "      <th>High</th>\n",
       "      <th>Low</th>\n",
       "      <th>Close</th>\n",
       "      <th>Volume</th>\n",
       "    </tr>\n",
       "    <tr>\n",
       "      <th>Date</th>\n",
       "      <th></th>\n",
       "      <th></th>\n",
       "      <th></th>\n",
       "      <th></th>\n",
       "      <th></th>\n",
       "    </tr>\n",
       "  </thead>\n",
       "  <tbody>\n",
       "    <tr>\n",
       "      <th>2006-01-03</th>\n",
       "      <td>8.951311</td>\n",
       "      <td>9.244411</td>\n",
       "      <td>8.935233</td>\n",
       "      <td>9.244411</td>\n",
       "      <td>201808600</td>\n",
       "    </tr>\n",
       "    <tr>\n",
       "      <th>2006-01-04</th>\n",
       "      <td>9.291406</td>\n",
       "      <td>9.396526</td>\n",
       "      <td>9.213494</td>\n",
       "      <td>9.271619</td>\n",
       "      <td>154900900</td>\n",
       "    </tr>\n",
       "    <tr>\n",
       "      <th>2006-01-05</th>\n",
       "      <td>9.254306</td>\n",
       "      <td>9.262963</td>\n",
       "      <td>9.120741</td>\n",
       "      <td>9.198654</td>\n",
       "      <td>112355600</td>\n",
       "    </tr>\n",
       "    <tr>\n",
       "      <th>2006-01-06</th>\n",
       "      <td>9.306246</td>\n",
       "      <td>9.485569</td>\n",
       "      <td>9.219676</td>\n",
       "      <td>9.436100</td>\n",
       "      <td>176114400</td>\n",
       "    </tr>\n",
       "    <tr>\n",
       "      <th>2006-01-09</th>\n",
       "      <td>9.489279</td>\n",
       "      <td>9.547404</td>\n",
       "      <td>9.366845</td>\n",
       "      <td>9.405183</td>\n",
       "      <td>168760200</td>\n",
       "    </tr>\n",
       "  </tbody>\n",
       "</table>\n",
       "</div>"
      ],
      "text/plain": [
       "                Open      High       Low     Close     Volume\n",
       "Date                                                         \n",
       "2006-01-03  8.951311  9.244411  8.935233  9.244411  201808600\n",
       "2006-01-04  9.291406  9.396526  9.213494  9.271619  154900900\n",
       "2006-01-05  9.254306  9.262963  9.120741  9.198654  112355600\n",
       "2006-01-06  9.306246  9.485569  9.219676  9.436100  176114400\n",
       "2006-01-09  9.489279  9.547404  9.366845  9.405183  168760200"
      ]
     },
     "execution_count": 9,
     "metadata": {},
     "output_type": "execute_result"
    }
   ],
   "source": [
    "# We select only the data from 2006 to 2019\n",
    "aapl = aapl.loc[pd.Timestamp('2006-01-01'):pd.Timestamp('2019-12-31')]\n",
    "\n",
    "aapl.head()"
   ]
  },
  {
   "cell_type": "markdown",
   "metadata": {},
   "source": [
    "### 2. Resampling"
   ]
  },
  {
   "cell_type": "code",
   "execution_count": 10,
   "metadata": {},
   "outputs": [
    {
     "name": "stdout",
     "output_type": "stream",
     "text": [
      "                  Open        High         Low       Close     Volume\n",
      "Date                                                                 \n",
      "2008-07-03   20.973374   21.292446   20.498478   21.038919  130840500\n",
      "2006-06-14    7.207549    7.269384    7.010912    7.124689  219534000\n",
      "2018-01-18  173.219922  173.924903  172.138328  173.113693   31193400\n",
      "2006-11-10   10.332716   10.338899   10.202861   10.279537   93466100\n",
      "2008-01-18   19.998843   20.498474   19.739133   19.955557  431085900\n",
      "2019-11-18  264.454791  266.076547  262.892760  265.748230   21675800\n",
      "2009-07-01   17.746796   17.890255   17.625599   17.663937  103544700\n",
      "2011-01-25   41.594290   42.226249   41.376631   42.221302  136717000\n",
      "2011-05-18   41.611600   42.178013   41.553475   42.032082   83694100\n",
      "2014-04-07   67.939946   68.310515   67.151208   67.354500   72462600\n"
     ]
    }
   ],
   "source": [
    "sample = aapl.sample(10)\n",
    "print(sample)"
   ]
  },
  {
   "cell_type": "code",
   "execution_count": 17,
   "metadata": {},
   "outputs": [
    {
     "name": "stdout",
     "output_type": "stream",
     "text": [
      "                  Open        High         Low       Close        Volume\n",
      "Date                                                                    \n",
      "2006-01-31    9.646837    9.826964    9.463248    9.622845  2.734796e+08\n",
      "2006-02-28    8.666998    8.799066    8.449467    8.597482  2.468513e+08\n",
      "2006-03-31    7.977159    8.082119    7.819936    7.919303  2.520938e+08\n",
      "2006-04-30    8.305358    8.426230    8.158384    8.286417  2.647274e+08\n",
      "2006-05-31    8.347965    8.422168    8.167743    8.259034  1.773725e+08\n",
      "...                ...         ...         ...         ...           ...\n",
      "2019-08-31  203.405757  205.731611  201.016033  203.104356  3.095794e+07\n",
      "2019-09-30  215.977168  217.706653  214.203542  216.242517  2.712836e+07\n",
      "2019-10-31  233.040943  235.064113  231.072548  233.395029  2.644794e+07\n",
      "2019-11-30  260.217583  261.974837  258.773602  261.038866  2.241658e+07\n",
      "2019-12-31  273.997682  276.477449  272.482059  275.126224  2.843803e+07\n",
      "\n",
      "[168 rows x 5 columns]\n"
     ]
    }
   ],
   "source": [
    "# Resample to monthly level\n",
    "monthly_aapl = aapl.resample('M').mean()\n",
    "print(monthly_aapl)"
   ]
  },
  {
   "cell_type": "code",
   "execution_count": 19,
   "metadata": {},
   "outputs": [
    {
     "name": "stdout",
     "output_type": "stream",
     "text": [
      "                           Open        High         Low       Close     Volume\n",
      "Date                                                                          \n",
      "2006-01-03 00:00:00    8.951311    9.244411    8.935233    9.244411  201808600\n",
      "2006-01-03 00:01:00    8.951311    9.244411    8.935233    9.244411  201808600\n",
      "2006-01-03 00:02:00    8.951311    9.244411    8.935233    9.244411  201808600\n",
      "2006-01-03 00:03:00    8.951311    9.244411    8.935233    9.244411  201808600\n",
      "2006-01-03 00:04:00    8.951311    9.244411    8.935233    9.244411  201808600\n",
      "...                         ...         ...         ...         ...        ...\n",
      "2019-12-30 23:56:00  287.995045  291.208709  283.776513  290.044617   36028600\n",
      "2019-12-30 23:57:00  287.995045  291.208709  283.776513  290.044617   36028600\n",
      "2019-12-30 23:58:00  287.995045  291.208709  283.776513  290.044617   36028600\n",
      "2019-12-30 23:59:00  287.995045  291.208709  283.776513  290.044617   36028600\n",
      "2019-12-31 00:00:00  288.462644  292.193665  288.054716  292.163818   25201400\n",
      "\n",
      "[7358401 rows x 5 columns]\n"
     ]
    }
   ],
   "source": [
    "# Resample to minutely level\n",
    "minutely_aapl = aapl.resample('T').ffill()\n",
    "print(minutely_aapl)"
   ]
  },
  {
   "cell_type": "code",
   "execution_count": 93,
   "metadata": {},
   "outputs": [
    {
     "name": "stdout",
     "output_type": "stream",
     "text": [
      "                Open      High       Low     Close     Volume      diff\n",
      "Date                                                                   \n",
      "2006-01-03  8.951311  9.244411  8.935233  9.244411  201808600 -0.293101\n",
      "2006-01-04  9.291406  9.396526  9.213494  9.271619  154900900  0.019787\n",
      "2006-01-05  9.254306  9.262963  9.120741  9.198654  112355600  0.055652\n",
      "2006-01-06  9.306246  9.485569  9.219676  9.436100  176114400 -0.129854\n",
      "2006-01-09  9.489279  9.547404  9.366845  9.405183  168760200  0.084097\n"
     ]
    }
   ],
   "source": [
    "# Add a column `diff` to `aapl` \n",
    "aapl['diff'] = aapl.Open - aapl.Close\n",
    "\n",
    "print(aapl.head())\n",
    "\n",
    "# Delete the new `diff` column\n",
    "del aapl['diff']"
   ]
  },
  {
   "cell_type": "markdown",
   "metadata": {},
   "source": [
    "### 3. Calculate percentage change"
   ]
  },
  {
   "cell_type": "code",
   "execution_count": 21,
   "metadata": {
    "tags": []
   },
   "outputs": [
    {
     "name": "stdout",
     "output_type": "stream",
     "text": [
      "               Close\n",
      "Date                \n",
      "2006-01-03  0.000000\n",
      "2006-01-04  0.002943\n",
      "2006-01-05 -0.007870\n",
      "2006-01-06  0.025813\n",
      "2006-01-09 -0.003276\n"
     ]
    }
   ],
   "source": [
    "daily_close = aapl[['Close']]\n",
    "\n",
    "# Calculate daily returns\n",
    "daily_pct_change = daily_close.pct_change()\n",
    "\n",
    "# Replace NA values with 0\n",
    "daily_pct_change.fillna(0, inplace=True)\n",
    "\n",
    "# Inspect daily returns\n",
    "print(daily_pct_change.head())"
   ]
  },
  {
   "cell_type": "code",
   "execution_count": 22,
   "metadata": {},
   "outputs": [
    {
     "name": "stdout",
     "output_type": "stream",
     "text": [
      "               Close\n",
      "Date                \n",
      "2006-01-03       NaN\n",
      "2006-01-04  0.002939\n",
      "2006-01-05 -0.007901\n",
      "2006-01-06  0.025486\n",
      "2006-01-09 -0.003282\n"
     ]
    }
   ],
   "source": [
    "# Calculate daily log returns\n",
    "daily_log_returns = np.log(daily_close.pct_change()+1)\n",
    "\n",
    "# Print daily log returns\n",
    "print(daily_log_returns.head())"
   ]
  },
  {
   "cell_type": "code",
   "execution_count": 23,
   "metadata": {},
   "outputs": [
    {
     "data": {
      "text/html": [
       "<div>\n",
       "<style scoped>\n",
       "    .dataframe tbody tr th:only-of-type {\n",
       "        vertical-align: middle;\n",
       "    }\n",
       "\n",
       "    .dataframe tbody tr th {\n",
       "        vertical-align: top;\n",
       "    }\n",
       "\n",
       "    .dataframe thead th {\n",
       "        text-align: right;\n",
       "    }\n",
       "</style>\n",
       "<table border=\"1\" class=\"dataframe\">\n",
       "  <thead>\n",
       "    <tr style=\"text-align: right;\">\n",
       "      <th></th>\n",
       "      <th>Open</th>\n",
       "      <th>High</th>\n",
       "      <th>Low</th>\n",
       "      <th>Close</th>\n",
       "      <th>Volume</th>\n",
       "    </tr>\n",
       "    <tr>\n",
       "      <th>Date</th>\n",
       "      <th></th>\n",
       "      <th></th>\n",
       "      <th></th>\n",
       "      <th></th>\n",
       "      <th></th>\n",
       "    </tr>\n",
       "  </thead>\n",
       "  <tbody>\n",
       "    <tr>\n",
       "      <th>2019-08-30</th>\n",
       "      <td>-0.025236</td>\n",
       "      <td>-0.045717</td>\n",
       "      <td>-0.015678</td>\n",
       "      <td>-0.016461</td>\n",
       "      <td>-0.694819</td>\n",
       "    </tr>\n",
       "    <tr>\n",
       "      <th>2019-09-30</th>\n",
       "      <td>0.051104</td>\n",
       "      <td>0.067142</td>\n",
       "      <td>0.065589</td>\n",
       "      <td>0.072962</td>\n",
       "      <td>0.228629</td>\n",
       "    </tr>\n",
       "    <tr>\n",
       "      <th>2019-10-31</th>\n",
       "      <td>0.119240</td>\n",
       "      <td>0.109493</td>\n",
       "      <td>0.074596</td>\n",
       "      <td>0.110684</td>\n",
       "      <td>0.339260</td>\n",
       "    </tr>\n",
       "    <tr>\n",
       "      <th>2019-11-29</th>\n",
       "      <td>0.081542</td>\n",
       "      <td>0.078800</td>\n",
       "      <td>0.124076</td>\n",
       "      <td>0.077554</td>\n",
       "      <td>-0.665012</td>\n",
       "    </tr>\n",
       "    <tr>\n",
       "      <th>2019-12-31</th>\n",
       "      <td>0.087509</td>\n",
       "      <td>0.095821</td>\n",
       "      <td>0.088830</td>\n",
       "      <td>0.098784</td>\n",
       "      <td>1.162394</td>\n",
       "    </tr>\n",
       "  </tbody>\n",
       "</table>\n",
       "</div>"
      ],
      "text/plain": [
       "                Open      High       Low     Close    Volume\n",
       "Date                                                        \n",
       "2019-08-30 -0.025236 -0.045717 -0.015678 -0.016461 -0.694819\n",
       "2019-09-30  0.051104  0.067142  0.065589  0.072962  0.228629\n",
       "2019-10-31  0.119240  0.109493  0.074596  0.110684  0.339260\n",
       "2019-11-29  0.081542  0.078800  0.124076  0.077554 -0.665012\n",
       "2019-12-31  0.087509  0.095821  0.088830  0.098784  1.162394"
      ]
     },
     "execution_count": 23,
     "metadata": {},
     "output_type": "execute_result"
    }
   ],
   "source": [
    "# Resample `aapl` to business months, take last observation as value \n",
    "monthly = aapl.resample('BM').apply(lambda x: x[-1])\n",
    "\n",
    "# Calculate monthly percentage change\n",
    "monthly.pct_change().tail()"
   ]
  },
  {
   "cell_type": "code",
   "execution_count": 24,
   "metadata": {},
   "outputs": [
    {
     "data": {
      "text/html": [
       "<div>\n",
       "<style scoped>\n",
       "    .dataframe tbody tr th:only-of-type {\n",
       "        vertical-align: middle;\n",
       "    }\n",
       "\n",
       "    .dataframe tbody tr th {\n",
       "        vertical-align: top;\n",
       "    }\n",
       "\n",
       "    .dataframe thead th {\n",
       "        text-align: right;\n",
       "    }\n",
       "</style>\n",
       "<table border=\"1\" class=\"dataframe\">\n",
       "  <thead>\n",
       "    <tr style=\"text-align: right;\">\n",
       "      <th></th>\n",
       "      <th>Open</th>\n",
       "      <th>High</th>\n",
       "      <th>Low</th>\n",
       "      <th>Close</th>\n",
       "      <th>Volume</th>\n",
       "    </tr>\n",
       "    <tr>\n",
       "      <th>Date</th>\n",
       "      <th></th>\n",
       "      <th></th>\n",
       "      <th></th>\n",
       "      <th></th>\n",
       "      <th></th>\n",
       "    </tr>\n",
       "  </thead>\n",
       "  <tbody>\n",
       "    <tr>\n",
       "      <th>2018-09-30</th>\n",
       "      <td>0.169907</td>\n",
       "      <td>0.166745</td>\n",
       "      <td>0.172115</td>\n",
       "      <td>0.170176</td>\n",
       "      <td>-0.223827</td>\n",
       "    </tr>\n",
       "    <tr>\n",
       "      <th>2019-01-31</th>\n",
       "      <td>-0.089344</td>\n",
       "      <td>-0.085867</td>\n",
       "      <td>-0.097034</td>\n",
       "      <td>-0.091758</td>\n",
       "      <td>0.511812</td>\n",
       "    </tr>\n",
       "    <tr>\n",
       "      <th>2019-05-31</th>\n",
       "      <td>0.019615</td>\n",
       "      <td>0.017389</td>\n",
       "      <td>0.027790</td>\n",
       "      <td>0.023316</td>\n",
       "      <td>-0.310644</td>\n",
       "    </tr>\n",
       "    <tr>\n",
       "      <th>2019-09-30</th>\n",
       "      <td>0.104137</td>\n",
       "      <td>0.103838</td>\n",
       "      <td>0.103444</td>\n",
       "      <td>0.102620</td>\n",
       "      <td>-0.077098</td>\n",
       "    </tr>\n",
       "    <tr>\n",
       "      <th>2020-01-31</th>\n",
       "      <td>0.255415</td>\n",
       "      <td>0.253627</td>\n",
       "      <td>0.257661</td>\n",
       "      <td>0.258518</td>\n",
       "      <td>-0.019039</td>\n",
       "    </tr>\n",
       "  </tbody>\n",
       "</table>\n",
       "</div>"
      ],
      "text/plain": [
       "                Open      High       Low     Close    Volume\n",
       "Date                                                        \n",
       "2018-09-30  0.169907  0.166745  0.172115  0.170176 -0.223827\n",
       "2019-01-31 -0.089344 -0.085867 -0.097034 -0.091758  0.511812\n",
       "2019-05-31  0.019615  0.017389  0.027790  0.023316 -0.310644\n",
       "2019-09-30  0.104137  0.103838  0.103444  0.102620 -0.077098\n",
       "2020-01-31  0.255415  0.253627  0.257661  0.258518 -0.019039"
      ]
     },
     "execution_count": 24,
     "metadata": {},
     "output_type": "execute_result"
    }
   ],
   "source": [
    "# Resample `aapl` to quarters, take the mean as value per quarter\n",
    "quarter = aapl.resample(\"4M\").mean()\n",
    "\n",
    "# Calculate quarterly percentage change\n",
    "quarter.pct_change().tail()"
   ]
  },
  {
   "cell_type": "code",
   "execution_count": 25,
   "metadata": {},
   "outputs": [
    {
     "data": {
      "text/html": [
       "<div>\n",
       "<style scoped>\n",
       "    .dataframe tbody tr th:only-of-type {\n",
       "        vertical-align: middle;\n",
       "    }\n",
       "\n",
       "    .dataframe tbody tr th {\n",
       "        vertical-align: top;\n",
       "    }\n",
       "\n",
       "    .dataframe thead th {\n",
       "        text-align: right;\n",
       "    }\n",
       "</style>\n",
       "<table border=\"1\" class=\"dataframe\">\n",
       "  <thead>\n",
       "    <tr style=\"text-align: right;\">\n",
       "      <th></th>\n",
       "      <th>Close</th>\n",
       "    </tr>\n",
       "    <tr>\n",
       "      <th>Date</th>\n",
       "      <th></th>\n",
       "    </tr>\n",
       "  </thead>\n",
       "  <tbody>\n",
       "    <tr>\n",
       "      <th>2019-12-24</th>\n",
       "      <td>0.000951</td>\n",
       "    </tr>\n",
       "    <tr>\n",
       "      <th>2019-12-26</th>\n",
       "      <td>0.019840</td>\n",
       "    </tr>\n",
       "    <tr>\n",
       "      <th>2019-12-27</th>\n",
       "      <td>-0.000380</td>\n",
       "    </tr>\n",
       "    <tr>\n",
       "      <th>2019-12-30</th>\n",
       "      <td>0.005935</td>\n",
       "    </tr>\n",
       "    <tr>\n",
       "      <th>2019-12-31</th>\n",
       "      <td>0.007306</td>\n",
       "    </tr>\n",
       "  </tbody>\n",
       "</table>\n",
       "</div>"
      ],
      "text/plain": [
       "               Close\n",
       "Date                \n",
       "2019-12-24  0.000951\n",
       "2019-12-26  0.019840\n",
       "2019-12-27 -0.000380\n",
       "2019-12-30  0.005935\n",
       "2019-12-31  0.007306"
      ]
     },
     "execution_count": 25,
     "metadata": {},
     "output_type": "execute_result"
    }
   ],
   "source": [
    "# Daily returns\n",
    "daily_pct_change = daily_close / daily_close.shift(1) - 1\n",
    "\n",
    "# Print `daily_pct_change`\n",
    "daily_pct_change.tail()"
   ]
  },
  {
   "cell_type": "markdown",
   "metadata": {},
   "source": [
    "### 4. Visualising time series data"
   ]
  },
  {
   "cell_type": "code",
   "execution_count": 26,
   "metadata": {
    "tags": []
   },
   "outputs": [
    {
     "data": {
      "image/png": "[encoded data removed]",
      "text/plain": [
       "<Figure size 432x288 with 1 Axes>"
      ]
     },
     "metadata": {
      "needs_background": "light"
     },
     "output_type": "display_data"
    }
   ],
   "source": [
    "# Plot the closing prices for `aapl`\n",
    "aapl['Close'].plot(grid=True)\n",
    "\n",
    "# Show the plot\n",
    "plt.show()"
   ]
  },
  {
   "cell_type": "code",
   "execution_count": 100,
   "metadata": {},
   "outputs": [
    {
     "data": {
      "image/png": "[encoded data removed]",
      "text/plain": [
       "<Figure size 432x288 with 1 Axes>"
      ]
     },
     "metadata": {
      "needs_background": "light"
     },
     "output_type": "display_data"
    },
    {
     "name": "stdout",
     "output_type": "stream",
     "text": [
      "             Close\n",
      "count  3522.000000\n",
      "mean      0.001181\n",
      "std       0.020003\n",
      "min      -0.179196\n",
      "25%      -0.008113\n",
      "50%       0.000949\n",
      "75%       0.011245\n",
      "max       0.139049\n"
     ]
    }
   ],
   "source": [
    "# Plot the distribution of `daily_pct_c`\n",
    "daily_pct_change.hist(bins=50)\n",
    "\n",
    "# Show the plot\n",
    "plt.show()\n",
    "\n",
    "# Pull up summary statistics\n",
    "print(daily_pct_change.describe())"
   ]
  },
  {
   "cell_type": "markdown",
   "metadata": {},
   "source": [
    "### Cumulative daily rate of return"
   ]
  },
  {
   "cell_type": "code",
   "execution_count": 33,
   "metadata": {},
   "outputs": [
    {
     "data": {
      "text/html": [
       "<div>\n",
       "<style scoped>\n",
       "    .dataframe tbody tr th:only-of-type {\n",
       "        vertical-align: middle;\n",
       "    }\n",
       "\n",
       "    .dataframe tbody tr th {\n",
       "        vertical-align: top;\n",
       "    }\n",
       "\n",
       "    .dataframe thead th {\n",
       "        text-align: right;\n",
       "    }\n",
       "</style>\n",
       "<table border=\"1\" class=\"dataframe\">\n",
       "  <thead>\n",
       "    <tr style=\"text-align: right;\">\n",
       "      <th></th>\n",
       "      <th>Close</th>\n",
       "    </tr>\n",
       "    <tr>\n",
       "      <th>Date</th>\n",
       "      <th></th>\n",
       "    </tr>\n",
       "  </thead>\n",
       "  <tbody>\n",
       "    <tr>\n",
       "      <th>2019-12-24</th>\n",
       "      <td>30.594841</td>\n",
       "    </tr>\n",
       "    <tr>\n",
       "      <th>2019-12-26</th>\n",
       "      <td>31.201854</td>\n",
       "    </tr>\n",
       "    <tr>\n",
       "      <th>2019-12-27</th>\n",
       "      <td>31.190013</td>\n",
       "    </tr>\n",
       "    <tr>\n",
       "      <th>2019-12-30</th>\n",
       "      <td>31.375131</td>\n",
       "    </tr>\n",
       "    <tr>\n",
       "      <th>2019-12-31</th>\n",
       "      <td>31.604372</td>\n",
       "    </tr>\n",
       "  </tbody>\n",
       "</table>\n",
       "</div>"
      ],
      "text/plain": [
       "                Close\n",
       "Date                 \n",
       "2019-12-24  30.594841\n",
       "2019-12-26  31.201854\n",
       "2019-12-27  31.190013\n",
       "2019-12-30  31.375131\n",
       "2019-12-31  31.604372"
      ]
     },
     "execution_count": 33,
     "metadata": {},
     "output_type": "execute_result"
    }
   ],
   "source": [
    "# Calculate the cumulative daily returns\n",
    "cum_daily_return = (1 + daily_pct_change).cumprod()\n",
    "\n",
    "# Print `cum_daily_return`\n",
    "cum_daily_return.tail()"
   ]
  },
  {
   "cell_type": "code",
   "execution_count": 34,
   "metadata": {},
   "outputs": [
    {
     "data": {
      "image/png": "[encoded data removed]",
      "text/plain": [
       "<Figure size 864x576 with 1 Axes>"
      ]
     },
     "metadata": {
      "needs_background": "light"
     },
     "output_type": "display_data"
    }
   ],
   "source": [
    "# Plot the cumulative daily returns\n",
    "cum_daily_return.plot(figsize=(12,8))\n",
    "\n",
    "# Show the plot\n",
    "plt.show()"
   ]
  },
  {
   "cell_type": "code",
   "execution_count": 35,
   "metadata": {},
   "outputs": [
    {
     "data": {
      "text/html": [
       "<div>\n",
       "<style scoped>\n",
       "    .dataframe tbody tr th:only-of-type {\n",
       "        vertical-align: middle;\n",
       "    }\n",
       "\n",
       "    .dataframe tbody tr th {\n",
       "        vertical-align: top;\n",
       "    }\n",
       "\n",
       "    .dataframe thead th {\n",
       "        text-align: right;\n",
       "    }\n",
       "</style>\n",
       "<table border=\"1\" class=\"dataframe\">\n",
       "  <thead>\n",
       "    <tr style=\"text-align: right;\">\n",
       "      <th></th>\n",
       "      <th>Close</th>\n",
       "    </tr>\n",
       "    <tr>\n",
       "      <th>Date</th>\n",
       "      <th></th>\n",
       "    </tr>\n",
       "  </thead>\n",
       "  <tbody>\n",
       "    <tr>\n",
       "      <th>2019-08-31</th>\n",
       "      <td>21.970501</td>\n",
       "    </tr>\n",
       "    <tr>\n",
       "      <th>2019-09-30</th>\n",
       "      <td>23.391702</td>\n",
       "    </tr>\n",
       "    <tr>\n",
       "      <th>2019-10-31</th>\n",
       "      <td>25.247149</td>\n",
       "    </tr>\n",
       "    <tr>\n",
       "      <th>2019-11-30</th>\n",
       "      <td>28.237478</td>\n",
       "    </tr>\n",
       "    <tr>\n",
       "      <th>2019-12-31</th>\n",
       "      <td>29.761356</td>\n",
       "    </tr>\n",
       "  </tbody>\n",
       "</table>\n",
       "</div>"
      ],
      "text/plain": [
       "                Close\n",
       "Date                 \n",
       "2019-08-31  21.970501\n",
       "2019-09-30  23.391702\n",
       "2019-10-31  25.247149\n",
       "2019-11-30  28.237478\n",
       "2019-12-31  29.761356"
      ]
     },
     "execution_count": 35,
     "metadata": {},
     "output_type": "execute_result"
    }
   ],
   "source": [
    "# Resample the cumulative daily return to cumulative monthly return \n",
    "cum_monthly_return = cum_daily_return.resample(\"M\").mean()\n",
    "\n",
    "# Print the `cum_monthly_return`\n",
    "cum_monthly_return.tail()"
   ]
  },
  {
   "cell_type": "markdown",
   "metadata": {},
   "source": [
    "### 5. Moving windows"
   ]
  },
  {
   "cell_type": "code",
   "execution_count": 108,
   "metadata": {},
   "outputs": [
    {
     "data": {
      "text/plain": [
       "Date\n",
       "2019-12-24    264.221056\n",
       "2019-12-26    265.398771\n",
       "2019-12-27    266.574494\n",
       "2019-12-30    267.656605\n",
       "2019-12-31    268.616614\n",
       "Name: Close, dtype: float64"
      ]
     },
     "execution_count": 108,
     "metadata": {},
     "output_type": "execute_result"
    }
   ],
   "source": [
    "# Isolate the closing prices \n",
    "close_px = aapl['Close']\n",
    "\n",
    "# Calculate the moving average\n",
    "moving_avg = close_px.rolling(window=40).mean()\n",
    "\n",
    "# Inspect the result\n",
    "moving_avg.tail()"
   ]
  },
  {
   "cell_type": "code",
   "execution_count": 109,
   "metadata": {},
   "outputs": [
    {
     "data": {
      "image/png": "[encoded data removed]",
      "text/plain": [
       "<Figure size 432x288 with 1 Axes>"
      ]
     },
     "metadata": {
      "needs_background": "light"
     },
     "output_type": "display_data"
    }
   ],
   "source": [
    "# Short moving window rolling mean\n",
    "aapl['42'] = close_px.rolling(window=40).mean()\n",
    "\n",
    "# Long moving window rolling mean\n",
    "aapl['252'] = close_px.rolling(window=252).mean()\n",
    "\n",
    "# Plot the adjusted closing price, the short and long windows of rolling means\n",
    "aapl[['Close', '42', '252']].plot()\n",
    "\n",
    "# Show plot\n",
    "plt.show()"
   ]
  },
  {
   "cell_type": "markdown",
   "metadata": {},
   "source": [
    "### References:\n",
    "* [Algorithmic trading explained](https://www.youtube.com/watch?v=73fnrywIhl8) (Youtube video)\n",
    "* [DataCamp - Python for Finance: Algorithmic Trading](https://www.datacamp.com/community/tutorials/finance-python-trading?utm_source=adwords_ppc&utm_campaignid=898687156&utm_adgroupid=48947256715&utm_device=c&utm_keyword=&utm_matchtype=b&utm_network=g&utm_adpostion=&utm_creative=255798340456&utm_targetid=aud-299261629574:dsa-473406585355&utm_loc_interest_ms=&utm_loc_physical_ms=1009279&gclid=Cj0KCQjwrIf3BRD1ARIsAMuugNu2UkliuXEzSS4V08jCIQPtBByx7Eu8tEZh0J34NJ395kpOC_t0-MUaAtF5EALw_wcB)"
   ]
  },
  {
   "cell_type": "code",
   "execution_count": null,
   "metadata": {},
   "outputs": [],
   "source": []
  }
 ],
 "metadata": {
  "kernelspec": {
   "display_name": "Python 3",
   "language": "python",
   "name": "python3"
  },
  "language_info": {
   "codemirror_mode": {
    "name": "ipython",
    "version": 3
   },
   "file_extension": ".py",
   "mimetype": "text/x-python",
   "name": "python",
   "nbconvert_exporter": "python",
   "pygments_lexer": "ipython3",
   "version": "3.7.4"
  }
 },
 "nbformat": 4,
 "nbformat_minor": 2
}
