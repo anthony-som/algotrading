{
 "cells": [
  {
   "cell_type": "code",
   "execution_count": 3,
   "metadata": {},
   "outputs": [],
   "source": [
    "import matplotlib.pyplot as plt\n",
    "import numpy as np\n",
    "import matplotlib as mpl\n",
    "import pandas as pd\n",
    "import sys\n",
    "import datetime\n",
    "from pathlib import Path\n",
    "sys.path.append(\"../\")\n",
    "sys.path.append(\"../../\")\n",
    "\n",
    "sys.path.append(\"./analysis\")\n",
    "sys.path.append(\"./analysis/technical-analysis_python\")\n",
    "mpl.use('tkagg')  # issues with Big Sur\n",
    "\n",
    "import matplotlib.pyplot as plt\n",
    "from strategy.macd_crossover import macdCrossover\n",
    "from backtest import Backtest\n",
    "from evaluate import PortfolioReturn, SharpeRatio, MaxDrawdown, CAGR"
   ]
  },
  {
   "cell_type": "code",
   "execution_count": 4,
   "metadata": {},
   "outputs": [],
   "source": [
    "import warnings\n",
    "warnings.filterwarnings('ignore')"
   ]
  },
  {
   "cell_type": "code",
   "execution_count": 6,
   "metadata": {},
   "outputs": [],
   "source": [
    "directory_name = \"hkex_ticks_day\"\n",
    "\n",
    "pathlist = Path(directory_name).rglob('*.csv')\n",
    "\n",
    "# traverse over files in directory\n",
    "for path in pathlist:\n",
    "    \n",
    "    # load data\n",
    "    df = pd.read_csv(path, header=0, index_col='Date', parse_dates=True)\n",
    "    \n",
    "    # select time range\n",
    "    df = df.loc[pd.Timestamp('2017-01-01'):pd.Timestamp('2019-01-01')]\n",
    "    \n",
    "    path_str = str(path)\n",
    "    ticker = path_str[len(directory_name)+6:len(directory_name)+6+4]\n",
    "    \n",
    "    # MACD\n",
    "    \"\"\"\n",
    "    macd_cross = macdCrossover(df)\n",
    "    macd_fig = macd_cross.plot_MACD()\n",
    "    mpl.pyplot.close()\n",
    "    \n",
    "    signals = macd_cross.gen_signals()\n",
    "    signal_fig = macd_cross.plot_signals(signals)\n",
    "    mpl.pyplot.close()\n",
    "    \n",
    "    signal_fig = macd_cross.plot_signals_MACD()\n",
    "    mpl.pyplot.close()\n",
    "    \"\"\"\n",
    "    \n",
    "    # RSI\n",
    "\n",
    "    rsi = rsi(df)\n",
    "    rsi_fig = rsi.plot_RSI()\n",
    "    mpl.pyplot.close()\n",
    "    \n",
    "    signals = rsi.gen_signals()\n",
    "    signal_fig = rsi.plot_signals(signals)\n",
    "    mpl.pyplot.close()\n",
    "    \n",
    "    # Backtesting\n",
    "    portfolio, backtest_fig = Backtest(ticker, signals, df)\n",
    "    mpl.pyplot.close()\n",
    "    \n",
    "    \n",
    "    if (len(portfolio) != 0):\n",
    "        print(\"Final total value: {value:.4f} \".format(value = portfolio['total'][-1]))\n",
    "        print(\"Total return: {value:.4f}%\".format(value = (portfolio['total'][-1] - portfolio['total'][0])/portfolio['total'][-1]*100))\n",
    "        # for analysis\n",
    "        print(\"No. of trade: {value}\".format(value = len(signals[signals.positions == 1])))\n",
    "        \n",
    "        filename = \"diff-tickers-2-years-RSI.txt\"\n",
    "        \n",
    "        with open(filename,'a') as outfile:\n",
    "            port_ret = (portfolio['total'][-1] - portfolio['total'][0])/portfolio['total'][-1]*100\n",
    "            num_trade = len(signals[signals.positions == 1])\n",
    "            start_date = pd.Timestamp('2017-01-01').strftime(\"%Y-%m-%d\")\n",
    "            end_date = pd.Timestamp('2019-06-01').strftime(\"%Y-%m-%d\")\n",
    "            \n",
    "            outfile.write(\"{},{},{},{},{}\".format(ticker, start_date, end_date, port_ret, num_trade))\n",
    "            outfile.write('\\n')"
   ]
  },
  {
   "cell_type": "code",
   "execution_count": null,
   "metadata": {},
   "outputs": [],
   "source": []
  }
 ],
 "metadata": {
  "kernelspec": {
   "display_name": "Python 3",
   "language": "python",
   "name": "python3"
  },
  "language_info": {
   "codemirror_mode": {
    "name": "ipython",
    "version": 3
   },
   "file_extension": ".py",
   "mimetype": "text/x-python",
   "name": "python",
   "nbconvert_exporter": "python",
   "pygments_lexer": "ipython3",
   "version": "3.7.4"
  }
 },
 "nbformat": 4,
 "nbformat_minor": 2
}
