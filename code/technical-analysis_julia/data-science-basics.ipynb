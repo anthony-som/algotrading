{
 "cells": [
  {
   "cell_type": "code",
   "execution_count": 1,
   "metadata": {},
   "outputs": [
    {
     "name": "stderr",
     "output_type": "stream",
     "text": [
      "\u001b[32m\u001b[1m   Updating\u001b[22m\u001b[39m registry at `~/.julia/registries/General`\n",
      "######################################################################### 100.0%\n",
      "\u001b[32m\u001b[1m  Resolving\u001b[22m\u001b[39m package versions...\n",
      "\u001b[32m\u001b[1mNo Changes\u001b[22m\u001b[39m to `~/.julia/environments/v1.5/Project.toml`\n",
      "\u001b[32m\u001b[1mNo Changes\u001b[22m\u001b[39m to `~/.julia/environments/v1.5/Manifest.toml`\n",
      "\u001b[32m\u001b[1m  Resolving\u001b[22m\u001b[39m package versions...\n",
      "\u001b[32m\u001b[1mNo Changes\u001b[22m\u001b[39m to `~/.julia/environments/v1.5/Project.toml`\n",
      "\u001b[32m\u001b[1mNo Changes\u001b[22m\u001b[39m to `~/.julia/environments/v1.5/Manifest.toml`\n",
      "\u001b[32m\u001b[1m  Resolving\u001b[22m\u001b[39m package versions...\n",
      "\u001b[32m\u001b[1mNo Changes\u001b[22m\u001b[39m to `~/.julia/environments/v1.5/Project.toml`\n",
      "\u001b[32m\u001b[1mNo Changes\u001b[22m\u001b[39m to `~/.julia/environments/v1.5/Manifest.toml`\n",
      "\u001b[32m\u001b[1m  Resolving\u001b[22m\u001b[39m package versions...\n",
      "\u001b[32m\u001b[1mNo Changes\u001b[22m\u001b[39m to `~/.julia/environments/v1.5/Project.toml`\n",
      "\u001b[32m\u001b[1mNo Changes\u001b[22m\u001b[39m to `~/.julia/environments/v1.5/Manifest.toml`\n",
      "\u001b[32m\u001b[1m  Resolving\u001b[22m\u001b[39m package versions...\n",
      "\u001b[32m\u001b[1mNo Changes\u001b[22m\u001b[39m to `~/.julia/environments/v1.5/Project.toml`\n",
      "\u001b[32m\u001b[1mNo Changes\u001b[22m\u001b[39m to `~/.julia/environments/v1.5/Manifest.toml`\n",
      "\u001b[32m\u001b[1m  Resolving\u001b[22m\u001b[39m package versions...\n",
      "\u001b[32m\u001b[1mNo Changes\u001b[22m\u001b[39m to `~/.julia/environments/v1.5/Project.toml`\n",
      "\u001b[32m\u001b[1mNo Changes\u001b[22m\u001b[39m to `~/.julia/environments/v1.5/Manifest.toml`\n",
      "\u001b[32m\u001b[1m  Resolving\u001b[22m\u001b[39m package versions...\n",
      "\u001b[32m\u001b[1mNo Changes\u001b[22m\u001b[39m to `~/.julia/environments/v1.5/Project.toml`\n",
      "\u001b[32m\u001b[1mNo Changes\u001b[22m\u001b[39m to `~/.julia/environments/v1.5/Manifest.toml`\n"
     ]
    }
   ],
   "source": [
    "import Pkg; \n",
    "\n",
    "Pkg.add(\"CSV\") # install CSV\n",
    "Pkg.add(\"DataFrames\") # install Dataframes\n",
    "Pkg.add(\"TimeSeries\")\n",
    "Pkg.add(\"Pandas\")\n",
    "Pkg.add(\"Plots\") # plotting dataframe\n",
    "Pkg.add(\"StatsPlots\")\n",
    "Pkg.add(\"RollingFunctions\") # rolling functions"
   ]
  },
  {
   "cell_type": "code",
   "execution_count": 2,
   "metadata": {},
   "outputs": [],
   "source": [
    "# import libraries\n",
    "using CSV;\n",
    "using Dates;\n",
    "using DataFrames;\n",
    "using Statistics;\n",
    "using Plots;\n",
    "using StatsPlots;\n",
    "using RollingFunctions;"
   ]
  },
  {
   "cell_type": "code",
   "execution_count": 3,
   "metadata": {},
   "outputs": [
    {
     "data": {
      "text/html": [
       "<table class=\"data-frame\"><thead><tr><th></th><th>Date</th><th>Open</th><th>High</th><th>Low</th><th>Close</th><th>Volume</th></tr><tr><th></th><th>Date</th><th>Float64</th><th>Float64</th><th>Float64</th><th>Float64</th><th>Int64</th></tr></thead><tbody><p>5 rows × 6 columns</p><tr><th>1</th><td>2000-01-04</td><td>33.0375</td><td>33.3678</td><td>32.3767</td><td>32.3767</td><td>3194413</td></tr><tr><th>2</th><td>2000-01-05</td><td>30.89</td><td>31.3856</td><td>29.9815</td><td>30.1467</td><td>6058531</td></tr><tr><th>3</th><td>2000-01-06</td><td>30.3945</td><td>30.5596</td><td>28.0818</td><td>28.66</td><td>10440480</td></tr><tr><th>4</th><td>2000-01-07</td><td>29.073</td><td>29.4033</td><td>28.5774</td><td>29.2381</td><td>6049796</td></tr><tr><th>5</th><td>2000-01-10</td><td>30.2293</td><td>30.7248</td><td>29.4859</td><td>29.4859</td><td>5195405</td></tr></tbody></table>"
      ],
      "text/latex": [
       "\\begin{tabular}{r|cccccc}\n",
       "\t& Date & Open & High & Low & Close & Volume\\\\\n",
       "\t\\hline\n",
       "\t& Date & Float64 & Float64 & Float64 & Float64 & Int64\\\\\n",
       "\t\\hline\n",
       "\t1 & 2000-01-04 & 33.0375 & 33.3678 & 32.3767 & 32.3767 & 3194413 \\\\\n",
       "\t2 & 2000-01-05 & 30.89 & 31.3856 & 29.9815 & 30.1467 & 6058531 \\\\\n",
       "\t3 & 2000-01-06 & 30.3945 & 30.5596 & 28.0818 & 28.66 & 10440480 \\\\\n",
       "\t4 & 2000-01-07 & 29.073 & 29.4033 & 28.5774 & 29.2381 & 6049796 \\\\\n",
       "\t5 & 2000-01-10 & 30.2293 & 30.7248 & 29.4859 & 29.4859 & 5195405 \\\\\n",
       "\\end{tabular}\n"
      ],
      "text/plain": [
       "5×6 DataFrame\n",
       "│ Row │ Date       │ Open    │ High    │ Low     │ Close   │ Volume   │\n",
       "│     │ \u001b[90mDate\u001b[39m       │ \u001b[90mFloat64\u001b[39m │ \u001b[90mFloat64\u001b[39m │ \u001b[90mFloat64\u001b[39m │ \u001b[90mFloat64\u001b[39m │ \u001b[90mInt64\u001b[39m    │\n",
       "├─────┼────────────┼─────────┼─────────┼─────────┼─────────┼──────────┤\n",
       "│ 1   │ 2000-01-04 │ 33.0375 │ 33.3678 │ 32.3767 │ 32.3767 │ 3194413  │\n",
       "│ 2   │ 2000-01-05 │ 30.89   │ 31.3856 │ 29.9815 │ 30.1467 │ 6058531  │\n",
       "│ 3   │ 2000-01-06 │ 30.3945 │ 30.5596 │ 28.0818 │ 28.66   │ 10440480 │\n",
       "│ 4   │ 2000-01-07 │ 29.073  │ 29.4033 │ 28.5774 │ 29.2381 │ 6049796  │\n",
       "│ 5   │ 2000-01-10 │ 30.2293 │ 30.7248 │ 29.4859 │ 29.4859 │ 5195405  │"
      ]
     },
     "execution_count": 3,
     "metadata": {},
     "output_type": "execute_result"
    }
   ],
   "source": [
    "# load data\n",
    "df = CSV.File(\"../../database/hkex_ticks_day/hkex_0001.csv\") |> DataFrame\n",
    "\n",
    "first(df,5)"
   ]
  },
  {
   "cell_type": "markdown",
   "metadata": {},
   "source": [
    "#### Data inspection"
   ]
  },
  {
   "cell_type": "code",
   "execution_count": 4,
   "metadata": {},
   "outputs": [
    {
     "data": {
      "text/html": [
       "<table class=\"data-frame\"><thead><tr><th></th><th>Date</th><th>Open</th><th>High</th><th>Low</th><th>Close</th><th>Volume</th></tr><tr><th></th><th>Date</th><th>Float64</th><th>Float64</th><th>Float64</th><th>Float64</th><th>Int64</th></tr></thead><tbody><p>5 rows × 6 columns</p><tr><th>1</th><td>2000-01-04</td><td>33.0375</td><td>33.3678</td><td>32.3767</td><td>32.3767</td><td>3194413</td></tr><tr><th>2</th><td>2000-01-05</td><td>30.89</td><td>31.3856</td><td>29.9815</td><td>30.1467</td><td>6058531</td></tr><tr><th>3</th><td>2000-01-06</td><td>30.3945</td><td>30.5596</td><td>28.0818</td><td>28.66</td><td>10440480</td></tr><tr><th>4</th><td>2000-01-07</td><td>29.073</td><td>29.4033</td><td>28.5774</td><td>29.2381</td><td>6049796</td></tr><tr><th>5</th><td>2000-01-10</td><td>30.2293</td><td>30.7248</td><td>29.4859</td><td>29.4859</td><td>5195405</td></tr></tbody></table>"
      ],
      "text/latex": [
       "\\begin{tabular}{r|cccccc}\n",
       "\t& Date & Open & High & Low & Close & Volume\\\\\n",
       "\t\\hline\n",
       "\t& Date & Float64 & Float64 & Float64 & Float64 & Int64\\\\\n",
       "\t\\hline\n",
       "\t1 & 2000-01-04 & 33.0375 & 33.3678 & 32.3767 & 32.3767 & 3194413 \\\\\n",
       "\t2 & 2000-01-05 & 30.89 & 31.3856 & 29.9815 & 30.1467 & 6058531 \\\\\n",
       "\t3 & 2000-01-06 & 30.3945 & 30.5596 & 28.0818 & 28.66 & 10440480 \\\\\n",
       "\t4 & 2000-01-07 & 29.073 & 29.4033 & 28.5774 & 29.2381 & 6049796 \\\\\n",
       "\t5 & 2000-01-10 & 30.2293 & 30.7248 & 29.4859 & 29.4859 & 5195405 \\\\\n",
       "\\end{tabular}\n"
      ],
      "text/plain": [
       "5×6 DataFrame\n",
       "│ Row │ Date       │ Open    │ High    │ Low     │ Close   │ Volume   │\n",
       "│     │ \u001b[90mDate\u001b[39m       │ \u001b[90mFloat64\u001b[39m │ \u001b[90mFloat64\u001b[39m │ \u001b[90mFloat64\u001b[39m │ \u001b[90mFloat64\u001b[39m │ \u001b[90mInt64\u001b[39m    │\n",
       "├─────┼────────────┼─────────┼─────────┼─────────┼─────────┼──────────┤\n",
       "│ 1   │ 2000-01-04 │ 33.0375 │ 33.3678 │ 32.3767 │ 32.3767 │ 3194413  │\n",
       "│ 2   │ 2000-01-05 │ 30.89   │ 31.3856 │ 29.9815 │ 30.1467 │ 6058531  │\n",
       "│ 3   │ 2000-01-06 │ 30.3945 │ 30.5596 │ 28.0818 │ 28.66   │ 10440480 │\n",
       "│ 4   │ 2000-01-07 │ 29.073  │ 29.4033 │ 28.5774 │ 29.2381 │ 6049796  │\n",
       "│ 5   │ 2000-01-10 │ 30.2293 │ 30.7248 │ 29.4859 │ 29.4859 │ 5195405  │"
      ]
     },
     "execution_count": 4,
     "metadata": {},
     "output_type": "execute_result"
    }
   ],
   "source": [
    "first(df, 5) # show first 5 rows"
   ]
  },
  {
   "cell_type": "code",
   "execution_count": 5,
   "metadata": {},
   "outputs": [
    {
     "data": {
      "text/html": [
       "<table class=\"data-frame\"><thead><tr><th></th><th>Date</th><th>Open</th><th>High</th><th>Low</th><th>Close</th><th>Volume</th></tr><tr><th></th><th>Date</th><th>Float64</th><th>Float64</th><th>Float64</th><th>Float64</th><th>Int64</th></tr></thead><tbody><p>5 rows × 6 columns</p><tr><th>1</th><td>2020-09-24</td><td>46.3</td><td>46.65</td><td>46.0</td><td>46.35</td><td>4728562</td></tr><tr><th>2</th><td>2020-09-25</td><td>46.1</td><td>46.9</td><td>46.05</td><td>46.55</td><td>3907163</td></tr><tr><th>3</th><td>2020-09-28</td><td>46.85</td><td>47.0</td><td>46.4</td><td>46.55</td><td>4628062</td></tr><tr><th>4</th><td>2020-09-29</td><td>46.25</td><td>46.6</td><td>46.1</td><td>46.5</td><td>5319638</td></tr><tr><th>5</th><td>2020-09-30</td><td>46.15</td><td>47.15</td><td>46.15</td><td>46.6</td><td>6518072</td></tr></tbody></table>"
      ],
      "text/latex": [
       "\\begin{tabular}{r|cccccc}\n",
       "\t& Date & Open & High & Low & Close & Volume\\\\\n",
       "\t\\hline\n",
       "\t& Date & Float64 & Float64 & Float64 & Float64 & Int64\\\\\n",
       "\t\\hline\n",
       "\t1 & 2020-09-24 & 46.3 & 46.65 & 46.0 & 46.35 & 4728562 \\\\\n",
       "\t2 & 2020-09-25 & 46.1 & 46.9 & 46.05 & 46.55 & 3907163 \\\\\n",
       "\t3 & 2020-09-28 & 46.85 & 47.0 & 46.4 & 46.55 & 4628062 \\\\\n",
       "\t4 & 2020-09-29 & 46.25 & 46.6 & 46.1 & 46.5 & 5319638 \\\\\n",
       "\t5 & 2020-09-30 & 46.15 & 47.15 & 46.15 & 46.6 & 6518072 \\\\\n",
       "\\end{tabular}\n"
      ],
      "text/plain": [
       "5×6 DataFrame\n",
       "│ Row │ Date       │ Open    │ High    │ Low     │ Close   │ Volume  │\n",
       "│     │ \u001b[90mDate\u001b[39m       │ \u001b[90mFloat64\u001b[39m │ \u001b[90mFloat64\u001b[39m │ \u001b[90mFloat64\u001b[39m │ \u001b[90mFloat64\u001b[39m │ \u001b[90mInt64\u001b[39m   │\n",
       "├─────┼────────────┼─────────┼─────────┼─────────┼─────────┼─────────┤\n",
       "│ 1   │ 2020-09-24 │ 46.3    │ 46.65   │ 46.0    │ 46.35   │ 4728562 │\n",
       "│ 2   │ 2020-09-25 │ 46.1    │ 46.9    │ 46.05   │ 46.55   │ 3907163 │\n",
       "│ 3   │ 2020-09-28 │ 46.85   │ 47.0    │ 46.4    │ 46.55   │ 4628062 │\n",
       "│ 4   │ 2020-09-29 │ 46.25   │ 46.6    │ 46.1    │ 46.5    │ 5319638 │\n",
       "│ 5   │ 2020-09-30 │ 46.15   │ 47.15   │ 46.15   │ 46.6    │ 6518072 │"
      ]
     },
     "execution_count": 5,
     "metadata": {},
     "output_type": "execute_result"
    }
   ],
   "source": [
    "last(df, 5) # last 5 rows"
   ]
  },
  {
   "cell_type": "code",
   "execution_count": 6,
   "metadata": {},
   "outputs": [
    {
     "data": {
      "text/html": [
       "<table class=\"data-frame\"><thead><tr><th></th><th>variable</th><th>mean</th><th>min</th><th>median</th><th>max</th><th>nunique</th><th>nmissing</th><th>eltype</th></tr><tr><th></th><th>Symbol</th><th>Union…</th><th>Any</th><th>Union…</th><th>Any</th><th>Union…</th><th>Nothing</th><th>DataType</th></tr></thead><tbody><p>6 rows × 8 columns</p><tr><th>1</th><td>Date</td><td></td><td>2000-01-04</td><td></td><td>2020-09-30</td><td>5180</td><td></td><td>Date</td></tr><tr><th>2</th><td>Open</td><td>51.3261</td><td>14.33</td><td>48.2606</td><td>104.406</td><td></td><td></td><td>Float64</td></tr><tr><th>3</th><td>High</td><td>51.8139</td><td>14.69</td><td>48.7607</td><td>104.645</td><td></td><td></td><td>Float64</td></tr><tr><th>4</th><td>Low</td><td>50.7815</td><td>14.33</td><td>47.6</td><td>101.963</td><td></td><td></td><td>Float64</td></tr><tr><th>5</th><td>Close</td><td>51.2954</td><td>14.582</td><td>48.1273</td><td>103.03</td><td></td><td></td><td>Float64</td></tr><tr><th>6</th><td>Volume</td><td>7.05069e6</td><td>0</td><td>6.16829e6</td><td>80792271</td><td></td><td></td><td>Int64</td></tr></tbody></table>"
      ],
      "text/latex": [
       "\\begin{tabular}{r|cccccccc}\n",
       "\t& variable & mean & min & median & max & nunique & nmissing & eltype\\\\\n",
       "\t\\hline\n",
       "\t& Symbol & Union… & Any & Union… & Any & Union… & Nothing & DataType\\\\\n",
       "\t\\hline\n",
       "\t1 & Date &  & 2000-01-04 &  & 2020-09-30 & 5180 &  & Date \\\\\n",
       "\t2 & Open & 51.3261 & 14.33 & 48.2606 & 104.406 &  &  & Float64 \\\\\n",
       "\t3 & High & 51.8139 & 14.69 & 48.7607 & 104.645 &  &  & Float64 \\\\\n",
       "\t4 & Low & 50.7815 & 14.33 & 47.6 & 101.963 &  &  & Float64 \\\\\n",
       "\t5 & Close & 51.2954 & 14.582 & 48.1273 & 103.03 &  &  & Float64 \\\\\n",
       "\t6 & Volume & 7.05069e6 & 0 & 6.16829e6 & 80792271 &  &  & Int64 \\\\\n",
       "\\end{tabular}\n"
      ],
      "text/plain": [
       "6×8 DataFrame. Omitted printing of 2 columns\n",
       "│ Row │ variable │ mean      │ min        │ median    │ max        │ nunique │\n",
       "│     │ \u001b[90mSymbol\u001b[39m   │ \u001b[90mUnion…\u001b[39m    │ \u001b[90mAny\u001b[39m        │ \u001b[90mUnion…\u001b[39m    │ \u001b[90mAny\u001b[39m        │ \u001b[90mUnion…\u001b[39m  │\n",
       "├─────┼──────────┼───────────┼────────────┼───────────┼────────────┼─────────┤\n",
       "│ 1   │ Date     │           │ 2000-01-04 │           │ 2020-09-30 │ 5180    │\n",
       "│ 2   │ Open     │ 51.3261   │ 14.33      │ 48.2606   │ 104.406    │         │\n",
       "│ 3   │ High     │ 51.8139   │ 14.69      │ 48.7607   │ 104.645    │         │\n",
       "│ 4   │ Low      │ 50.7815   │ 14.33      │ 47.6      │ 101.963    │         │\n",
       "│ 5   │ Close    │ 51.2954   │ 14.582     │ 48.1273   │ 103.03     │         │\n",
       "│ 6   │ Volume   │ 7.05069e6 │ 0          │ 6.16829e6 │ 80792271   │         │"
      ]
     },
     "execution_count": 6,
     "metadata": {},
     "output_type": "execute_result"
    }
   ],
   "source": [
    "describe(df)"
   ]
  },
  {
   "cell_type": "code",
   "execution_count": 7,
   "metadata": {},
   "outputs": [
    {
     "data": {
      "text/plain": [
       "6-element Array{String,1}:\n",
       " \"Date\"\n",
       " \"Open\"\n",
       " \"High\"\n",
       " \"Low\"\n",
       " \"Close\"\n",
       " \"Volume\""
      ]
     },
     "execution_count": 7,
     "metadata": {},
     "output_type": "execute_result"
    }
   ],
   "source": [
    "names(df) # column names"
   ]
  },
  {
   "cell_type": "code",
   "execution_count": 8,
   "metadata": {},
   "outputs": [
    {
     "data": {
      "text/plain": [
       "6-element Array{Symbol,1}:\n",
       " :Date\n",
       " :Open\n",
       " :High\n",
       " :Low\n",
       " :Close\n",
       " :Volume"
      ]
     },
     "execution_count": 8,
     "metadata": {},
     "output_type": "execute_result"
    }
   ],
   "source": [
    "propertynames(df)"
   ]
  },
  {
   "cell_type": "markdown",
   "metadata": {},
   "source": [
    "#### Select row within date range"
   ]
  },
  {
   "cell_type": "code",
   "execution_count": 9,
   "metadata": {},
   "outputs": [
    {
     "data": {
      "text/html": [
       "<p>DataFrameRow (6 columns)</p><table class=\"data-frame\"><thead><tr><th></th><th>Date</th><th>Open</th><th>High</th><th>Low</th><th>Close</th><th>Volume</th></tr><tr><th></th><th>Date</th><th>Float64</th><th>Float64</th><th>Float64</th><th>Float64</th><th>Int64</th></tr></thead><tbody><tr><th>1</th><td>2017-01-03</td><td>76.9772</td><td>78.6666</td><td>76.2407</td><td>78.6666</td><td>5620699</td></tr></tbody></table>"
      ],
      "text/latex": [
       "\\begin{tabular}{r|cccccc}\n",
       "\t& Date & Open & High & Low & Close & Volume\\\\\n",
       "\t\\hline\n",
       "\t& Date & Float64 & Float64 & Float64 & Float64 & Int64\\\\\n",
       "\t\\hline\n",
       "\t1 & 2017-01-03 & 76.9772 & 78.6666 & 76.2407 & 78.6666 & 5620699 \\\\\n",
       "\\end{tabular}\n"
      ],
      "text/plain": [
       "DataFrameRow\n",
       "│ Row │ Date       │ Open    │ High    │ Low     │ Close   │ Volume  │\n",
       "│     │ \u001b[90mDate\u001b[39m       │ \u001b[90mFloat64\u001b[39m │ \u001b[90mFloat64\u001b[39m │ \u001b[90mFloat64\u001b[39m │ \u001b[90mFloat64\u001b[39m │ \u001b[90mInt64\u001b[39m   │\n",
       "├─────┼────────────┼─────────┼─────────┼─────────┼─────────┼─────────┤\n",
       "│ 1   │ 2017-01-03 │ 76.9772 │ 78.6666 │ 76.2407 │ 78.6666 │ 5620699 │"
      ]
     },
     "execution_count": 9,
     "metadata": {},
     "output_type": "execute_result"
    }
   ],
   "source": [
    "first(df[(df.Date .> Date(2017, 1)) .& (df.Date .< Date(2019, 1)), :])"
   ]
  },
  {
   "cell_type": "code",
   "execution_count": 10,
   "metadata": {},
   "outputs": [
    {
     "name": "stdout",
     "output_type": "stream",
     "text": [
      "[(2017, 1), (2018, 1)]"
     ]
    },
    {
     "data": {
      "text/html": [
       "<table class=\"data-frame\"><thead><tr><th></th><th>Date</th><th>Open</th><th>High</th><th>Low</th><th>Close</th><th>Volume</th></tr><tr><th></th><th>Date</th><th>Float64</th><th>Float64</th><th>Float64</th><th>Float64</th><th>Int64</th></tr></thead><tbody><p>10 rows × 6 columns</p><tr><th>1</th><td>2017-01-03</td><td>76.9772</td><td>78.6666</td><td>76.2407</td><td>78.6666</td><td>5620699</td></tr><tr><th>2</th><td>2017-01-04</td><td>78.7965</td><td>78.8832</td><td>77.4103</td><td>78.1034</td><td>3966484</td></tr><tr><th>3</th><td>2017-01-05</td><td>79.0565</td><td>79.0565</td><td>78.0168</td><td>78.58</td><td>3496704</td></tr><tr><th>4</th><td>2017-01-06</td><td>78.7532</td><td>78.7965</td><td>77.6269</td><td>78.1034</td><td>5549846</td></tr><tr><th>5</th><td>2017-01-09</td><td>78.8399</td><td>78.8399</td><td>77.7136</td><td>77.9735</td><td>4810131</td></tr><tr><th>6</th><td>2017-01-10</td><td>77.8002</td><td>78.7965</td><td>77.8002</td><td>78.7965</td><td>4893132</td></tr><tr><th>7</th><td>2017-01-11</td><td>78.6666</td><td>80.1394</td><td>78.4933</td><td>79.9228</td><td>5943878</td></tr><tr><th>8</th><td>2017-01-12</td><td>80.0528</td><td>80.0528</td><td>79.0998</td><td>79.3597</td><td>4247629</td></tr><tr><th>9</th><td>2017-01-13</td><td>79.2731</td><td>79.8362</td><td>79.0131</td><td>79.7496</td><td>4235011</td></tr><tr><th>10</th><td>2017-01-16</td><td>79.4463</td><td>79.4463</td><td>77.9735</td><td>78.4933</td><td>3958313</td></tr></tbody></table>"
      ],
      "text/latex": [
       "\\begin{tabular}{r|cccccc}\n",
       "\t& Date & Open & High & Low & Close & Volume\\\\\n",
       "\t\\hline\n",
       "\t& Date & Float64 & Float64 & Float64 & Float64 & Int64\\\\\n",
       "\t\\hline\n",
       "\t1 & 2017-01-03 & 76.9772 & 78.6666 & 76.2407 & 78.6666 & 5620699 \\\\\n",
       "\t2 & 2017-01-04 & 78.7965 & 78.8832 & 77.4103 & 78.1034 & 3966484 \\\\\n",
       "\t3 & 2017-01-05 & 79.0565 & 79.0565 & 78.0168 & 78.58 & 3496704 \\\\\n",
       "\t4 & 2017-01-06 & 78.7532 & 78.7965 & 77.6269 & 78.1034 & 5549846 \\\\\n",
       "\t5 & 2017-01-09 & 78.8399 & 78.8399 & 77.7136 & 77.9735 & 4810131 \\\\\n",
       "\t6 & 2017-01-10 & 77.8002 & 78.7965 & 77.8002 & 78.7965 & 4893132 \\\\\n",
       "\t7 & 2017-01-11 & 78.6666 & 80.1394 & 78.4933 & 79.9228 & 5943878 \\\\\n",
       "\t8 & 2017-01-12 & 80.0528 & 80.0528 & 79.0998 & 79.3597 & 4247629 \\\\\n",
       "\t9 & 2017-01-13 & 79.2731 & 79.8362 & 79.0131 & 79.7496 & 4235011 \\\\\n",
       "\t10 & 2017-01-16 & 79.4463 & 79.4463 & 77.9735 & 78.4933 & 3958313 \\\\\n",
       "\\end{tabular}\n"
      ],
      "text/plain": [
       "10×6 DataFrame\n",
       "│ Row │ Date       │ Open    │ High    │ Low     │ Close   │ Volume  │\n",
       "│     │ \u001b[90mDate\u001b[39m       │ \u001b[90mFloat64\u001b[39m │ \u001b[90mFloat64\u001b[39m │ \u001b[90mFloat64\u001b[39m │ \u001b[90mFloat64\u001b[39m │ \u001b[90mInt64\u001b[39m   │\n",
       "├─────┼────────────┼─────────┼─────────┼─────────┼─────────┼─────────┤\n",
       "│ 1   │ 2017-01-03 │ 76.9772 │ 78.6666 │ 76.2407 │ 78.6666 │ 5620699 │\n",
       "│ 2   │ 2017-01-04 │ 78.7965 │ 78.8832 │ 77.4103 │ 78.1034 │ 3966484 │\n",
       "│ 3   │ 2017-01-05 │ 79.0565 │ 79.0565 │ 78.0168 │ 78.58   │ 3496704 │\n",
       "│ 4   │ 2017-01-06 │ 78.7532 │ 78.7965 │ 77.6269 │ 78.1034 │ 5549846 │\n",
       "│ 5   │ 2017-01-09 │ 78.8399 │ 78.8399 │ 77.7136 │ 77.9735 │ 4810131 │\n",
       "│ 6   │ 2017-01-10 │ 77.8002 │ 78.7965 │ 77.8002 │ 78.7965 │ 4893132 │\n",
       "│ 7   │ 2017-01-11 │ 78.6666 │ 80.1394 │ 78.4933 │ 79.9228 │ 5943878 │\n",
       "│ 8   │ 2017-01-12 │ 80.0528 │ 80.0528 │ 79.0998 │ 79.3597 │ 4247629 │\n",
       "│ 9   │ 2017-01-13 │ 79.2731 │ 79.8362 │ 79.0131 │ 79.7496 │ 4235011 │\n",
       "│ 10  │ 2017-01-16 │ 79.4463 │ 79.4463 │ 77.9735 │ 78.4933 │ 3958313 │"
      ]
     },
     "execution_count": 10,
     "metadata": {},
     "output_type": "execute_result"
    }
   ],
   "source": [
    "dates = [Date(2017, 1),Date(2018)];\n",
    "yms = [yearmonth(d) for d in dates];\n",
    "print(yms)\n",
    "\n",
    "first(df[in(yms).(yearmonth.(df.Date)), :], 10)"
   ]
  },
  {
   "cell_type": "markdown",
   "metadata": {},
   "source": [
    "#### Select column"
   ]
  },
  {
   "cell_type": "code",
   "execution_count": 11,
   "metadata": {},
   "outputs": [
    {
     "data": {
      "text/html": [
       "<table class=\"data-frame\"><thead><tr><th></th><th>Close</th></tr><tr><th></th><th>Float64</th></tr></thead><tbody><p>5 rows × 1 columns</p><tr><th>1</th><td>32.3767</td></tr><tr><th>2</th><td>30.1467</td></tr><tr><th>3</th><td>28.66</td></tr><tr><th>4</th><td>29.2381</td></tr><tr><th>5</th><td>29.4859</td></tr></tbody></table>"
      ],
      "text/latex": [
       "\\begin{tabular}{r|c}\n",
       "\t& Close\\\\\n",
       "\t\\hline\n",
       "\t& Float64\\\\\n",
       "\t\\hline\n",
       "\t1 & 32.3767 \\\\\n",
       "\t2 & 30.1467 \\\\\n",
       "\t3 & 28.66 \\\\\n",
       "\t4 & 29.2381 \\\\\n",
       "\t5 & 29.4859 \\\\\n",
       "\\end{tabular}\n"
      ],
      "text/plain": [
       "5×1 DataFrame\n",
       "│ Row │ Close   │\n",
       "│     │ \u001b[90mFloat64\u001b[39m │\n",
       "├─────┼─────────┤\n",
       "│ 1   │ 32.3767 │\n",
       "│ 2   │ 30.1467 │\n",
       "│ 3   │ 28.66   │\n",
       "│ 4   │ 29.2381 │\n",
       "│ 5   │ 29.4859 │"
      ]
     },
     "execution_count": 11,
     "metadata": {},
     "output_type": "execute_result"
    }
   ],
   "source": [
    "close = select(df, :Close) # select column\n",
    "first(close, 5)"
   ]
  },
  {
   "cell_type": "code",
   "execution_count": 12,
   "metadata": {},
   "outputs": [
    {
     "data": {
      "text/html": [
       "<table class=\"data-frame\"><thead><tr><th></th><th>Date</th></tr><tr><th></th><th>Date</th></tr></thead><tbody><p>5 rows × 1 columns</p><tr><th>1</th><td>2000-01-04</td></tr><tr><th>2</th><td>2000-01-05</td></tr><tr><th>3</th><td>2000-01-06</td></tr><tr><th>4</th><td>2000-01-07</td></tr><tr><th>5</th><td>2000-01-10</td></tr></tbody></table>"
      ],
      "text/latex": [
       "\\begin{tabular}{r|c}\n",
       "\t& Date\\\\\n",
       "\t\\hline\n",
       "\t& Date\\\\\n",
       "\t\\hline\n",
       "\t1 & 2000-01-04 \\\\\n",
       "\t2 & 2000-01-05 \\\\\n",
       "\t3 & 2000-01-06 \\\\\n",
       "\t4 & 2000-01-07 \\\\\n",
       "\t5 & 2000-01-10 \\\\\n",
       "\\end{tabular}\n"
      ],
      "text/plain": [
       "5×1 DataFrame\n",
       "│ Row │ Date       │\n",
       "│     │ \u001b[90mDate\u001b[39m       │\n",
       "├─────┼────────────┤\n",
       "│ 1   │ 2000-01-04 │\n",
       "│ 2   │ 2000-01-05 │\n",
       "│ 3   │ 2000-01-06 │\n",
       "│ 4   │ 2000-01-07 │\n",
       "│ 5   │ 2000-01-10 │"
      ]
     },
     "execution_count": 12,
     "metadata": {},
     "output_type": "execute_result"
    }
   ],
   "source": [
    "date = select(df, :Date)\n",
    "first(date, 5)"
   ]
  },
  {
   "cell_type": "markdown",
   "metadata": {},
   "source": [
    "#### Save dataframe as csv"
   ]
  },
  {
   "cell_type": "code",
   "execution_count": null,
   "metadata": {},
   "outputs": [],
   "source": [
    "CSV.write(\"test.csv\", df)"
   ]
  },
  {
   "cell_type": "code",
   "execution_count": null,
   "metadata": {},
   "outputs": [],
   "source": []
  }
 ],
 "metadata": {
  "kernelspec": {
   "display_name": "Julia 1.5.2",
   "language": "julia",
   "name": "julia-1.5"
  },
  "language_info": {
   "file_extension": ".jl",
   "mimetype": "application/julia",
   "name": "julia",
   "version": "1.5.2"
  }
 },
 "nbformat": 4,
 "nbformat_minor": 2
}
