{
 "cells": [
  {
   "cell_type": "code",
   "execution_count": null,
   "metadata": {},
   "outputs": [],
   "source": [
    "import Pkg; \n",
    "\n",
    "Pkg.add(\"CSV\") # install CSV\n",
    "Pkg.add(\"DataFrames\") # install Dataframes\n",
    "Pkg.add(\"TimeSeries\")\n",
    "Pkg.add(\"Pandas\")\n",
    "Pkg.add(\"Plots\") # plotting dataframe\n",
    "Pkg.add(\"StatsPlots\")\n",
    "Pkg.add(\"RollingFunctions\") # rolling functions"
   ]
  },
  {
   "cell_type": "code",
   "execution_count": null,
   "metadata": {},
   "outputs": [],
   "source": [
    "# import libraries\n",
    "using CSV;\n",
    "using Dates;\n",
    "using DataFrames;\n",
    "using Statistics;\n",
    "using Plots;\n",
    "using StatsPlots;\n",
    "using RollingFunctions;"
   ]
  },
  {
   "cell_type": "code",
   "execution_count": null,
   "metadata": {},
   "outputs": [],
   "source": [
    "# load data\n",
    "df = CSV.File(\"../../database/hkex_ticks_day/hkex_0001.csv\") |> DataFrame\n",
    "\n",
    "first(df,5)"
   ]
  },
  {
   "cell_type": "markdown",
   "metadata": {},
   "source": [
    "### 1. Exploratory Data Analysis (EDA)"
   ]
  },
  {
   "cell_type": "code",
   "execution_count": null,
   "metadata": {},
   "outputs": [],
   "source": [
    "first(df, 5) # show first 5 rows"
   ]
  },
  {
   "cell_type": "code",
   "execution_count": null,
   "metadata": {},
   "outputs": [],
   "source": [
    "last(df, 5) # last 5 rows"
   ]
  },
  {
   "cell_type": "code",
   "execution_count": null,
   "metadata": {},
   "outputs": [],
   "source": [
    "describe(df)"
   ]
  },
  {
   "cell_type": "code",
   "execution_count": null,
   "metadata": {},
   "outputs": [],
   "source": [
    "CSV.write(\"test.csv\", df) # save as csv"
   ]
  },
  {
   "cell_type": "code",
   "execution_count": null,
   "metadata": {},
   "outputs": [],
   "source": [
    "names(df) # column names"
   ]
  },
  {
   "cell_type": "code",
   "execution_count": null,
   "metadata": {},
   "outputs": [],
   "source": [
    "show(df, allrows=true) "
   ]
  },
  {
   "cell_type": "code",
   "execution_count": null,
   "metadata": {},
   "outputs": [],
   "source": [
    "propertynames(df)"
   ]
  },
  {
   "cell_type": "code",
   "execution_count": null,
   "metadata": {},
   "outputs": [],
   "source": [
    "# select row within date range\n",
    "first(df[(df.Date .> Date(2017, 1)) .& (df.Date .< Date(2019, 1)), :])"
   ]
  },
  {
   "cell_type": "code",
   "execution_count": null,
   "metadata": {},
   "outputs": [],
   "source": [
    "dates = [Date(2017, 1),Date(2018)];\n",
    "yms = [yearmonth(d) for d in dates];\n",
    "print(yms)\n",
    "\n",
    "first(df[in(yms).(yearmonth.(df.Date)), :], 10)"
   ]
  },
  {
   "cell_type": "code",
   "execution_count": null,
   "metadata": {},
   "outputs": [],
   "source": [
    "close = select(df, :Close) # select column\n",
    "first(close, 5)"
   ]
  },
  {
   "cell_type": "code",
   "execution_count": null,
   "metadata": {},
   "outputs": [],
   "source": [
    "date = select(df, :Date)\n",
    "first(date, 5)"
   ]
  },
  {
   "cell_type": "markdown",
   "metadata": {},
   "source": [
    "### 2. Building trading strategy"
   ]
  },
  {
   "cell_type": "code",
   "execution_count": null,
   "metadata": {},
   "outputs": [],
   "source": [
    "signals = df[:,[:Date, :Close]]\n",
    "\n",
    "first(signals,5)"
   ]
  },
  {
   "cell_type": "code",
   "execution_count": null,
   "metadata": {},
   "outputs": [],
   "source": [
    "short_window = 40\n",
    "close = convert(Matrix, select(df, :Close)) # get closing price\n",
    "\n",
    "short_mavg = runmean(vec(close), short_window)\n",
    "insertcols!(signals, 1, :short_mavg => short_mavg)\n",
    "\n",
    "first(signals, 5)"
   ]
  },
  {
   "cell_type": "code",
   "execution_count": null,
   "metadata": {},
   "outputs": [],
   "source": [
    "long_window = 100\n",
    "\n",
    "long_mavg = runmean(vec(close), long_window)\n",
    "insertcols!(signals, 1, :long_mavg => long_mavg)\n",
    "\n",
    "first(signals, 5)"
   ]
  },
  {
   "cell_type": "code",
   "execution_count": null,
   "metadata": {},
   "outputs": [],
   "source": [
    "# create signals\n",
    "signal = Float64[]\n",
    "        \n",
    "for i in 1:length(short_mavg)\n",
    "    if short_mavg[i] > long_mavg[i]\n",
    "        x = 1.0\n",
    "    else\n",
    "        x = 0.0\n",
    "    end\n",
    "    \n",
    "    push!(signal, x)\n",
    "end\n",
    "\n",
    "insertcols!(signals, 1, :signal => signal)\n",
    "\n",
    "first(signals, 5)"
   ]
  },
  {
   "cell_type": "code",
   "execution_count": null,
   "metadata": {},
   "outputs": [],
   "source": [
    "function gen_pos(signal)\n",
    "    positions = zeros(length(signal))\n",
    "    positions[1] = 0\n",
    "    for i in 2:length(signal)\n",
    "        positions[i] = signal[i] - signal[i-1]\n",
    "    end\n",
    "    return positions\n",
    "end\n",
    "\n",
    "positions = gen_pos(signal)\n",
    "\n",
    "insertcols!(signals, 1, :positions => positions)\n",
    "\n",
    "first(signals, 5)"
   ]
  },
  {
   "cell_type": "code",
   "execution_count": null,
   "metadata": {},
   "outputs": [],
   "source": [
    "#mycolours = [:green :orange]\n",
    "#plot(:Date, :short_mavg, group=:ma, linestyle = :solid, linewidth=1, label = \"short_mavg\", color=mycolours)\n",
    "\n",
    "df = DataFrame(\n",
    "  fruit       = [\"orange\",\"orange\",\"orange\",\"orange\",\"apple\",\"apple\",\"apple\",\"apple\"],\n",
    "  year        = [2010,2011,2012,2013,2010,2011,2012,2013],\n",
    "  production  = [120,150,170,160,100,130,165,158],\n",
    "  consumption = [70,90,100,95,   80,95,110,120]\n",
    ")\n",
    "\n",
    "pyplot()\n",
    "mycolours = [:green :orange] # note that the serie is piled up alphabetically\n",
    "@df df plot(:year, :production, group=:fruit, linestyle = :solid, linewidth=3, label = reshape((\"Production of \" .* sort(unique(:fruit))),(1,:)), color=mycolours)\n",
    "@df df plot!(:year, :consumption, group=:fruit, linestyle = :dot, linewidth=3, label = reshape((\"Consumption of \" .* sort(unique(:fruit))),(1,:)), color=mycolours)"
   ]
  },
  {
   "cell_type": "code",
   "execution_count": null,
   "metadata": {},
   "outputs": [],
   "source": [
    "pyplot()\n",
    "\n",
    "@df signals plot(:Date, :short_mavg, linestyle = :solid, linewidth=1, label=\"Short MA\", color=\"blue\")\n",
    "@df signals plot!(:Date, :long_mavg, linestyle = :solid, linewidth=1, label=\"Long MA\", color=\"orange\")\n",
    "#@df signals plot!(:Date, :Close, linestyle = :solid, linewidth=0.5, label=\"Closing price\", color=\"red\")\n",
    "\n",
    "ys = Vector[rand(10), rand(20)]\n",
    "@df signals plot!(:Date, :short_mavg, color = [:black :orange], line = (:dot, 1), marker = ([:hex :d], 1, 0.8, Plots.stroke(1, :gray)))"
   ]
  },
  {
   "cell_type": "code",
   "execution_count": null,
   "metadata": {},
   "outputs": [],
   "source": [
    "# plot buy signal\n",
    "signals[(signals[:positions] .== 1),:]"
   ]
  },
  {
   "cell_type": "code",
   "execution_count": null,
   "metadata": {},
   "outputs": [],
   "source": []
  }
 ],
 "metadata": {
  "kernelspec": {
   "display_name": "Julia 1.5.2",
   "language": "julia",
   "name": "julia-1.5"
  },
  "language_info": {
   "file_extension": ".jl",
   "mimetype": "application/julia",
   "name": "julia",
   "version": "1.5.2"
  }
 },
 "nbformat": 4,
 "nbformat_minor": 2
}
